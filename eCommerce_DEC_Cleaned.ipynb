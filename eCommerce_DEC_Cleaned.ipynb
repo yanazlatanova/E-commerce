{
 "cells": [
  {
   "cell_type": "code",
   "execution_count": 41,
   "metadata": {},
   "outputs": [
    {
     "name": "stdout",
     "output_type": "stream",
     "text": [
      "C:\\Users\\anama\\anaconda3\\envs\\Bigdata\\Lib\\site-packages\\pyspark\n"
     ]
    }
   ],
   "source": [
    "from pyspark.find_spark_home import _find_spark_home\n",
    "from pyspark.sql import SparkSession\n",
    "from pyspark import SparkConf, StorageLevel\n",
    "from pyspark.sql.functions import col, split, expr\n",
    "import pyspark.sql.functions as F\n",
    "from pyspark.sql.types import IntegerType\n",
    "import os\n",
    "\n",
    "from dotenv import load_dotenv\n",
    "load_dotenv()\n",
    "\n",
    "print(_find_spark_home())"
   ]
  },
  {
   "cell_type": "code",
   "execution_count": 42,
   "metadata": {},
   "outputs": [],
   "source": [
    "python_path = os.environ.get('PYTHON_PATH')\n",
    "app_name_dec = os.environ.get('APP_NAME_DEC')\n",
    "hadoop_path_dec = os.environ.get('HADOOP_DEC_DATASET_PATH')"
   ]
  },
  {
   "cell_type": "code",
   "execution_count": 43,
   "metadata": {},
   "outputs": [
    {
     "name": "stdout",
     "output_type": "stream",
     "text": [
      "('spark.dynamicAllocation.minExecutors', '1')\n",
      "('spark.app.startTime', '1702906231819')\n",
      "('spark.driver.memory', '4g')\n",
      "('spark.dynamicAllocation.maxExecutors', '10')\n",
      "('spark.app.id', 'local-1702906233502')\n",
      "('spark.driver.extraJavaOptions', '-Djava.net.preferIPv6Addresses=false -XX:+IgnoreUnrecognizedVMOptions --add-opens=java.base/java.lang=ALL-UNNAMED --add-opens=java.base/java.lang.invoke=ALL-UNNAMED --add-opens=java.base/java.lang.reflect=ALL-UNNAMED --add-opens=java.base/java.io=ALL-UNNAMED --add-opens=java.base/java.net=ALL-UNNAMED --add-opens=java.base/java.nio=ALL-UNNAMED --add-opens=java.base/java.util=ALL-UNNAMED --add-opens=java.base/java.util.concurrent=ALL-UNNAMED --add-opens=java.base/java.util.concurrent.atomic=ALL-UNNAMED --add-opens=java.base/sun.nio.ch=ALL-UNNAMED --add-opens=java.base/sun.nio.cs=ALL-UNNAMED --add-opens=java.base/sun.security.action=ALL-UNNAMED --add-opens=java.base/sun.util.calendar=ALL-UNNAMED --add-opens=java.security.jgss/sun.security.krb5=ALL-UNNAMED -Djdk.reflect.useDirectMethodHandle=false')\n",
      "('spark-local-dir', 'C:\\\\spark-temp')\n",
      "('spark.serializer.objectStreamReset', '100')\n",
      "('spark.pyspark.driver.python', 'C:\\\\\\\\Users\\\\\\\\anama\\\\\\\\anaconda3\\\\\\\\envs\\\\\\\\Bigdata\\\\\\\\python.exe')\n",
      "('spark.master', 'local[*]')\n",
      "('spark.driver.port', '64279')\n",
      "('spark.dynamicAllocation.executorIdleTimeout', '60s')\n",
      "('spark.submit.deployMode', 'client')\n",
      "('spark.pyspark.python', 'C:\\\\\\\\Users\\\\\\\\anama\\\\\\\\anaconda3\\\\\\\\envs\\\\\\\\Bigdata\\\\\\\\python.exe')\n",
      "('spark.executor.extraJavaOptions', '-Djava.net.preferIPv6Addresses=false -XX:+IgnoreUnrecognizedVMOptions --add-opens=java.base/java.lang=ALL-UNNAMED --add-opens=java.base/java.lang.invoke=ALL-UNNAMED --add-opens=java.base/java.lang.reflect=ALL-UNNAMED --add-opens=java.base/java.io=ALL-UNNAMED --add-opens=java.base/java.net=ALL-UNNAMED --add-opens=java.base/java.nio=ALL-UNNAMED --add-opens=java.base/java.util=ALL-UNNAMED --add-opens=java.base/java.util.concurrent=ALL-UNNAMED --add-opens=java.base/java.util.concurrent.atomic=ALL-UNNAMED --add-opens=java.base/sun.nio.ch=ALL-UNNAMED --add-opens=java.base/sun.nio.cs=ALL-UNNAMED --add-opens=java.base/sun.security.action=ALL-UNNAMED --add-opens=java.base/sun.util.calendar=ALL-UNNAMED --add-opens=java.security.jgss/sun.security.krb5=ALL-UNNAMED -Djdk.reflect.useDirectMethodHandle=false')\n",
      "('spark.shuffle.service.enabled', 'true')\n",
      "('spark.executor.memory', '4g')\n",
      "('spark.app.submitTime', '1702906231656')\n",
      "('spark.executor.id', 'driver')\n",
      "('spark.network.timeout', '800s')\n",
      "('spark.driver.host', '194.47.44.220')\n",
      "('spark.rdd.compress', 'True')\n",
      "('spark.driver.maxResultSize', '2g')\n",
      "('spark.submit.pyFiles', '')\n",
      "('spark.sql.warehouse.dir', 'file:/C:/Users/anama/Big%20Data/E-commerce/spark-warehouse')\n",
      "('spark.dynamicAllocation.enabled', 'true')\n",
      "('spark.ui.showConsoleProgress', 'true')\n",
      "('spark.app.name', 'ecommerce')\n"
     ]
    }
   ],
   "source": [
    "conf = SparkConf()\\\n",
    "    .setMaster('local[*]')\\\n",
    "    .set('spark-local-dir', \"C:\\\\spark-temp\")\\\n",
    "    .set('spark.driver.memory', '4g')\\\n",
    "    .set('spark.executor.memory', '4g')\\\n",
    "    .set('spark.driver.maxResultSize', '2g')\\\n",
    "    .set('spark.pyspark.python', python_path)\\\n",
    "    .set('spark.pyspark.driver.python', python_path)\\\n",
    "    .set(\"spark.network.timeout\",\"800s\")\\\n",
    "    .set(\"spark.dynamicAllocation.enabled\", \"true\")\\\n",
    "    .set(\"spark.shuffle.service.enabled\", \"true\")\\\n",
    "    .set(\"spark.dynamicAllocation.minExecutors\", \"1\")\\\n",
    "    .set(\"spark.dynamicAllocation.maxExecutors\", \"10\")\\\n",
    "    .set(\"spark.dynamicAllocation.executorIdleTimeout\", \"60s\")\\\n",
    "\n",
    "spark = SparkSession.builder.appName(app_name_dec).config(conf=conf).getOrCreate()\n",
    "sc = spark.sparkContext\n",
    "\n",
    "for item in sc.getConf().getAll(): print(item)"
   ]
  },
  {
   "cell_type": "code",
   "execution_count": 44,
   "metadata": {},
   "outputs": [
    {
     "name": "stdout",
     "output_type": "stream",
     "text": [
      "+-------------------+----------+----------+-------------------+--------------------+-------+-------+---------+--------------------+\n",
      "|         event_time|event_type|product_id|        category_id|       category_code|  brand|  price|  user_id|        user_session|\n",
      "+-------------------+----------+----------+-------------------+--------------------+-------+-------+---------+--------------------+\n",
      "|2019-12-01 01:00:00|      view|   1005105|2232732093077520756|construction.tool...|  apple|1302.48|556695836|ca5eefc5-11f9-450...|\n",
      "|2019-12-01 01:00:00|      view|  22700068|2232732091643068746|                null|  force| 102.96|577702456|de33debe-c7bf-44e...|\n",
      "|2019-12-01 01:00:01|      view|   2402273|2232732100769874463|appliances.person...|  bosch| 313.52|539453785|5ee185a7-0689-4a3...|\n",
      "|2019-12-01 01:00:02|  purchase|  26400248|2053013553056579841|computers.periphe...|   null| 132.31|535135317|61792a26-672f-4e6...|\n",
      "|2019-12-01 01:00:02|      view|  20100164|2232732110089618156|    apparel.trousers|   nika| 101.68|517987650|906c6ca8-ff5c-419...|\n",
      "|2019-12-01 01:00:02|      view| 100008256|2053013561185141473|accessories.umbrella|   ikea| 163.56|542860793|a1bcb550-1065-476...|\n",
      "|2019-12-01 01:00:02|      view|  21400264|2053013561579406073|  electronics.clocks|   null|  88.81|538021416|e88f77cc-e75e-4e9...|\n",
      "|2019-12-01 01:00:03|      view|   1005239|2232732093077520756|construction.tool...| xiaomi| 256.38|525740700|370e8c88-3d07-41d...|\n",
      "|2019-12-01 01:00:04|      view|   5100885|2053013553375346967|  computers.notebook|    jet|  20.57|512509221|4227259f-1c4c-41d...|\n",
      "|2019-12-01 01:00:04|      view|  26205399|2232732081585127530|construction.comp...|   null| 179.16|553345124|58c692ff-c7a9-4e3...|\n",
      "|2019-12-01 01:00:04|      view|  22900009|2053013553375346967|  computers.notebook|  vegas|  49.94|554369617|a4481ea8-9a20-442...|\n",
      "|2019-12-01 01:00:04|      view|   1004233|2232732093077520756|construction.tool...|  apple|1312.52|579969851|90aca71c-ed8a-467...|\n",
      "|2019-12-01 01:00:05|      view|  22700202|2232732091643068746|                null|  stels| 171.18|575086722|05a5e4f4-1865-4b0...|\n",
      "|2019-12-01 01:00:06|      view|   1004856|2232732093077520756|construction.tool...|samsung| 124.11|532554953|4bd14129-caad-4de...|\n",
      "|2019-12-01 01:00:06|      view|   3701309|2053013565983425517|appliances.enviro...|polaris|  89.32|543733099|a65116f4-ac53-4a4...|\n",
      "|2019-12-01 01:00:07|      view|  11500445|2053013552259662037|computers.compone...| xiaomi|  27.77|526844203|5e62045f-58f7-442...|\n",
      "|2019-12-01 01:00:07|      view|   1005105|2232732093077520756|construction.tool...|  apple|1302.48|562071412|822749fe-49f1-4a9...|\n",
      "|2019-12-01 01:00:07|      view|   1003489|2232732093077520756|construction.tool...| huawei| 205.67|543826485|b251cbde-4373-497...|\n",
      "|2019-12-01 01:00:07|      view|   1480790|2053013553341792533|  electronics.clocks| lenovo| 342.82|577653879|a971d966-d601-4d8...|\n",
      "|2019-12-01 01:00:07|      view|   4804718|2232732079706079299|       sport.bicycle|  apple| 329.14|579969767|e159d1a1-6668-477...|\n",
      "+-------------------+----------+----------+-------------------+--------------------+-------+-------+---------+--------------------+\n",
      "only showing top 20 rows\n",
      "\n"
     ]
    }
   ],
   "source": [
    "df = spark.read.csv(hadoop_path_dec, header = True, inferSchema = True)\n",
    "df.show()"
   ]
  },
  {
   "cell_type": "code",
   "execution_count": 45,
   "metadata": {},
   "outputs": [
    {
     "name": "stdout",
     "output_type": "stream",
     "text": [
      "+---+-------------------+----------+----------+-------------------+--------------------+-------+-------+---------+--------------------+\n",
      "| id|         event_time|event_type|product_id|        category_id|       category_code|  brand|  price|  user_id|        user_session|\n",
      "+---+-------------------+----------+----------+-------------------+--------------------+-------+-------+---------+--------------------+\n",
      "|  0|2019-12-01 01:00:00|      view|   1005105|2232732093077520756|construction.tool...|  apple|1302.48|556695836|ca5eefc5-11f9-450...|\n",
      "|  1|2019-12-01 01:00:00|      view|  22700068|2232732091643068746|                null|  force| 102.96|577702456|de33debe-c7bf-44e...|\n",
      "|  2|2019-12-01 01:00:01|      view|   2402273|2232732100769874463|appliances.person...|  bosch| 313.52|539453785|5ee185a7-0689-4a3...|\n",
      "|  3|2019-12-01 01:00:02|  purchase|  26400248|2053013553056579841|computers.periphe...|   null| 132.31|535135317|61792a26-672f-4e6...|\n",
      "|  4|2019-12-01 01:00:02|      view|  20100164|2232732110089618156|    apparel.trousers|   nika| 101.68|517987650|906c6ca8-ff5c-419...|\n",
      "|  5|2019-12-01 01:00:02|      view| 100008256|2053013561185141473|accessories.umbrella|   ikea| 163.56|542860793|a1bcb550-1065-476...|\n",
      "|  6|2019-12-01 01:00:02|      view|  21400264|2053013561579406073|  electronics.clocks|   null|  88.81|538021416|e88f77cc-e75e-4e9...|\n",
      "|  7|2019-12-01 01:00:03|      view|   1005239|2232732093077520756|construction.tool...| xiaomi| 256.38|525740700|370e8c88-3d07-41d...|\n",
      "|  8|2019-12-01 01:00:04|      view|   5100885|2053013553375346967|  computers.notebook|    jet|  20.57|512509221|4227259f-1c4c-41d...|\n",
      "|  9|2019-12-01 01:00:04|      view|  26205399|2232732081585127530|construction.comp...|   null| 179.16|553345124|58c692ff-c7a9-4e3...|\n",
      "| 10|2019-12-01 01:00:04|      view|  22900009|2053013553375346967|  computers.notebook|  vegas|  49.94|554369617|a4481ea8-9a20-442...|\n",
      "| 11|2019-12-01 01:00:04|      view|   1004233|2232732093077520756|construction.tool...|  apple|1312.52|579969851|90aca71c-ed8a-467...|\n",
      "| 12|2019-12-01 01:00:05|      view|  22700202|2232732091643068746|                null|  stels| 171.18|575086722|05a5e4f4-1865-4b0...|\n",
      "| 13|2019-12-01 01:00:06|      view|   1004856|2232732093077520756|construction.tool...|samsung| 124.11|532554953|4bd14129-caad-4de...|\n",
      "| 14|2019-12-01 01:00:06|      view|   3701309|2053013565983425517|appliances.enviro...|polaris|  89.32|543733099|a65116f4-ac53-4a4...|\n",
      "| 15|2019-12-01 01:00:07|      view|  11500445|2053013552259662037|computers.compone...| xiaomi|  27.77|526844203|5e62045f-58f7-442...|\n",
      "| 16|2019-12-01 01:00:07|      view|   1005105|2232732093077520756|construction.tool...|  apple|1302.48|562071412|822749fe-49f1-4a9...|\n",
      "| 17|2019-12-01 01:00:07|      view|   1003489|2232732093077520756|construction.tool...| huawei| 205.67|543826485|b251cbde-4373-497...|\n",
      "| 18|2019-12-01 01:00:07|      view|   1480790|2053013553341792533|  electronics.clocks| lenovo| 342.82|577653879|a971d966-d601-4d8...|\n",
      "| 19|2019-12-01 01:00:07|      view|   4804718|2232732079706079299|       sport.bicycle|  apple| 329.14|579969767|e159d1a1-6668-477...|\n",
      "+---+-------------------+----------+----------+-------------------+--------------------+-------+-------+---------+--------------------+\n",
      "only showing top 20 rows\n",
      "\n"
     ]
    }
   ],
   "source": [
    "df_index = df.select('*').withColumn('id', F.monotonically_increasing_id())\n",
    "column_names = ['id'] + [col for col in df.columns]\n",
    "\n",
    "df_index_first = df_index.select(column_names)\n",
    "df_index_first.show()"
   ]
  },
  {
   "cell_type": "code",
   "execution_count": 46,
   "metadata": {},
   "outputs": [
    {
     "name": "stdout",
     "output_type": "stream",
     "text": [
      "+---+-------------------+----------+--------------------+-------+-------+---------+\n",
      "| id|         event_time|event_type|       category_code|  brand|  price|  user_id|\n",
      "+---+-------------------+----------+--------------------+-------+-------+---------+\n",
      "|  0|2019-12-01 01:00:00|      view|construction.tool...|  apple|1302.48|556695836|\n",
      "|  1|2019-12-01 01:00:00|      view|                null|  force| 102.96|577702456|\n",
      "|  2|2019-12-01 01:00:01|      view|appliances.person...|  bosch| 313.52|539453785|\n",
      "|  3|2019-12-01 01:00:02|  purchase|computers.periphe...|   null| 132.31|535135317|\n",
      "|  4|2019-12-01 01:00:02|      view|    apparel.trousers|   nika| 101.68|517987650|\n",
      "|  5|2019-12-01 01:00:02|      view|accessories.umbrella|   ikea| 163.56|542860793|\n",
      "|  6|2019-12-01 01:00:02|      view|  electronics.clocks|   null|  88.81|538021416|\n",
      "|  7|2019-12-01 01:00:03|      view|construction.tool...| xiaomi| 256.38|525740700|\n",
      "|  8|2019-12-01 01:00:04|      view|  computers.notebook|    jet|  20.57|512509221|\n",
      "|  9|2019-12-01 01:00:04|      view|construction.comp...|   null| 179.16|553345124|\n",
      "| 10|2019-12-01 01:00:04|      view|  computers.notebook|  vegas|  49.94|554369617|\n",
      "| 11|2019-12-01 01:00:04|      view|construction.tool...|  apple|1312.52|579969851|\n",
      "| 12|2019-12-01 01:00:05|      view|                null|  stels| 171.18|575086722|\n",
      "| 13|2019-12-01 01:00:06|      view|construction.tool...|samsung| 124.11|532554953|\n",
      "| 14|2019-12-01 01:00:06|      view|appliances.enviro...|polaris|  89.32|543733099|\n",
      "| 15|2019-12-01 01:00:07|      view|computers.compone...| xiaomi|  27.77|526844203|\n",
      "| 16|2019-12-01 01:00:07|      view|construction.tool...|  apple|1302.48|562071412|\n",
      "| 17|2019-12-01 01:00:07|      view|construction.tool...| huawei| 205.67|543826485|\n",
      "| 18|2019-12-01 01:00:07|      view|  electronics.clocks| lenovo| 342.82|577653879|\n",
      "| 19|2019-12-01 01:00:07|      view|       sport.bicycle|  apple| 329.14|579969767|\n",
      "+---+-------------------+----------+--------------------+-------+-------+---------+\n",
      "only showing top 20 rows\n",
      "\n"
     ]
    }
   ],
   "source": [
    "df_new = df_index_first.drop('user_session', 'product_id','category_id')\n",
    "df_new.show()"
   ]
  },
  {
   "cell_type": "code",
   "execution_count": 47,
   "metadata": {},
   "outputs": [
    {
     "name": "stdout",
     "output_type": "stream",
     "text": [
      "+---+-------------------+----------+--------------------+---------+-------+---------+\n",
      "| id|         event_time|event_type|       category_code|    brand|  price|  user_id|\n",
      "+---+-------------------+----------+--------------------+---------+-------+---------+\n",
      "|  0|2019-12-01 01:00:00|      view|construction.tool...|    apple|1302.48|556695836|\n",
      "|  2|2019-12-01 01:00:01|      view|appliances.person...|    bosch| 313.52|539453785|\n",
      "|  4|2019-12-01 01:00:02|      view|    apparel.trousers|     nika| 101.68|517987650|\n",
      "|  5|2019-12-01 01:00:02|      view|accessories.umbrella|     ikea| 163.56|542860793|\n",
      "|  7|2019-12-01 01:00:03|      view|construction.tool...|   xiaomi| 256.38|525740700|\n",
      "|  8|2019-12-01 01:00:04|      view|  computers.notebook|      jet|  20.57|512509221|\n",
      "| 10|2019-12-01 01:00:04|      view|  computers.notebook|    vegas|  49.94|554369617|\n",
      "| 11|2019-12-01 01:00:04|      view|construction.tool...|    apple|1312.52|579969851|\n",
      "| 13|2019-12-01 01:00:06|      view|construction.tool...|  samsung| 124.11|532554953|\n",
      "| 14|2019-12-01 01:00:06|      view|appliances.enviro...|  polaris|  89.32|543733099|\n",
      "| 15|2019-12-01 01:00:07|      view|computers.compone...|   xiaomi|  27.77|526844203|\n",
      "| 16|2019-12-01 01:00:07|      view|construction.tool...|    apple|1302.48|562071412|\n",
      "| 17|2019-12-01 01:00:07|      view|construction.tool...|   huawei| 205.67|543826485|\n",
      "| 18|2019-12-01 01:00:07|      view|  electronics.clocks|   lenovo| 342.82|577653879|\n",
      "| 19|2019-12-01 01:00:07|      view|       sport.bicycle|    apple| 329.14|579969767|\n",
      "| 20|2019-12-01 01:00:07|      view|construction.tool...|    apple|1312.52|579969851|\n",
      "| 21|2019-12-01 01:00:08|      view|construction.tool...|    apple|  912.5|553704027|\n",
      "| 22|2019-12-01 01:00:08|      view|     apparel.costume| bourjois|   8.25|513133286|\n",
      "| 23|2019-12-01 01:00:08|      view|computers.periphe...|  lucente| 406.45|579425245|\n",
      "| 24|2019-12-01 01:00:09|      view|construction.tool...|prestigio|  66.39|579968273|\n",
      "+---+-------------------+----------+--------------------+---------+-------+---------+\n",
      "only showing top 20 rows\n",
      "\n"
     ]
    }
   ],
   "source": [
    "df_new = df_new.dropna()\n",
    "df_new.show()"
   ]
  },
  {
   "cell_type": "code",
   "execution_count": 48,
   "metadata": {},
   "outputs": [
    {
     "name": "stdout",
     "output_type": "stream",
     "text": [
      "+---+-------------------+----------+---------------------------------+---------+-------+---------+------------+-----------------------+\n",
      "|id |event_time         |event_type|category_code                    |brand    |price  |user_id  |category    |product                |\n",
      "+---+-------------------+----------+---------------------------------+---------+-------+---------+------------+-----------------------+\n",
      "|0  |2019-12-01 01:00:00|view      |construction.tools.light         |apple    |1302.48|556695836|construction|tools.light            |\n",
      "|2  |2019-12-01 01:00:01|view      |appliances.personal.massager     |bosch    |313.52 |539453785|appliances  |personal.massager      |\n",
      "|4  |2019-12-01 01:00:02|view      |apparel.trousers                 |nika     |101.68 |517987650|apparel     |trousers               |\n",
      "|5  |2019-12-01 01:00:02|view      |accessories.umbrella             |ikea     |163.56 |542860793|accessories |umbrella               |\n",
      "|7  |2019-12-01 01:00:03|view      |construction.tools.light         |xiaomi   |256.38 |525740700|construction|tools.light            |\n",
      "|8  |2019-12-01 01:00:04|view      |computers.notebook               |jet      |20.57  |512509221|computers   |notebook               |\n",
      "|10 |2019-12-01 01:00:04|view      |computers.notebook               |vegas    |49.94  |554369617|computers   |notebook               |\n",
      "|11 |2019-12-01 01:00:04|view      |construction.tools.light         |apple    |1312.52|579969851|construction|tools.light            |\n",
      "|13 |2019-12-01 01:00:06|view      |construction.tools.light         |samsung  |124.11 |532554953|construction|tools.light            |\n",
      "|14 |2019-12-01 01:00:06|view      |appliances.environment.vacuum    |polaris  |89.32  |543733099|appliances  |environment.vacuum     |\n",
      "|15 |2019-12-01 01:00:07|view      |computers.components.power_supply|xiaomi   |27.77  |526844203|computers   |components.power_supply|\n",
      "|16 |2019-12-01 01:00:07|view      |construction.tools.light         |apple    |1302.48|562071412|construction|tools.light            |\n",
      "|17 |2019-12-01 01:00:07|view      |construction.tools.light         |huawei   |205.67 |543826485|construction|tools.light            |\n",
      "|18 |2019-12-01 01:00:07|view      |electronics.clocks               |lenovo   |342.82 |577653879|electronics |clocks                 |\n",
      "|19 |2019-12-01 01:00:07|view      |sport.bicycle                    |apple    |329.14 |579969767|sport       |bicycle                |\n",
      "|20 |2019-12-01 01:00:07|view      |construction.tools.light         |apple    |1312.52|579969851|construction|tools.light            |\n",
      "|21 |2019-12-01 01:00:08|view      |construction.tools.light         |apple    |912.5  |553704027|construction|tools.light            |\n",
      "|22 |2019-12-01 01:00:08|view      |apparel.costume                  |bourjois |8.25   |513133286|apparel     |costume                |\n",
      "|23 |2019-12-01 01:00:08|view      |computers.peripherals.printer    |lucente  |406.45 |579425245|computers   |peripherals.printer    |\n",
      "|24 |2019-12-01 01:00:09|view      |construction.tools.light         |prestigio|66.39  |579968273|construction|tools.light            |\n",
      "+---+-------------------+----------+---------------------------------+---------+-------+---------+------------+-----------------------+\n",
      "only showing top 20 rows\n",
      "\n"
     ]
    }
   ],
   "source": [
    "\n",
    "df_new = df_new.withColumn(\"split_code\", split(col(\"category_code\"), \"\\.\"))\n",
    "\n",
    "df_new = df_new.withColumn(\"category\", col(\"split_code\")[0])\n",
    "\n",
    "df_new = df_new.withColumn(\"product\", expr(\"substring(category_code, length(category) + 2)\"))\n",
    "\n",
    "df_new =df_new.drop(\"split_code\")\n",
    "\n",
    "df_new.show(truncate=False)\n"
   ]
  },
  {
   "cell_type": "code",
   "execution_count": 49,
   "metadata": {},
   "outputs": [
    {
     "name": "stdout",
     "output_type": "stream",
     "text": [
      "+---+-------------------+----------+---------+-------+---------+------------+-----------------------+\n",
      "|id |event_time         |event_type|brand    |price  |user_id  |category    |product                |\n",
      "+---+-------------------+----------+---------+-------+---------+------------+-----------------------+\n",
      "|0  |2019-12-01 01:00:00|view      |apple    |1302.48|556695836|construction|tools.light            |\n",
      "|2  |2019-12-01 01:00:01|view      |bosch    |313.52 |539453785|appliances  |personal.massager      |\n",
      "|4  |2019-12-01 01:00:02|view      |nika     |101.68 |517987650|apparel     |trousers               |\n",
      "|5  |2019-12-01 01:00:02|view      |ikea     |163.56 |542860793|accessories |umbrella               |\n",
      "|7  |2019-12-01 01:00:03|view      |xiaomi   |256.38 |525740700|construction|tools.light            |\n",
      "|8  |2019-12-01 01:00:04|view      |jet      |20.57  |512509221|computers   |notebook               |\n",
      "|10 |2019-12-01 01:00:04|view      |vegas    |49.94  |554369617|computers   |notebook               |\n",
      "|11 |2019-12-01 01:00:04|view      |apple    |1312.52|579969851|construction|tools.light            |\n",
      "|13 |2019-12-01 01:00:06|view      |samsung  |124.11 |532554953|construction|tools.light            |\n",
      "|14 |2019-12-01 01:00:06|view      |polaris  |89.32  |543733099|appliances  |environment.vacuum     |\n",
      "|15 |2019-12-01 01:00:07|view      |xiaomi   |27.77  |526844203|computers   |components.power_supply|\n",
      "|16 |2019-12-01 01:00:07|view      |apple    |1302.48|562071412|construction|tools.light            |\n",
      "|17 |2019-12-01 01:00:07|view      |huawei   |205.67 |543826485|construction|tools.light            |\n",
      "|18 |2019-12-01 01:00:07|view      |lenovo   |342.82 |577653879|electronics |clocks                 |\n",
      "|19 |2019-12-01 01:00:07|view      |apple    |329.14 |579969767|sport       |bicycle                |\n",
      "|20 |2019-12-01 01:00:07|view      |apple    |1312.52|579969851|construction|tools.light            |\n",
      "|21 |2019-12-01 01:00:08|view      |apple    |912.5  |553704027|construction|tools.light            |\n",
      "|22 |2019-12-01 01:00:08|view      |bourjois |8.25   |513133286|apparel     |costume                |\n",
      "|23 |2019-12-01 01:00:08|view      |lucente  |406.45 |579425245|computers   |peripherals.printer    |\n",
      "|24 |2019-12-01 01:00:09|view      |prestigio|66.39  |579968273|construction|tools.light            |\n",
      "+---+-------------------+----------+---------+-------+---------+------------+-----------------------+\n",
      "only showing top 20 rows\n",
      "\n"
     ]
    }
   ],
   "source": [
    "df_new =df_new.drop(\"category_code\")\n",
    "df_new.show(truncate=False)"
   ]
  },
  {
   "cell_type": "code",
   "execution_count": 50,
   "metadata": {},
   "outputs": [
    {
     "name": "stdout",
     "output_type": "stream",
     "text": [
      "+---+----------+---------+-------+---------+------------+--------------------+----------+---+\n",
      "| id|event_type|    brand|  price|  user_id|    category|             product|      date|day|\n",
      "+---+----------+---------+-------+---------+------------+--------------------+----------+---+\n",
      "|  0|      view|    apple|1302.48|556695836|construction|         tools.light|2019-12-01|  1|\n",
      "|  2|      view|    bosch| 313.52|539453785|  appliances|   personal.massager|2019-12-01|  1|\n",
      "|  4|      view|     nika| 101.68|517987650|     apparel|            trousers|2019-12-01|  1|\n",
      "|  5|      view|     ikea| 163.56|542860793| accessories|            umbrella|2019-12-01|  1|\n",
      "|  7|      view|   xiaomi| 256.38|525740700|construction|         tools.light|2019-12-01|  1|\n",
      "|  8|      view|      jet|  20.57|512509221|   computers|            notebook|2019-12-01|  1|\n",
      "| 10|      view|    vegas|  49.94|554369617|   computers|            notebook|2019-12-01|  1|\n",
      "| 11|      view|    apple|1312.52|579969851|construction|         tools.light|2019-12-01|  1|\n",
      "| 13|      view|  samsung| 124.11|532554953|construction|         tools.light|2019-12-01|  1|\n",
      "| 14|      view|  polaris|  89.32|543733099|  appliances|  environment.vacuum|2019-12-01|  1|\n",
      "| 15|      view|   xiaomi|  27.77|526844203|   computers|components.power_...|2019-12-01|  1|\n",
      "| 16|      view|    apple|1302.48|562071412|construction|         tools.light|2019-12-01|  1|\n",
      "| 17|      view|   huawei| 205.67|543826485|construction|         tools.light|2019-12-01|  1|\n",
      "| 18|      view|   lenovo| 342.82|577653879| electronics|              clocks|2019-12-01|  1|\n",
      "| 19|      view|    apple| 329.14|579969767|       sport|             bicycle|2019-12-01|  1|\n",
      "| 20|      view|    apple|1312.52|579969851|construction|         tools.light|2019-12-01|  1|\n",
      "| 21|      view|    apple|  912.5|553704027|construction|         tools.light|2019-12-01|  1|\n",
      "| 22|      view| bourjois|   8.25|513133286|     apparel|             costume|2019-12-01|  1|\n",
      "| 23|      view|  lucente| 406.45|579425245|   computers| peripherals.printer|2019-12-01|  1|\n",
      "| 24|      view|prestigio|  66.39|579968273|construction|         tools.light|2019-12-01|  1|\n",
      "+---+----------+---------+-------+---------+------------+--------------------+----------+---+\n",
      "only showing top 20 rows\n",
      "\n"
     ]
    }
   ],
   "source": [
    "\n",
    "df_new = df_new.withColumn(\"date\", split(col(\"event_time\"), \" \")[0])\n",
    "df_new = df_new.withColumn(\"day\", split(col(\"date\"), \"-\")[2].cast(IntegerType()))\n",
    "df_new = df_new.drop(\"event_time\")\n",
    "\n",
    "\n",
    "df_new.show()\n"
   ]
  },
  {
   "cell_type": "code",
   "execution_count": 51,
   "metadata": {},
   "outputs": [
    {
     "name": "stdout",
     "output_type": "stream",
     "text": [
      "+---+----------+---------+-------+---------+------------+--------------------+---+\n",
      "| id|event_type|    brand|  price|  user_id|    category|             product|day|\n",
      "+---+----------+---------+-------+---------+------------+--------------------+---+\n",
      "|  0|      view|    apple|1302.48|556695836|construction|         tools.light|  1|\n",
      "|  2|      view|    bosch| 313.52|539453785|  appliances|   personal.massager|  1|\n",
      "|  4|      view|     nika| 101.68|517987650|     apparel|            trousers|  1|\n",
      "|  5|      view|     ikea| 163.56|542860793| accessories|            umbrella|  1|\n",
      "|  7|      view|   xiaomi| 256.38|525740700|construction|         tools.light|  1|\n",
      "|  8|      view|      jet|  20.57|512509221|   computers|            notebook|  1|\n",
      "| 10|      view|    vegas|  49.94|554369617|   computers|            notebook|  1|\n",
      "| 11|      view|    apple|1312.52|579969851|construction|         tools.light|  1|\n",
      "| 13|      view|  samsung| 124.11|532554953|construction|         tools.light|  1|\n",
      "| 14|      view|  polaris|  89.32|543733099|  appliances|  environment.vacuum|  1|\n",
      "| 15|      view|   xiaomi|  27.77|526844203|   computers|components.power_...|  1|\n",
      "| 16|      view|    apple|1302.48|562071412|construction|         tools.light|  1|\n",
      "| 17|      view|   huawei| 205.67|543826485|construction|         tools.light|  1|\n",
      "| 18|      view|   lenovo| 342.82|577653879| electronics|              clocks|  1|\n",
      "| 19|      view|    apple| 329.14|579969767|       sport|             bicycle|  1|\n",
      "| 20|      view|    apple|1312.52|579969851|construction|         tools.light|  1|\n",
      "| 21|      view|    apple|  912.5|553704027|construction|         tools.light|  1|\n",
      "| 22|      view| bourjois|   8.25|513133286|     apparel|             costume|  1|\n",
      "| 23|      view|  lucente| 406.45|579425245|   computers| peripherals.printer|  1|\n",
      "| 24|      view|prestigio|  66.39|579968273|construction|         tools.light|  1|\n",
      "+---+----------+---------+-------+---------+------------+--------------------+---+\n",
      "only showing top 20 rows\n",
      "\n"
     ]
    }
   ],
   "source": [
    "df_new = df_new.drop(\"date\")\n",
    "df_new.show()"
   ]
  },
  {
   "cell_type": "code",
   "execution_count": 52,
   "metadata": {},
   "outputs": [
    {
     "name": "stdout",
     "output_type": "stream",
     "text": [
      "Null values present in:\n",
      "category: 0\n",
      "product: 0\n",
      "day: 0\n",
      "brand: 0\n"
     ]
    }
   ],
   "source": [
    "print(\"Null values present in:\")\n",
    "for c in [\"category\",\"product\",\"day\", \"brand\"]:\n",
    "    print(c +':', df_new.where(F.col(c).isNull()).count())"
   ]
  },
  {
   "cell_type": "code",
   "execution_count": 53,
   "metadata": {},
   "outputs": [
    {
     "name": "stdout",
     "output_type": "stream",
     "text": [
      "Total number of rows: 53,612,307\n"
     ]
    }
   ],
   "source": [
    "count = df_new.count()\n",
    "print(f\"Total number of rows: {count:,d}\")"
   ]
  },
  {
   "cell_type": "code",
   "execution_count": 54,
   "metadata": {},
   "outputs": [],
   "source": [
    "save_path = hadoop_path_dec + '/selected_Data/' \n",
    "\n",
    "df_new.repartition(8).write.mode('overwrite').option(\"header\", \"true\").csv(save_path)\n",
    "spark.stop()"
   ]
  }
 ],
 "metadata": {
  "kernelspec": {
   "display_name": "Bigdata",
   "language": "python",
   "name": "python3"
  },
  "language_info": {
   "codemirror_mode": {
    "name": "ipython",
    "version": 3
   },
   "file_extension": ".py",
   "mimetype": "text/x-python",
   "name": "python",
   "nbconvert_exporter": "python",
   "pygments_lexer": "ipython3",
   "version": "3.11.5"
  }
 },
 "nbformat": 4,
 "nbformat_minor": 2
}
