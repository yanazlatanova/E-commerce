{
 "cells": [
  {
   "cell_type": "markdown",
   "metadata": {},
   "source": [
    "Predict whether a user who views or adds a product to the cart will proceed to purchase it."
   ]
  },
  {
   "cell_type": "code",
   "execution_count": 13,
   "metadata": {},
   "outputs": [
    {
     "name": "stdout",
     "output_type": "stream",
     "text": [
      "C:\\Users\\anama\\anaconda3\\envs\\Bigdata\\Lib\\site-packages\\pyspark\n"
     ]
    }
   ],
   "source": [
    "from pyspark.ml import Pipeline\n",
    "from pyspark.ml.classification import LogisticRegression\n",
    "from pyspark.ml.feature import StringIndexer, VectorAssembler, StandardScaler, OneHotEncoder\n",
    "from pyspark.ml.evaluation import BinaryClassificationEvaluator\n",
    "from pyspark.find_spark_home import _find_spark_home\n",
    "from pyspark.sql import SparkSession\n",
    "from pyspark import SparkConf, StorageLevel\n",
    "import pyspark.sql.functions as F\n",
    "from pyspark.sql.functions import lit\n",
    "import os\n",
    "from pyspark.sql.functions import col, count, isnan, avg, max, row_number\n",
    "from pyspark.sql.window import Window\n",
    "from pyspark.ml.classification import RandomForestClassifier\n",
    "from pyspark.sql.functions import when\n",
    "\n",
    "from dotenv import load_dotenv\n",
    "load_dotenv()\n",
    "\n",
    "print(_find_spark_home())"
   ]
  },
  {
   "cell_type": "code",
   "execution_count": 14,
   "metadata": {},
   "outputs": [],
   "source": [
    "python_path = os.environ.get('PYTHON_PATH')\n",
    "app_name = os.environ.get('APP_NAME_DEC')\n",
    "hadoop_path_dec = os.environ.get('HADOOP_DEC_DATASET_PATH')\n",
    "hadoop_path_nov = os.environ.get('HADOOP_NOV_DATASET_PATH')\n",
    "hadoop_path = os.environ.get('HADOOP_DATASET_PATH')"
   ]
  },
  {
   "cell_type": "code",
   "execution_count": 15,
   "metadata": {},
   "outputs": [
    {
     "name": "stdout",
     "output_type": "stream",
     "text": [
      "('spark.dynamicAllocation.minExecutors', '1')\n",
      "('spark.app.startTime', '1703851089019')\n",
      "('spark.driver.memory', '4g')\n",
      "('spark.dynamicAllocation.maxExecutors', '10')\n",
      "('spark.driver.host', 'BOOK-G6MUSCB12M.local')\n",
      "('spark.driver.port', '61030')\n",
      "('spark.driver.extraJavaOptions', '-Djava.net.preferIPv6Addresses=false -XX:+IgnoreUnrecognizedVMOptions --add-opens=java.base/java.lang=ALL-UNNAMED --add-opens=java.base/java.lang.invoke=ALL-UNNAMED --add-opens=java.base/java.lang.reflect=ALL-UNNAMED --add-opens=java.base/java.io=ALL-UNNAMED --add-opens=java.base/java.net=ALL-UNNAMED --add-opens=java.base/java.nio=ALL-UNNAMED --add-opens=java.base/java.util=ALL-UNNAMED --add-opens=java.base/java.util.concurrent=ALL-UNNAMED --add-opens=java.base/java.util.concurrent.atomic=ALL-UNNAMED --add-opens=java.base/sun.nio.ch=ALL-UNNAMED --add-opens=java.base/sun.nio.cs=ALL-UNNAMED --add-opens=java.base/sun.security.action=ALL-UNNAMED --add-opens=java.base/sun.util.calendar=ALL-UNNAMED --add-opens=java.security.jgss/sun.security.krb5=ALL-UNNAMED -Djdk.reflect.useDirectMethodHandle=false')\n",
      "('spark-local-dir', 'C:\\\\spark-temp')\n",
      "('spark.serializer.objectStreamReset', '100')\n",
      "('spark.pyspark.driver.python', 'C:\\\\\\\\Users\\\\\\\\anama\\\\\\\\anaconda3\\\\\\\\envs\\\\\\\\Bigdata\\\\\\\\python.exe')\n",
      "('spark.master', 'local[*]')\n",
      "('spark.dynamicAllocation.executorIdleTimeout', '60s')\n",
      "('spark.submit.deployMode', 'client')\n",
      "('spark.executor.extraJavaOptions', '-Djava.net.preferIPv6Addresses=false -XX:+IgnoreUnrecognizedVMOptions --add-opens=java.base/java.lang=ALL-UNNAMED --add-opens=java.base/java.lang.invoke=ALL-UNNAMED --add-opens=java.base/java.lang.reflect=ALL-UNNAMED --add-opens=java.base/java.io=ALL-UNNAMED --add-opens=java.base/java.net=ALL-UNNAMED --add-opens=java.base/java.nio=ALL-UNNAMED --add-opens=java.base/java.util=ALL-UNNAMED --add-opens=java.base/java.util.concurrent=ALL-UNNAMED --add-opens=java.base/java.util.concurrent.atomic=ALL-UNNAMED --add-opens=java.base/sun.nio.ch=ALL-UNNAMED --add-opens=java.base/sun.nio.cs=ALL-UNNAMED --add-opens=java.base/sun.security.action=ALL-UNNAMED --add-opens=java.base/sun.util.calendar=ALL-UNNAMED --add-opens=java.security.jgss/sun.security.krb5=ALL-UNNAMED -Djdk.reflect.useDirectMethodHandle=false')\n",
      "('spark.pyspark.python', 'C:\\\\\\\\Users\\\\\\\\anama\\\\\\\\anaconda3\\\\\\\\envs\\\\\\\\Bigdata\\\\\\\\python.exe')\n",
      "('spark.shuffle.service.enabled', 'true')\n",
      "('spark.executor.memory', '4g')\n",
      "('spark.executor.id', 'driver')\n",
      "('spark.app.submitTime', '1703851088849')\n",
      "('spark.network.timeout', '800s')\n",
      "('spark.rdd.compress', 'True')\n",
      "('spark.app.id', 'local-1703851090076')\n",
      "('spark.driver.maxResultSize', '2g')\n",
      "('spark.submit.pyFiles', '')\n",
      "('spark.dynamicAllocation.enabled', 'true')\n",
      "('spark.ui.showConsoleProgress', 'true')\n",
      "('spark.app.name', 'ecommerce')\n",
      "('spark.sql.warehouse.dir', 'file:/C:/Users/anama/Big%20Data/E-commerce/ML/spark-warehouse')\n"
     ]
    }
   ],
   "source": [
    "conf = SparkConf()\\\n",
    "    .setMaster('local[*]')\\\n",
    "    .set('spark-local-dir', \"C:\\\\spark-temp\")\\\n",
    "    .set('spark.driver.memory', '4g')\\\n",
    "    .set('spark.executor.memory', '4g')\\\n",
    "    .set('spark.driver.maxResultSize', '2g')\\\n",
    "    .set('spark.pyspark.python', python_path)\\\n",
    "    .set('spark.pyspark.driver.python', python_path)\\\n",
    "    .set(\"spark.network.timeout\",\"800s\")\\\n",
    "    .set(\"spark.dynamicAllocation.enabled\", \"true\")\\\n",
    "    .set(\"spark.shuffle.service.enabled\", \"true\")\\\n",
    "    .set(\"spark.dynamicAllocation.minExecutors\", \"1\")\\\n",
    "    .set(\"spark.dynamicAllocation.maxExecutors\", \"10\")\\\n",
    "    .set(\"spark.dynamicAllocation.executorIdleTimeout\", \"60s\")\\\n",
    "\n",
    "spark = SparkSession.builder.appName(app_name).config(conf=conf).getOrCreate()\n",
    "sc = spark.sparkContext\n",
    "\n",
    "for item in sc.getConf().getAll(): print(item)"
   ]
  },
  {
   "cell_type": "code",
   "execution_count": 16,
   "metadata": {},
   "outputs": [
    {
     "name": "stdout",
     "output_type": "stream",
     "text": [
      "+------------+----------+----------+--------+-------+---------+------------+--------------------+---+\n",
      "|          id|event_type|product_id|   brand|  price|  user_id|    category|             product|day|\n",
      "+------------+----------+----------+--------+-------+---------+------------+--------------------+---+\n",
      "|506806765360|      view|  28300254|   karya|  32.18|593496337|  appliances|       kitchen.grill| 27|\n",
      "|171799589084|      view|   1004792|  xiaomi| 643.26|585940325| electronics|          smartphone| 12|\n",
      "|223338714494|      view|   6701206|   palit| 257.92|517821395|  appliances|environment.air_h...| 15|\n",
      "|438087353571|      view|  31200669|    ikea|   1.26|516126769| electronics|     audio.subwoofer| 24|\n",
      "|146029038665|      view|   1801785|      lg| 396.38|532651693|  appliances|   personal.massager| 10|\n",
      "| 77310004945|      view|   4400468|scarlett|  95.21|512989627|   computers|   components.cooler|  6|\n",
      "| 94489852300|      view|   1004768| samsung| 228.71|583359020|construction|         tools.light|  7|\n",
      "|498216419696|      view|   5000552|  jaguar|  75.27|536965230|  appliances|      sewing_machine| 27|\n",
      "|515396932254|      view|   1004237|   apple|1091.35|593507508|construction|         tools.light| 28|\n",
      "| 85900016092|      view|   1701268|     aoc| 281.33|582265281|  appliances|   personal.massager|  7|\n",
      "|223338380966|      view|   1002528|   apple| 597.18|587227941|construction|         tools.light| 15|\n",
      "|231929080895|      view|   1005243|    vivo| 411.83|552730828| electronics|          smartphone| 16|\n",
      "|223338782533|      view|   2501705|     bbk|  76.43|544582275|  appliances|        kitchen.oven| 15|\n",
      "| 25770244101|      view|   1004958|  xiaomi| 322.58|534732611|construction|         tools.light|  2|\n",
      "|163209126016|      view|  10800145| redmond|  84.92|562493371|       sport|             bicycle| 11|\n",
      "|223339241385|      view|   1005162|  xiaomi| 263.84|569256768|construction|         tools.light| 15|\n",
      "|395137206213|      view|  17300759|moschino|  65.64|569042950|     apparel|       shoes.sandals| 22|\n",
      "|472447329860|      view|   7005838|  quatro| 159.57|522224200|        kids|              skates| 26|\n",
      "|377957357962|      view|   1004875| samsung| 332.18|587766910|construction|         tools.light| 21|\n",
      "|180388775682|      view| 100017518| glasman|  45.02|514829748| accessories|                 bag| 12|\n",
      "+------------+----------+----------+--------+-------+---------+------------+--------------------+---+\n",
      "only showing top 20 rows\n",
      "\n"
     ]
    }
   ],
   "source": [
    "df_dec = spark.read.csv(hadoop_path_dec+'/selected_Data/', header = True, inferSchema = True)\n",
    "df_dec.show()"
   ]
  },
  {
   "cell_type": "code",
   "execution_count": 17,
   "metadata": {},
   "outputs": [
    {
     "name": "stdout",
     "output_type": "stream",
     "text": [
      "+------------+----------+----------+--------+-------+---------+------------+--------------------+---+-----+\n",
      "|          id|event_type|product_id|   brand|  price|  user_id|    category|             product|day|month|\n",
      "+------------+----------+----------+--------+-------+---------+------------+--------------------+---+-----+\n",
      "|506806765360|      view|  28300254|   karya|  32.18|593496337|  appliances|       kitchen.grill| 27|   12|\n",
      "|171799589084|      view|   1004792|  xiaomi| 643.26|585940325| electronics|          smartphone| 12|   12|\n",
      "|223338714494|      view|   6701206|   palit| 257.92|517821395|  appliances|environment.air_h...| 15|   12|\n",
      "|438087353571|      view|  31200669|    ikea|   1.26|516126769| electronics|     audio.subwoofer| 24|   12|\n",
      "|146029038665|      view|   1801785|      lg| 396.38|532651693|  appliances|   personal.massager| 10|   12|\n",
      "| 77310004945|      view|   4400468|scarlett|  95.21|512989627|   computers|   components.cooler|  6|   12|\n",
      "| 94489852300|      view|   1004768| samsung| 228.71|583359020|construction|         tools.light|  7|   12|\n",
      "|498216419696|      view|   5000552|  jaguar|  75.27|536965230|  appliances|      sewing_machine| 27|   12|\n",
      "|515396932254|      view|   1004237|   apple|1091.35|593507508|construction|         tools.light| 28|   12|\n",
      "| 85900016092|      view|   1701268|     aoc| 281.33|582265281|  appliances|   personal.massager|  7|   12|\n",
      "|223338380966|      view|   1002528|   apple| 597.18|587227941|construction|         tools.light| 15|   12|\n",
      "|231929080895|      view|   1005243|    vivo| 411.83|552730828| electronics|          smartphone| 16|   12|\n",
      "|223338782533|      view|   2501705|     bbk|  76.43|544582275|  appliances|        kitchen.oven| 15|   12|\n",
      "| 25770244101|      view|   1004958|  xiaomi| 322.58|534732611|construction|         tools.light|  2|   12|\n",
      "|163209126016|      view|  10800145| redmond|  84.92|562493371|       sport|             bicycle| 11|   12|\n",
      "|223339241385|      view|   1005162|  xiaomi| 263.84|569256768|construction|         tools.light| 15|   12|\n",
      "|395137206213|      view|  17300759|moschino|  65.64|569042950|     apparel|       shoes.sandals| 22|   12|\n",
      "|472447329860|      view|   7005838|  quatro| 159.57|522224200|        kids|              skates| 26|   12|\n",
      "|377957357962|      view|   1004875| samsung| 332.18|587766910|construction|         tools.light| 21|   12|\n",
      "|180388775682|      view| 100017518| glasman|  45.02|514829748| accessories|                 bag| 12|   12|\n",
      "+------------+----------+----------+--------+-------+---------+------------+--------------------+---+-----+\n",
      "only showing top 20 rows\n",
      "\n"
     ]
    }
   ],
   "source": [
    "df_dec = df_dec.withColumn(\"month\", lit(12))\n",
    "df_dec.show()"
   ]
  },
  {
   "cell_type": "code",
   "execution_count": 18,
   "metadata": {},
   "outputs": [
    {
     "name": "stdout",
     "output_type": "stream",
     "text": [
      "+----------+----------+--------+-------+---------+------------+--------------------+---+-----+\n",
      "|event_type|product_id|   brand|  price|  user_id|    category|             product|day|month|\n",
      "+----------+----------+--------+-------+---------+------------+--------------------+---+-----+\n",
      "|      view|  28300254|   karya|  32.18|593496337|  appliances|       kitchen.grill| 27|   12|\n",
      "|      view|   1004792|  xiaomi| 643.26|585940325| electronics|          smartphone| 12|   12|\n",
      "|      view|   6701206|   palit| 257.92|517821395|  appliances|environment.air_h...| 15|   12|\n",
      "|      view|  31200669|    ikea|   1.26|516126769| electronics|     audio.subwoofer| 24|   12|\n",
      "|      view|   1801785|      lg| 396.38|532651693|  appliances|   personal.massager| 10|   12|\n",
      "|      view|   4400468|scarlett|  95.21|512989627|   computers|   components.cooler|  6|   12|\n",
      "|      view|   1004768| samsung| 228.71|583359020|construction|         tools.light|  7|   12|\n",
      "|      view|   5000552|  jaguar|  75.27|536965230|  appliances|      sewing_machine| 27|   12|\n",
      "|      view|   1004237|   apple|1091.35|593507508|construction|         tools.light| 28|   12|\n",
      "|      view|   1701268|     aoc| 281.33|582265281|  appliances|   personal.massager|  7|   12|\n",
      "|      view|   1002528|   apple| 597.18|587227941|construction|         tools.light| 15|   12|\n",
      "|      view|   1005243|    vivo| 411.83|552730828| electronics|          smartphone| 16|   12|\n",
      "|      view|   2501705|     bbk|  76.43|544582275|  appliances|        kitchen.oven| 15|   12|\n",
      "|      view|   1004958|  xiaomi| 322.58|534732611|construction|         tools.light|  2|   12|\n",
      "|      view|  10800145| redmond|  84.92|562493371|       sport|             bicycle| 11|   12|\n",
      "|      view|   1005162|  xiaomi| 263.84|569256768|construction|         tools.light| 15|   12|\n",
      "|      view|  17300759|moschino|  65.64|569042950|     apparel|       shoes.sandals| 22|   12|\n",
      "|      view|   7005838|  quatro| 159.57|522224200|        kids|              skates| 26|   12|\n",
      "|      view|   1004875| samsung| 332.18|587766910|construction|         tools.light| 21|   12|\n",
      "|      view| 100017518| glasman|  45.02|514829748| accessories|                 bag| 12|   12|\n",
      "+----------+----------+--------+-------+---------+------------+--------------------+---+-----+\n",
      "only showing top 20 rows\n",
      "\n"
     ]
    }
   ],
   "source": [
    "df_dec = df_dec.drop(\"id\")\n",
    "df_dec.show()"
   ]
  },
  {
   "cell_type": "code",
   "execution_count": 19,
   "metadata": {},
   "outputs": [
    {
     "name": "stdout",
     "output_type": "stream",
     "text": [
      "+------------+----------+----------+----------+-------+---------+-----------+--------------------+---+\n",
      "|          id|event_type|product_id|     brand|  price|  user_id|   category|             product|day|\n",
      "+------------+----------+----------+----------+-------+---------+-----------+--------------------+---+\n",
      "|403727064801|      view|   1004239|     apple|1413.16|554666475|electronics|          smartphone| 18|\n",
      "| 42950433984|      view|   1004250|     apple| 741.04|527029321|electronics|          smartphone|  4|\n",
      "| 34360364567|      view|   1004886|      oppo| 128.67|543083998|electronics|          smartphone|  4|\n",
      "|360777911454|      view|   1480156|       neo| 666.66|519293476|  computers|             desktop| 17|\n",
      "| 85900085278|      view|   6400162|     intel| 215.58|533512255|  computers|      components.cpu|  7|\n",
      "|180389410990|      view|   1201284|    lenovo| 154.19|570911983|electronics|              tablet| 13|\n",
      "| 17180281985|      view|   3900339|      aqua|  30.86|517565940| appliances|environment.water...|  2|\n",
      "|188978809949|      view|   1005233|    xiaomi| 150.58|571038722|electronics|          smartphone| 13|\n",
      "|      806295|      view|   1004886|      oppo| 128.68|525112784|electronics|          smartphone|  1|\n",
      "|171799174955|      view|   5000184|    janome| 102.11|518743659| appliances|      sewing_machine| 12|\n",
      "|352187793097|      view|   5700838|      sony| 128.68|557676120|       auto|  accessories.player| 17|\n",
      "|103079725363|      view|   6600160|      geil|  42.35|549006713|  computers|   components.memory|  8|\n",
      "|249108860698|      view|   1005280|    huawei| 771.94|530407949|electronics|          smartphone| 15|\n",
      "| 60129999180|      view|   5200128|pocketbook| 254.57|554841741|  computers|              ebooks|  5|\n",
      "|154619617058|      view|   1801555|        lg| 460.84|534110795|electronics|            video.tv| 11|\n",
      "| 25769983763|      view|   1801854|   samsung|1001.05|512932626|electronics|            video.tv|  3|\n",
      "|386547849509|      cart|  21404577|     casio|  33.18|552176832|electronics|              clocks| 18|\n",
      "|197569076943|      view|   4600466|     bosch| 465.51|513301836| appliances|  kitchen.dishwasher| 14|\n",
      "|352187492468|      view|  28717145|    fassen|  44.79|571686198|    apparel|          shoes.keds| 17|\n",
      "|438087547786|      view|   5000691|    chayka|  92.64|517538958| appliances|      sewing_machine| 21|\n",
      "+------------+----------+----------+----------+-------+---------+-----------+--------------------+---+\n",
      "only showing top 20 rows\n",
      "\n"
     ]
    }
   ],
   "source": [
    "df_nov = spark.read.csv(hadoop_path_nov + '/selected_Data_Nov/', header = True, inferSchema = True)\n",
    "df_nov.show()"
   ]
  },
  {
   "cell_type": "code",
   "execution_count": 20,
   "metadata": {},
   "outputs": [
    {
     "name": "stdout",
     "output_type": "stream",
     "text": [
      "+------------+----------+----------+----------+-------+---------+-----------+--------------------+---+-----+\n",
      "|          id|event_type|product_id|     brand|  price|  user_id|   category|             product|day|month|\n",
      "+------------+----------+----------+----------+-------+---------+-----------+--------------------+---+-----+\n",
      "|403727064801|      view|   1004239|     apple|1413.16|554666475|electronics|          smartphone| 18|   11|\n",
      "| 42950433984|      view|   1004250|     apple| 741.04|527029321|electronics|          smartphone|  4|   11|\n",
      "| 34360364567|      view|   1004886|      oppo| 128.67|543083998|electronics|          smartphone|  4|   11|\n",
      "|360777911454|      view|   1480156|       neo| 666.66|519293476|  computers|             desktop| 17|   11|\n",
      "| 85900085278|      view|   6400162|     intel| 215.58|533512255|  computers|      components.cpu|  7|   11|\n",
      "|180389410990|      view|   1201284|    lenovo| 154.19|570911983|electronics|              tablet| 13|   11|\n",
      "| 17180281985|      view|   3900339|      aqua|  30.86|517565940| appliances|environment.water...|  2|   11|\n",
      "|188978809949|      view|   1005233|    xiaomi| 150.58|571038722|electronics|          smartphone| 13|   11|\n",
      "|      806295|      view|   1004886|      oppo| 128.68|525112784|electronics|          smartphone|  1|   11|\n",
      "|171799174955|      view|   5000184|    janome| 102.11|518743659| appliances|      sewing_machine| 12|   11|\n",
      "|352187793097|      view|   5700838|      sony| 128.68|557676120|       auto|  accessories.player| 17|   11|\n",
      "|103079725363|      view|   6600160|      geil|  42.35|549006713|  computers|   components.memory|  8|   11|\n",
      "|249108860698|      view|   1005280|    huawei| 771.94|530407949|electronics|          smartphone| 15|   11|\n",
      "| 60129999180|      view|   5200128|pocketbook| 254.57|554841741|  computers|              ebooks|  5|   11|\n",
      "|154619617058|      view|   1801555|        lg| 460.84|534110795|electronics|            video.tv| 11|   11|\n",
      "| 25769983763|      view|   1801854|   samsung|1001.05|512932626|electronics|            video.tv|  3|   11|\n",
      "|386547849509|      cart|  21404577|     casio|  33.18|552176832|electronics|              clocks| 18|   11|\n",
      "|197569076943|      view|   4600466|     bosch| 465.51|513301836| appliances|  kitchen.dishwasher| 14|   11|\n",
      "|352187492468|      view|  28717145|    fassen|  44.79|571686198|    apparel|          shoes.keds| 17|   11|\n",
      "|438087547786|      view|   5000691|    chayka|  92.64|517538958| appliances|      sewing_machine| 21|   11|\n",
      "+------------+----------+----------+----------+-------+---------+-----------+--------------------+---+-----+\n",
      "only showing top 20 rows\n",
      "\n"
     ]
    }
   ],
   "source": [
    "df_nov = df_nov.withColumn(\"month\", lit(11))\n",
    "df_nov.show()"
   ]
  },
  {
   "cell_type": "code",
   "execution_count": 21,
   "metadata": {},
   "outputs": [
    {
     "name": "stdout",
     "output_type": "stream",
     "text": [
      "+----------+----------+----------+-------+---------+-----------+--------------------+---+-----+\n",
      "|event_type|product_id|     brand|  price|  user_id|   category|             product|day|month|\n",
      "+----------+----------+----------+-------+---------+-----------+--------------------+---+-----+\n",
      "|      view|   1004239|     apple|1413.16|554666475|electronics|          smartphone| 18|   11|\n",
      "|      view|   1004250|     apple| 741.04|527029321|electronics|          smartphone|  4|   11|\n",
      "|      view|   1004886|      oppo| 128.67|543083998|electronics|          smartphone|  4|   11|\n",
      "|      view|   1480156|       neo| 666.66|519293476|  computers|             desktop| 17|   11|\n",
      "|      view|   6400162|     intel| 215.58|533512255|  computers|      components.cpu|  7|   11|\n",
      "|      view|   1201284|    lenovo| 154.19|570911983|electronics|              tablet| 13|   11|\n",
      "|      view|   3900339|      aqua|  30.86|517565940| appliances|environment.water...|  2|   11|\n",
      "|      view|   1005233|    xiaomi| 150.58|571038722|electronics|          smartphone| 13|   11|\n",
      "|      view|   1004886|      oppo| 128.68|525112784|electronics|          smartphone|  1|   11|\n",
      "|      view|   5000184|    janome| 102.11|518743659| appliances|      sewing_machine| 12|   11|\n",
      "|      view|   5700838|      sony| 128.68|557676120|       auto|  accessories.player| 17|   11|\n",
      "|      view|   6600160|      geil|  42.35|549006713|  computers|   components.memory|  8|   11|\n",
      "|      view|   1005280|    huawei| 771.94|530407949|electronics|          smartphone| 15|   11|\n",
      "|      view|   5200128|pocketbook| 254.57|554841741|  computers|              ebooks|  5|   11|\n",
      "|      view|   1801555|        lg| 460.84|534110795|electronics|            video.tv| 11|   11|\n",
      "|      view|   1801854|   samsung|1001.05|512932626|electronics|            video.tv|  3|   11|\n",
      "|      cart|  21404577|     casio|  33.18|552176832|electronics|              clocks| 18|   11|\n",
      "|      view|   4600466|     bosch| 465.51|513301836| appliances|  kitchen.dishwasher| 14|   11|\n",
      "|      view|  28717145|    fassen|  44.79|571686198|    apparel|          shoes.keds| 17|   11|\n",
      "|      view|   5000691|    chayka|  92.64|517538958| appliances|      sewing_machine| 21|   11|\n",
      "+----------+----------+----------+-------+---------+-----------+--------------------+---+-----+\n",
      "only showing top 20 rows\n",
      "\n"
     ]
    }
   ],
   "source": [
    "df_nov = df_nov.drop(\"id\")\n",
    "df_nov.show()"
   ]
  },
  {
   "cell_type": "code",
   "execution_count": 22,
   "metadata": {},
   "outputs": [
    {
     "name": "stdout",
     "output_type": "stream",
     "text": [
      "+----------+----------+----------+-------+---------+-----------+--------------------+---+-----+\n",
      "|event_type|product_id|     brand|  price|  user_id|   category|             product|day|month|\n",
      "+----------+----------+----------+-------+---------+-----------+--------------------+---+-----+\n",
      "|      view|   1004239|     apple|1413.16|554666475|electronics|          smartphone| 18|   11|\n",
      "|      view|   1004250|     apple| 741.04|527029321|electronics|          smartphone|  4|   11|\n",
      "|      view|   1004886|      oppo| 128.67|543083998|electronics|          smartphone|  4|   11|\n",
      "|      view|   1480156|       neo| 666.66|519293476|  computers|             desktop| 17|   11|\n",
      "|      view|   6400162|     intel| 215.58|533512255|  computers|      components.cpu|  7|   11|\n",
      "|      view|   1201284|    lenovo| 154.19|570911983|electronics|              tablet| 13|   11|\n",
      "|      view|   3900339|      aqua|  30.86|517565940| appliances|environment.water...|  2|   11|\n",
      "|      view|   1005233|    xiaomi| 150.58|571038722|electronics|          smartphone| 13|   11|\n",
      "|      view|   1004886|      oppo| 128.68|525112784|electronics|          smartphone|  1|   11|\n",
      "|      view|   5000184|    janome| 102.11|518743659| appliances|      sewing_machine| 12|   11|\n",
      "|      view|   5700838|      sony| 128.68|557676120|       auto|  accessories.player| 17|   11|\n",
      "|      view|   6600160|      geil|  42.35|549006713|  computers|   components.memory|  8|   11|\n",
      "|      view|   1005280|    huawei| 771.94|530407949|electronics|          smartphone| 15|   11|\n",
      "|      view|   5200128|pocketbook| 254.57|554841741|  computers|              ebooks|  5|   11|\n",
      "|      view|   1801555|        lg| 460.84|534110795|electronics|            video.tv| 11|   11|\n",
      "|      view|   1801854|   samsung|1001.05|512932626|electronics|            video.tv|  3|   11|\n",
      "|      cart|  21404577|     casio|  33.18|552176832|electronics|              clocks| 18|   11|\n",
      "|      view|   4600466|     bosch| 465.51|513301836| appliances|  kitchen.dishwasher| 14|   11|\n",
      "|      view|  28717145|    fassen|  44.79|571686198|    apparel|          shoes.keds| 17|   11|\n",
      "|      view|   5000691|    chayka|  92.64|517538958| appliances|      sewing_machine| 21|   11|\n",
      "+----------+----------+----------+-------+---------+-----------+--------------------+---+-----+\n",
      "only showing top 20 rows\n",
      "\n"
     ]
    }
   ],
   "source": [
    "df_combined = df_nov.union(df_dec)\n",
    "df_combined.show()"
   ]
  },
  {
   "cell_type": "code",
   "execution_count": 23,
   "metadata": {},
   "outputs": [],
   "source": [
    "save_path = hadoop_path + '/combined_Data/' \n",
    "\n",
    "df_combined.repartition(8).write.mode('overwrite').option(\"header\", \"true\").csv(save_path)\n"
   ]
  },
  {
   "cell_type": "code",
   "execution_count": 38,
   "metadata": {},
   "outputs": [
    {
     "name": "stdout",
     "output_type": "stream",
     "text": [
      "+----------+----------+-------+-------+---------+-----------+--------------------+---+-----+\n",
      "|event_type|product_id|  brand|  price|  user_id|   category|             product|day|month|\n",
      "+----------+----------+-------+-------+---------+-----------+--------------------+---+-----+\n",
      "|      view|   3600661|samsung| 308.86|572466808| appliances|      kitchen.washer| 17|   11|\n",
      "|      view|   1005136|  apple|2007.52|518751528|electronics|          smartphone| 14|   11|\n",
      "|      view|   1401577|  apple| 1441.2|520999069|  computers|             desktop| 23|   11|\n",
      "|      view|   1005159| xiaomi| 200.39|517708505|electronics|          smartphone| 21|   11|\n",
      "|      cart|   1004766|samsung| 251.82|523183378|electronics|          smartphone| 22|   11|\n",
      "|      view| 100003580| optima| 193.03|519133244| appliances|kitchen.refrigera...| 15|   11|\n",
      "|      view|   1801226|  yasin| 115.75|568638630|electronics|            video.tv| 20|   11|\n",
      "|      view|   1004858|samsung|  126.0|516835814|electronics|          smartphone| 15|   11|\n",
      "|      view|   1003864|   oppo| 231.67|519815419|electronics|          smartphone|  5|   11|\n",
      "|      view|   1005115|  apple| 915.69|519936627|electronics|          smartphone|  6|   11|\n",
      "|      view|   1005077|     bq| 118.15|573927719|electronics|          smartphone| 21|   11|\n",
      "|      view|   4804660| xiaomi|  23.07|548101214|electronics|     audio.headphone| 15|   11|\n",
      "|      view|   1005100|samsung| 136.76|572120627|electronics|          smartphone| 16|   11|\n",
      "|      view|   8800841|  texet|  19.28|516098313|electronics|           telephone| 12|   11|\n",
      "|      view|  13200275|    brw| 525.11|569544291|  furniture|         bedroom.bed| 21|   11|\n",
      "|      view| 100007868| lenovo|1096.63|526642663|  computers|             desktop| 26|   11|\n",
      "|      view|   1005238|   oppo| 308.63|513283781|electronics|          smartphone| 16|   11|\n",
      "|      view|   4804056|  apple| 165.07|568818694|electronics|     audio.headphone| 22|   11|\n",
      "|      view|   1201479| lenovo| 306.06|513994701|electronics|              tablet| 15|   11|\n",
      "|      cart|   4501892|  crown| 104.78|547568205| appliances|         kitchen.hob| 21|   11|\n",
      "+----------+----------+-------+-------+---------+-----------+--------------------+---+-----+\n",
      "only showing top 20 rows\n",
      "\n"
     ]
    }
   ],
   "source": [
    "df = spark.read.csv(hadoop_path + '/combined_Data/', header = True, inferSchema = True)\n",
    "df.show()"
   ]
  },
  {
   "cell_type": "code",
   "execution_count": 39,
   "metadata": {},
   "outputs": [
    {
     "name": "stdout",
     "output_type": "stream",
     "text": [
      "+---+----------+----------+-------+-------+---------+-----------+--------------------+---+-----+\n",
      "| id|event_type|product_id|  brand|  price|  user_id|   category|             product|day|month|\n",
      "+---+----------+----------+-------+-------+---------+-----------+--------------------+---+-----+\n",
      "|  0|      view|   3600661|samsung| 308.86|572466808| appliances|      kitchen.washer| 17|   11|\n",
      "|  1|      view|   1005136|  apple|2007.52|518751528|electronics|          smartphone| 14|   11|\n",
      "|  2|      view|   1401577|  apple| 1441.2|520999069|  computers|             desktop| 23|   11|\n",
      "|  3|      view|   1005159| xiaomi| 200.39|517708505|electronics|          smartphone| 21|   11|\n",
      "|  4|      cart|   1004766|samsung| 251.82|523183378|electronics|          smartphone| 22|   11|\n",
      "|  5|      view| 100003580| optima| 193.03|519133244| appliances|kitchen.refrigera...| 15|   11|\n",
      "|  6|      view|   1801226|  yasin| 115.75|568638630|electronics|            video.tv| 20|   11|\n",
      "|  7|      view|   1004858|samsung|  126.0|516835814|electronics|          smartphone| 15|   11|\n",
      "|  8|      view|   1003864|   oppo| 231.67|519815419|electronics|          smartphone|  5|   11|\n",
      "|  9|      view|   1005115|  apple| 915.69|519936627|electronics|          smartphone|  6|   11|\n",
      "| 10|      view|   1005077|     bq| 118.15|573927719|electronics|          smartphone| 21|   11|\n",
      "| 11|      view|   4804660| xiaomi|  23.07|548101214|electronics|     audio.headphone| 15|   11|\n",
      "| 12|      view|   1005100|samsung| 136.76|572120627|electronics|          smartphone| 16|   11|\n",
      "| 13|      view|   8800841|  texet|  19.28|516098313|electronics|           telephone| 12|   11|\n",
      "| 14|      view|  13200275|    brw| 525.11|569544291|  furniture|         bedroom.bed| 21|   11|\n",
      "| 15|      view| 100007868| lenovo|1096.63|526642663|  computers|             desktop| 26|   11|\n",
      "| 16|      view|   1005238|   oppo| 308.63|513283781|electronics|          smartphone| 16|   11|\n",
      "| 17|      view|   4804056|  apple| 165.07|568818694|electronics|     audio.headphone| 22|   11|\n",
      "| 18|      view|   1201479| lenovo| 306.06|513994701|electronics|              tablet| 15|   11|\n",
      "| 19|      cart|   4501892|  crown| 104.78|547568205| appliances|         kitchen.hob| 21|   11|\n",
      "+---+----------+----------+-------+-------+---------+-----------+--------------------+---+-----+\n",
      "only showing top 20 rows\n",
      "\n"
     ]
    }
   ],
   "source": [
    "df_index = df.select('*').withColumn('id', F.monotonically_increasing_id())\n",
    "column_names = ['id'] + [col for col in df.columns]\n",
    "\n",
    "df_index_first = df_index.select(column_names)\n",
    "df_index_first.show()"
   ]
  },
  {
   "cell_type": "code",
   "execution_count": 40,
   "metadata": {},
   "outputs": [],
   "source": [
    "df = df_index_first.withColumn(\"is_purchased\", when(df[\"event_type\"] == \"purchase\", 1).otherwise(0))"
   ]
  },
  {
   "cell_type": "code",
   "execution_count": 58,
   "metadata": {},
   "outputs": [],
   "source": [
    "indexer = StringIndexer(inputCol=\"category\", outputCol=\"categoryIndex\")\n",
    "encoder = OneHotEncoder(inputCols=[\"categoryIndex\"], outputCols=[\"categoryVec\"])\n",
    "assembler = VectorAssembler(inputCols=[\"categoryVec\", \"price\", \"day\",\"month\"], outputCol=\"features\")\n",
    "scaler = StandardScaler(inputCol=\"features\", outputCol=\"scaledFeatures\")\n",
    "lr = LogisticRegression(featuresCol=\"scaledFeatures\", labelCol=\"is_purchased\")"
   ]
  },
  {
   "cell_type": "code",
   "execution_count": 60,
   "metadata": {},
   "outputs": [],
   "source": [
    "pipeline = Pipeline(stages=[indexer, encoder, assembler, scaler, lr])"
   ]
  },
  {
   "cell_type": "code",
   "execution_count": 61,
   "metadata": {},
   "outputs": [],
   "source": [
    "(train, test) = df.randomSplit([0.8, 0.2])"
   ]
  },
  {
   "cell_type": "code",
   "execution_count": 62,
   "metadata": {},
   "outputs": [],
   "source": [
    "model = pipeline.fit(train)"
   ]
  },
  {
   "cell_type": "code",
   "execution_count": 63,
   "metadata": {},
   "outputs": [
    {
     "name": "stdout",
     "output_type": "stream",
     "text": [
      "+---+----------+----------+-------+-------+---------+------------+----------------------+---+-----+------------+-------------+---------------+-----------------------------------------+------------------------------------------------------------------------------------------------+----------------------------------------+-----------------------------------------+----------+\n",
      "|id |event_type|product_id|brand  |price  |user_id  |category    |product               |day|month|is_purchased|categoryIndex|categoryVec    |features                                 |scaledFeatures                                                                                  |rawPrediction                           |probability                              |prediction|\n",
      "+---+----------+----------+-------+-------+---------+------------+----------------------+---+-----+------------+-------------+---------------+-----------------------------------------+------------------------------------------------------------------------------------------------+----------------------------------------+-----------------------------------------+----------+\n",
      "|5  |view      |100003580 |optima |193.03 |519133244|appliances  |kitchen.refrigerators |15 |11   |0           |1.0          |(12,[1],[1.0]) |(15,[1,12,13,14],[1.0,193.03,15.0,11.0]) |(15,[1,12,13,14],[2.5081980326509328,0.5180044588964038,1.8386480565421033,22.161147890711323]) |[4.333096872537485,-4.333096872537485]  |[0.987043248750262,0.012956751249738052] |0.0       |\n",
      "|9  |view      |1005115   |apple  |915.69 |519936627|electronics |smartphone            |6  |11   |0           |0.0          |(12,[0],[1.0]) |(15,[0,12,13,14],[1.0,915.69,6.0,11.0])  |(15,[0,12,13,14],[2.1528913789363755,2.457294218343512,0.7354592226168413,22.161147890711323])  |[4.090634272563225,-4.090634272563225]  |[0.9835466226046327,0.01645337739536734] |0.0       |\n",
      "|12 |view      |1005100   |samsung|136.76 |572120627|electronics |smartphone            |16 |11   |0           |0.0          |(12,[0],[1.0]) |(15,[0,12,13,14],[1.0,136.76,16.0,11.0]) |(15,[0,12,13,14],[2.1528913789363755,0.36700144950874053,1.9612245936449102,22.161147890711323])|[3.939158144840178,-3.939158144840178]  |[0.9809070424521845,0.01909295754781548] |0.0       |\n",
      "|15 |view      |100007868 |lenovo |1096.63|526642663|computers   |desktop               |26 |11   |0           |4.0          |(12,[4],[1.0]) |(15,[4,12,13,14],[1.0,1096.63,26.0,11.0])|(15,[4,12,13,14],[3.962503407644277,2.942854632749124,3.186989964672979,22.161147890711323])    |[4.657854048360508,-4.657854048360508]  |[0.9906023547843479,0.009397645215652117]|0.0       |\n",
      "|16 |view      |1005238   |oppo   |308.63 |513283781|electronics |smartphone            |16 |11   |0           |0.0          |(12,[0],[1.0]) |(15,[0,12,13,14],[1.0,308.63,16.0,11.0]) |(15,[0,12,13,14],[2.1528913789363755,0.8282221216867695,1.9612245936449102,22.161147890711323]) |[3.949835510169064,-3.949835510169064]  |[0.9811059891517792,0.018894010848220844]|0.0       |\n",
      "|23 |view      |1004727   |sony   |179.67 |527900914|electronics |smartphone            |27 |11   |0           |0.0          |(12,[0],[1.0]) |(15,[0,12,13,14],[1.0,179.67,27.0,11.0]) |(15,[0,12,13,14],[2.1528913789363755,0.4821523137849913,3.309566501775786,22.161147890711323])  |[3.828430011137488,-3.828430011137488]  |[0.9787190019419506,0.021280998058049394]|0.0       |\n",
      "|25 |view      |1003535   |samsung|561.25 |535204704|electronics |smartphone            |21 |11   |0           |0.0          |(12,[0],[1.0]) |(15,[0,12,13,14],[1.0,561.25,21.0,11.0]) |(15,[0,12,13,14],[2.1528913789363755,1.5061389553727744,2.5741072791589446,22.161147890711323]) |[3.913986758678506,-3.913986758678506]  |[0.9804298712383182,0.01957012876168185] |0.0       |\n",
      "|33 |view      |6200806   |oasis  |30.86  |519275111|appliances  |environment.air_heater|11 |11   |0           |1.0          |(12,[1],[1.0]) |(15,[1,12,13,14],[1.0,30.86,11.0,11.0])  |(15,[1,12,13,14],[2.5081980326509328,0.08281416153728965,1.3483419081308758,22.161147890711323])|[4.364256262908503,-4.364256262908503]  |[0.9874357538601375,0.012564246139862512]|0.0       |\n",
      "|35 |view      |3601405   |beko   |177.07 |516993326|appliances  |kitchen.washer        |16 |11   |0           |1.0          |(12,[1],[1.0]) |(15,[1,12,13,14],[1.0,177.07,16.0,11.0]) |(15,[1,12,13,14],[2.5081980326509328,0.4751750999160039,1.9612245936449102,22.161147890711323]) |[4.321796826338252,-4.321796826338252]  |[0.9868979356846012,0.013102064315398843]|0.0       |\n",
      "|47 |view      |3700926   |samsung|68.98  |547717474|appliances  |environment.vacuum    |5  |11   |0           |1.0          |(12,[1],[1.0]) |(15,[1,12,13,14],[1.0,68.98,5.0,11.0])   |(15,[1,12,13,14],[2.5081980326509328,0.18511085103182892,0.6128826855140345,22.161147890711323])|[4.428475674696573,-4.428475674696573]  |[0.9882080443771133,0.011791955622886707]|0.0       |\n",
      "|53 |view      |4804300   |ritmix |36.01  |535566625|electronics |audio.headphone       |14 |11   |0           |0.0          |(12,[0],[1.0]) |(15,[0,12,13,14],[1.0,36.01,14.0,11.0])  |(15,[0,12,13,14],[2.1528913789363755,0.09663441208547635,1.7160715194392964,22.161147890711323])|[3.953516158585107,-3.953516158585107]  |[0.98117409675099,0.018825903249010012]  |0.0       |\n",
      "|54 |view      |1005115   |apple  |914.0  |513545366|electronics |smartphone            |14 |11   |0           |0.0          |(12,[0],[1.0]) |(15,[0,12,13,14],[1.0,914.0,14.0,11.0])  |(15,[0,12,13,14],[2.1528913789363755,2.4527590293286696,1.7160715194392964,22.161147890711323]) |[4.00806098889353,-4.00806098889353]    |[0.9821556170784629,0.017844382921537116]|0.0       |\n",
      "|66 |view      |1306949   |acer   |540.04 |566388948|computers   |notebook              |15 |11   |0           |4.0          |(12,[4],[1.0]) |(15,[4,12,13,14],[1.0,540.04,15.0,11.0]) |(15,[4,12,13,14],[3.962503407644277,1.4492209914646113,1.8386480565421033,22.161147890711323])  |[4.736669986670504,-4.736669986670504]  |[0.9913084115623374,0.0086915884376626]  |0.0       |\n",
      "|69 |view      |1801918   |samsung|1415.71|538070153|electronics |video.tv              |17 |11   |0           |0.0          |(12,[0],[1.0]) |(15,[0,12,13,14],[1.0,1415.71,17.0,11.0])|(15,[0,12,13,14],[2.1528913789363755,3.799119787101631,2.083801130747717,22.161147890711323])   |[4.008303942232194,-4.008303942232194]  |[0.9821598745704324,0.017840125429567588]|0.0       |\n",
      "|71 |view      |1005007   |xiaomi |93.63  |513569112|electronics |smartphone            |20 |11   |0           |0.0          |(12,[0],[1.0]) |(15,[0,12,13,14],[1.0,93.63,20.0,11.0])  |(15,[0,12,13,14],[2.1528913789363755,0.25126020559742157,2.451530742056138,22.161147890711323]) |[3.8952445617536173,-3.8952445617536173]|[0.9800670053687865,0.019932994631213452]|0.0       |\n",
      "|74 |cart      |4804056   |apple  |169.35 |572600277|electronics |audio.headphone       |17 |11   |0           |0.0          |(12,[0],[1.0]) |(15,[0,12,13,14],[1.0,169.35,17.0,11.0]) |(15,[0,12,13,14],[2.1528913789363755,0.4544581418127026,2.083801130747717,22.161147890711323])  |[3.930874250888094,-3.930874250888094]  |[0.9807512785972012,0.019248721402798763]|0.0       |\n",
      "|90 |view      |3701164   |bosch  |102.94 |523258661|appliances  |environment.vacuum    |15 |11   |0           |1.0          |(12,[1],[1.0]) |(15,[1,12,13,14],[1.0,102.94,15.0,11.0]) |(15,[1,12,13,14],[2.5081980326509328,0.27624399833598823,1.8386480565421033,22.161147890711323])|[4.327500061910387,-4.327500061910387]  |[0.9869714763890813,0.013028523610918663]|0.0       |\n",
      "|95 |view      |1004794   |xiaomi |220.03 |541118478|electronics |smartphone            |28 |11   |0           |0.0          |(12,[0],[1.0]) |(15,[0,12,13,14],[1.0,220.03,28.0,11.0]) |(15,[0,12,13,14],[2.1528913789363755,0.5904601413820428,3.4321430388785927,22.161147890711323]) |[3.8206288257942678,-3.8206288257942678]|[0.978555909686241,0.021444090313759046] |0.0       |\n",
      "|101|cart      |1004833   |samsung|168.65 |548137284|electronics |smartphone            |28 |11   |0           |0.0          |(12,[0],[1.0]) |(15,[0,12,13,14],[1.0,168.65,28.0,11.0]) |(15,[0,12,13,14],[2.1528913789363755,0.45257966115566756,3.4321430388785927,22.161147890711323])|[3.817436860759077,-3.817436860759077]  |[0.9784888263065397,0.02151117369346034] |0.0       |\n",
      "|102|view      |27600022  |bosch  |125.61 |512947116|country_yard|lawn_mower            |21 |11   |0           |10.0         |(12,[10],[1.0])|(15,[10,12,13,14],[1.0,125.61,21.0,11.0])|(15,[10,12,13,14],[31.03258620644088,0.3370799361859674,2.5741072791589446,22.161147890711323]) |[4.377629156589471,-4.377629156589471]  |[0.9876005862350038,0.012399413764996203]|0.0       |\n",
      "+---+----------+----------+-------+-------+---------+------------+----------------------+---+-----+------------+-------------+---------------+-----------------------------------------+------------------------------------------------------------------------------------------------+----------------------------------------+-----------------------------------------+----------+\n",
      "only showing top 20 rows\n",
      "\n"
     ]
    }
   ],
   "source": [
    "transformed_data = model.transform(test)\n",
    "\n",
    "transformed_data.show(truncate=False)\n"
   ]
  },
  {
   "cell_type": "code",
   "execution_count": 64,
   "metadata": {},
   "outputs": [],
   "source": [
    "predictions = model.transform(test)"
   ]
  },
  {
   "cell_type": "code",
   "execution_count": 65,
   "metadata": {},
   "outputs": [
    {
     "name": "stdout",
     "output_type": "stream",
     "text": [
      "Accuracy:  0.607943383602589\n"
     ]
    }
   ],
   "source": [
    "evaluator = BinaryClassificationEvaluator(labelCol=\"is_purchased\")\n",
    "accuracy = evaluator.evaluate(predictions)\n",
    "print(\"Accuracy: \", accuracy)"
   ]
  },
  {
   "cell_type": "markdown",
   "metadata": {},
   "source": [
    " Predict the likelihood of a user preferring a specific brand"
   ]
  },
  {
   "cell_type": "code",
   "execution_count": 41,
   "metadata": {},
   "outputs": [
    {
     "name": "stdout",
     "output_type": "stream",
     "text": [
      "+---------+-----------+-----------------+\n",
      "|  user_id|      brand|interaction_count|\n",
      "+---------+-----------+-----------------+\n",
      "|572466808|    samsung|               11|\n",
      "|519048171|    samsung|               25|\n",
      "|514781092|      bayer|                1|\n",
      "|568914039|      razer|                7|\n",
      "|545668384|      apple|               20|\n",
      "|523507259|    samsung|                3|\n",
      "|571853173|     thomas|                9|\n",
      "|556616265|      legre|                2|\n",
      "|565342189|      apple|               32|\n",
      "|520563628|     huawei|                9|\n",
      "|517583596|     lenovo|               22|\n",
      "|577488590|    karcher|                9|\n",
      "|526730807|         bq|                2|\n",
      "|578245775|   autoline|                2|\n",
      "|514419099|      delux|                2|\n",
      "|534511379|      bosch|               11|\n",
      "|514987226|      apple|              127|\n",
      "|568667424|plantronics|                7|\n",
      "|518855693|      apple|               52|\n",
      "|515817168|         sv|               17|\n",
      "+---------+-----------+-----------------+\n",
      "only showing top 20 rows\n",
      "\n"
     ]
    }
   ],
   "source": [
    "brand_interaction_count = df.groupBy(\"user_id\", \"brand\").count().withColumnRenamed(\"count\", \"interaction_count\")\n",
    "brand_interaction_count.show()"
   ]
  },
  {
   "cell_type": "code",
   "execution_count": 42,
   "metadata": {},
   "outputs": [
    {
     "name": "stdout",
     "output_type": "stream",
     "text": [
      "+---------+--------+--------------+\n",
      "|  user_id|   brand|purchase_count|\n",
      "+---------+--------+--------------+\n",
      "|574100819|   honor|             2|\n",
      "|567726905| samsung|             1|\n",
      "|569893776|   apple|             7|\n",
      "|571776964|  xiaomi|             1|\n",
      "|516781900| samsung|             1|\n",
      "|514115418|   apple|            17|\n",
      "|547625107|   apple|             3|\n",
      "|564929325| samsung|             7|\n",
      "|518329681| samsung|             3|\n",
      "|516055995|    asus|             6|\n",
      "|567411597| samsung|             1|\n",
      "|516491883|  xiaomi|             1|\n",
      "|537587201| element|             6|\n",
      "|516363526|elenberg|             1|\n",
      "|565961604| samsung|            15|\n",
      "|560417238| samsung|             7|\n",
      "|514550893|   apple|             4|\n",
      "|558952612|    acer|             2|\n",
      "|512896694|  bosher|             2|\n",
      "|553306800|    zeta|             1|\n",
      "+---------+--------+--------------+\n",
      "only showing top 20 rows\n",
      "\n"
     ]
    }
   ],
   "source": [
    "brand_purchase_count = df.filter(col(\"event_type\") == \"purchase\").groupBy(\"user_id\", \"brand\").count().withColumnRenamed(\"count\", \"purchase_count\")\n",
    "brand_purchase_count.show()"
   ]
  },
  {
   "cell_type": "code",
   "execution_count": 43,
   "metadata": {},
   "outputs": [
    {
     "name": "stdout",
     "output_type": "stream",
     "text": [
      "+---------+----------+------------+----------+----------+------+------------+--------------------+---+-----+------------+-----------------+--------------+\n",
      "|  user_id|     brand|          id|event_type|product_id| price|    category|             product|day|month|is_purchased|interaction_count|purchase_count|\n",
      "+---------+----------+------------+----------+----------+------+------------+--------------------+---+-----+------------+-----------------+--------------+\n",
      "|469154355|    xiaomi|171798691854|      view|   1004792|478.26| electronics|          smartphone|  4|   11|           0|               18|             1|\n",
      "|512504927|sportelite|154618822665|      view|  27000040| 361.4|       sport|             trainer| 28|   12|           0|               23|          null|\n",
      "|512564822|    rieker|214748364811|      view|  28721092|106.31|     apparel|               shoes| 25|   11|           0|               60|             1|\n",
      "|513221934|   samsung| 25769803794|      view|   3601344|424.46|  appliances|      kitchen.washer| 22|   12|           0|              111|             1|\n",
      "|513283781|      oppo|          16|      view|   1005238|308.63| electronics|          smartphone| 16|   11|           0|               27|          null|\n",
      "|513333263|     popov|360777252873|      view|  16800177|151.87|  appliances|kitchen.refrigera...| 11|   12|           0|               22|          null|\n",
      "|513994701|    lenovo|          18|      view|   1201479|306.06| electronics|              tablet| 15|   11|           0|                1|          null|\n",
      "|514565944|   samsung|300647710728|      view|   1005177|900.64| electronics|          smartphone| 13|   11|           0|               52|          null|\n",
      "|514629771|     apple|231928233997|      view|   4804572| 208.5| electronics|     audio.headphone| 10|   11|           0|               42|             2|\n",
      "|516204782|      gewa|352187318290|      view|  15500195|  53.8|     apparel|           underwear| 15|   12|           0|               27|          null|\n",
      "|516407588|   samsung|111669149705|      view|   1005212|177.02|construction|         tools.light| 22|   12|           0|               71|             1|\n",
      "|516600395|     apple|146028888084|      view|   1005115| 914.0| electronics|          smartphone| 14|   11|           0|                2|          null|\n",
      "|516783278|   karcher|283467841541|      view|   3700907|118.38|  appliances|  environment.vacuum| 29|   12|           0|               35|             1|\n",
      "|516869050|    sho-me|197568495616|      view|   4700392|183.97| accessories|              wallet| 30|   12|           0|                8|             1|\n",
      "|517004984|    rieker|386547056654|      view| 100029815| 88.29|     apparel|               shoes| 25|   12|           0|                1|          null|\n",
      "|519233713|   rowenta|154618822659|      view|   5500161| 19.28|   furniture|     bedroom.blanket| 20|   12|           0|                2|          null|\n",
      "|521112196|       dwt| 17179869188|      view|  19100319| 88.55|construction|           tools.saw| 26|   11|           0|                4|          null|\n",
      "|521173911|     apple|171798691860|      view|   1004246|795.64| electronics|          smartphone| 17|   11|           0|               47|          null|\n",
      "|521828493|       aeg|223338299406|      view|  29100018| 44.73|  appliances|   personal.massager|  6|   11|           0|                3|          null|\n",
      "|522577385|   samsung|257698037770|      view|   1004833| 168.7| electronics|          smartphone| 14|   11|           0|               25|          null|\n",
      "+---------+----------+------------+----------+----------+------+------------+--------------------+---+-----+------------+-----------------+--------------+\n",
      "only showing top 20 rows\n",
      "\n"
     ]
    }
   ],
   "source": [
    "# Join interaction count back to the original DataFrame\n",
    "df = df.join(brand_interaction_count, [\"user_id\", \"brand\"], \"left\")\n",
    "\n",
    "# Join purchase count back to the original DataFrame\n",
    "df = df.join(brand_purchase_count, [\"user_id\", \"brand\"], \"left\")\n",
    "\n",
    "df.show()"
   ]
  },
  {
   "cell_type": "code",
   "execution_count": 44,
   "metadata": {},
   "outputs": [],
   "source": [
    "df = df.na.fill({'purchase_count': 0})"
   ]
  },
  {
   "cell_type": "code",
   "execution_count": 45,
   "metadata": {},
   "outputs": [
    {
     "name": "stdout",
     "output_type": "stream",
     "text": [
      "+---------+--------+------------+----------+----------+------+------------+--------------------+---+-----+------------+-----------------+--------------+-------------------+\n",
      "|  user_id|   brand|          id|event_type|product_id| price|    category|             product|day|month|is_purchased|interaction_count|purchase_count|avg_price_per_brand|\n",
      "+---------+--------+------------+----------+----------+------+------------+--------------------+---+-----+------------+-----------------+--------------+-------------------+\n",
      "|469154355|  xiaomi|171798691854|      view|   1004792|478.26| electronics|          smartphone|  4|   11|           0|               18|             1|  447.6044444444444|\n",
      "|513333263|   popov|360777252873|      view|  16800177|151.87|  appliances|kitchen.refrigera...| 11|   12|           0|               22|             0| 114.54045454545454|\n",
      "|513994701|  lenovo|          18|      view|   1201479|306.06| electronics|              tablet| 15|   11|           0|                1|             0|             306.06|\n",
      "|514565944| samsung|300647710728|      view|   1005177|900.64| electronics|          smartphone| 13|   11|           0|               52|             0|  679.1138461538461|\n",
      "|516204782|    gewa|352187318290|      view|  15500195|  53.8|     apparel|           underwear| 15|   12|           0|               27|             0|  46.89444444444444|\n",
      "|516783278| karcher|283467841541|      view|   3700907|118.38|  appliances|  environment.vacuum| 29|   12|           0|               35|             1| 120.13428571428574|\n",
      "|516869050|  sho-me|197568495616|      view|   4700392|183.97| accessories|              wallet| 30|   12|           0|                8|             1| 166.25250000000003|\n",
      "|521173911|   apple|171798691860|      view|   1004246|795.64| electronics|          smartphone| 17|   11|           0|               47|             0|  721.1444680851064|\n",
      "|522577385| samsung|257698037770|      view|   1004833| 168.7| electronics|          smartphone| 14|   11|           0|               25|             0| 164.53199999999998|\n",
      "|525132445|  xiaomi| 42949672973|      view|   1003339| 202.1| electronics|          smartphone| 21|   11|           0|               49|             0| 162.84204081632654|\n",
      "|525132445|  xiaomi| 85899345934|      view|   1003339| 202.1| electronics|          smartphone| 21|   11|           0|               49|             0| 162.84204081632654|\n",
      "|533862019| dometic| 42949672980|      view|  46800012|115.65|  appliances|kitchen.refrigera...| 17|   11|           0|                1|             0|             115.65|\n",
      "|542254663|    vega|326417514512|      view| 100037679| 40.54|        auto|accessories.compr...| 31|   12|           0|                5|             0|              40.54|\n",
      "|552056641|gigabyte|128849018881|      view|   6501044|311.95|   computers|components.mother...|  5|   11|           0|                4|             0|             297.15|\n",
      "|567946653|      lg| 94489280528|      view|   3601472|519.17|  appliances|      kitchen.washer|  5|   11|           0|                7|             0|  605.4785714285714|\n",
      "|568506500| samsung|188978561025|      view|   1004433|334.37| electronics|          smartphone|  8|   11|           0|                3|             0|             334.37|\n",
      "|572466808| samsung|           0|      view|   3600661|308.86|  appliances|      kitchen.washer| 17|   11|           0|               11|             0| 254.31090909090915|\n",
      "|573847105| samsung|249108103182|  purchase|   1004856|122.95|construction|         tools.light|  6|   12|           1|               51|             3| 222.02764705882365|\n",
      "|575402394|  huawei|309237645324|      view|   1004723|125.81| electronics|          smartphone| 23|   11|           0|               28|             0| 173.62857142857143|\n",
      "|588790661|  xiaomi|377957122062|      view|   1005160|184.03|construction|         tools.light| 18|   12|           0|               28|             1|  181.9764285714286|\n",
      "+---------+--------+------------+----------+----------+------+------------+--------------------+---+-----+------------+-----------------+--------------+-------------------+\n",
      "only showing top 20 rows\n",
      "\n"
     ]
    }
   ],
   "source": [
    "avg_price_interaction = df.groupBy(\"user_id\", \"brand\").agg(avg(\"price\").alias(\"avg_price_per_brand\"))\n",
    "df = df.join(avg_price_interaction, [\"user_id\", \"brand\"], \"left\")\n",
    "df.show()"
   ]
  },
  {
   "cell_type": "code",
   "execution_count": 46,
   "metadata": {},
   "outputs": [
    {
     "name": "stdout",
     "output_type": "stream",
     "text": [
      "+---------+----------+------------+----------+----------+------+------------+--------------------+---+-----+------------+-----------------+--------------+-------------------+--------------------+\n",
      "|  user_id|     brand|          id|event_type|product_id| price|    category|             product|day|month|is_purchased|interaction_count|purchase_count|avg_price_per_brand|last_interaction_day|\n",
      "+---------+----------+------------+----------+----------+------+------------+--------------------+---+-----+------------+-----------------+--------------+-------------------+--------------------+\n",
      "|469154355|    xiaomi|171798691854|      view|   1004792|478.26| electronics|          smartphone|  4|   11|           0|               18|             1|  447.6044444444444|                   4|\n",
      "|513333263|     popov|360777252873|      view|  16800177|151.87|  appliances|kitchen.refrigera...| 11|   12|           0|               22|             0| 114.54045454545454|                  21|\n",
      "|516204782|      gewa|352187318290|      view|  15500195|  53.8|     apparel|           underwear| 15|   12|           0|               27|             0|  46.89444444444444|                  31|\n",
      "|516783278|   karcher|283467841541|      view|   3700907|118.38|  appliances|  environment.vacuum| 29|   12|           0|               35|             1| 120.13428571428574|                  30|\n",
      "|516869050|    sho-me|197568495616|      view|   4700392|183.97| accessories|              wallet| 30|   12|           0|                8|             1| 166.25250000000003|                  31|\n",
      "|521173911|     apple|171798691860|      view|   1004246|795.64| electronics|          smartphone| 17|   11|           0|               47|             0|  721.1444680851064|                  17|\n",
      "|522577385|   samsung|257698037770|      view|   1004833| 168.7| electronics|          smartphone| 14|   11|           0|               25|             0| 164.53199999999998|                  15|\n",
      "|525132445|    xiaomi| 42949672973|      view|   1003339| 202.1| electronics|          smartphone| 21|   11|           0|               49|             0| 162.84204081632654|                  23|\n",
      "|525132445|    xiaomi| 85899345934|      view|   1003339| 202.1| electronics|          smartphone| 21|   11|           0|               49|             0| 162.84204081632654|                  23|\n",
      "|533862019|   dometic| 42949672980|      view|  46800012|115.65|  appliances|kitchen.refrigera...| 17|   11|           0|                1|             0|             115.65|                  17|\n",
      "|552056641|  gigabyte|128849018881|      view|   6501044|311.95|   computers|components.mother...|  5|   11|           0|                4|             0|             297.15|                   5|\n",
      "|572466808|   samsung|           0|      view|   3600661|308.86|  appliances|      kitchen.washer| 17|   11|           0|               11|             0| 254.31090909090915|                  30|\n",
      "|573847105|   samsung|249108103182|  purchase|   1004856|122.95|construction|         tools.light|  6|   12|           1|               51|             3| 222.02764705882365|                  27|\n",
      "|575402394|    huawei|309237645324|      view|   1004723|125.81| electronics|          smartphone| 23|   11|           0|               28|             0| 173.62857142857143|                  23|\n",
      "|588790661|    xiaomi|377957122062|      view|   1005160|184.03|construction|         tools.light| 18|   12|           0|               28|             1|  181.9764285714286|                  20|\n",
      "|512504927|sportelite|154618822665|      view|  27000040| 361.4|       sport|             trainer| 28|   12|           0|               23|             0|  271.1930434782609|                  28|\n",
      "|513221934|   samsung| 25769803794|      view|   3601344|424.46|  appliances|      kitchen.washer| 22|   12|           0|              111|             1| 393.99765765765784|                  22|\n",
      "|513994701|    lenovo|          18|      view|   1201479|306.06| electronics|              tablet| 15|   11|           0|                1|             0|             306.06|                  15|\n",
      "|514565944|   samsung|300647710728|      view|   1005177|900.64| electronics|          smartphone| 13|   11|           0|               52|             0|  679.1138461538461|                  16|\n",
      "|519233713|   rowenta|154618822659|      view|   5500161| 19.28|   furniture|     bedroom.blanket| 20|   12|           0|                2|             0|              37.94|                  20|\n",
      "+---------+----------+------------+----------+----------+------+------------+--------------------+---+-----+------------+-----------------+--------------+-------------------+--------------------+\n",
      "only showing top 20 rows\n",
      "\n"
     ]
    }
   ],
   "source": [
    "recency_interaction = df.groupBy(\"user_id\", \"brand\").agg(max(\"day\").alias(\"last_interaction_day\"))\n",
    "df = df.join(recency_interaction, [\"user_id\", \"brand\"], \"left\")\n",
    "df.show()"
   ]
  },
  {
   "cell_type": "code",
   "execution_count": 47,
   "metadata": {},
   "outputs": [
    {
     "name": "stdout",
     "output_type": "stream",
     "text": [
      "+---------+----------+------------+----------+----------+------+------------+--------------------+---+-----+------------+-----------------+--------------+-------------------+--------------------+\n",
      "|  user_id|     brand|          id|event_type|product_id| price|    category|             product|day|month|is_purchased|interaction_count|purchase_count|avg_price_per_brand|last_interaction_day|\n",
      "+---------+----------+------------+----------+----------+------+------------+--------------------+---+-----+------------+-----------------+--------------+-------------------+--------------------+\n",
      "|469154355|    xiaomi|171798691854|      view|   1004792|478.26| electronics|          smartphone|  4|   11|           0|               18|             1|  447.6044444444444|                   4|\n",
      "|513333263|     popov|360777252873|      view|  16800177|151.87|  appliances|kitchen.refrigera...| 11|   12|           0|               22|             0| 114.54045454545454|                  21|\n",
      "|516204782|      gewa|352187318290|      view|  15500195|  53.8|     apparel|           underwear| 15|   12|           0|               27|             0|  46.89444444444444|                  31|\n",
      "|516783278|   karcher|283467841541|      view|   3700907|118.38|  appliances|  environment.vacuum| 29|   12|           0|               35|             1| 120.13428571428574|                  30|\n",
      "|516869050|    sho-me|197568495616|      view|   4700392|183.97| accessories|              wallet| 30|   12|           0|                8|             1| 166.25250000000003|                  31|\n",
      "|521173911|     apple|171798691860|      view|   1004246|795.64| electronics|          smartphone| 17|   11|           0|               47|             0|  721.1444680851064|                  17|\n",
      "|522577385|   samsung|257698037770|      view|   1004833| 168.7| electronics|          smartphone| 14|   11|           0|               25|             0| 164.53199999999998|                  15|\n",
      "|525132445|    xiaomi| 42949672973|      view|   1003339| 202.1| electronics|          smartphone| 21|   11|           0|               49|             0| 162.84204081632654|                  23|\n",
      "|525132445|    xiaomi| 85899345934|      view|   1003339| 202.1| electronics|          smartphone| 21|   11|           0|               49|             0| 162.84204081632654|                  23|\n",
      "|533862019|   dometic| 42949672980|      view|  46800012|115.65|  appliances|kitchen.refrigera...| 17|   11|           0|                1|             0|             115.65|                  17|\n",
      "|552056641|  gigabyte|128849018881|      view|   6501044|311.95|   computers|components.mother...|  5|   11|           0|                4|             0|             297.15|                   5|\n",
      "|572466808|   samsung|           0|      view|   3600661|308.86|  appliances|      kitchen.washer| 17|   11|           0|               11|             0| 254.31090909090915|                  30|\n",
      "|573847105|   samsung|249108103182|  purchase|   1004856|122.95|construction|         tools.light|  6|   12|           1|               51|             3| 222.02764705882365|                  27|\n",
      "|575402394|    huawei|309237645324|      view|   1004723|125.81| electronics|          smartphone| 23|   11|           0|               28|             0| 173.62857142857143|                  23|\n",
      "|588790661|    xiaomi|377957122062|      view|   1005160|184.03|construction|         tools.light| 18|   12|           0|               28|             1|  181.9764285714286|                  20|\n",
      "|512504927|sportelite|154618822665|      view|  27000040| 361.4|       sport|             trainer| 28|   12|           0|               23|             0|  271.1930434782609|                  28|\n",
      "|513221934|   samsung| 25769803794|      view|   3601344|424.46|  appliances|      kitchen.washer| 22|   12|           0|              111|             1| 393.99765765765784|                  22|\n",
      "|513994701|    lenovo|          18|      view|   1201479|306.06| electronics|              tablet| 15|   11|           0|                1|             0|             306.06|                  15|\n",
      "|514565944|   samsung|300647710728|      view|   1005177|900.64| electronics|          smartphone| 13|   11|           0|               52|             0|  679.1138461538461|                  16|\n",
      "|519233713|   rowenta|154618822659|      view|   5500161| 19.28|   furniture|     bedroom.blanket| 20|   12|           0|                2|             0|              37.94|                  20|\n",
      "+---------+----------+------------+----------+----------+------+------------+--------------------+---+-----+------------+-----------------+--------------+-------------------+--------------------+\n",
      "only showing top 20 rows\n",
      "\n"
     ]
    }
   ],
   "source": [
    "df = df.na.fill({\n",
    "    'purchase_count': 0,\n",
    "    'interaction_count': 0,\n",
    "    'avg_price_per_brand': 0,\n",
    "    \"last_interaction_day\":0\n",
    "})\n",
    "df.show()"
   ]
  },
  {
   "cell_type": "code",
   "execution_count": 49,
   "metadata": {},
   "outputs": [
    {
     "name": "stdout",
     "output_type": "stream",
     "text": [
      "+---------+---------+------------+----------+----------+------+------------+------------------+---+-----+------------+-----------------+--------------+-------------------+--------------------+----------+------------------+\n",
      "|  user_id|    brand|          id|event_type|product_id| price|    category|           product|day|month|is_purchased|interaction_count|purchase_count|avg_price_per_brand|last_interaction_day|brandIndex|          brandVec|\n",
      "+---------+---------+------------+----------+----------+------+------------+------------------+---+-----+------------+-----------------+--------------+-------------------+--------------------+----------+------------------+\n",
      "| 86517859|    tefal| 77309439831|      view|  15900313|  8.98|construction|   tools.generator|  6|   12|           0|                1|             0|               8.98|                   6|      20.0| (4289,[20],[1.0])|\n",
      "|170313967|moldabela| 60131466975|      view|  28100851|170.66|     apparel|           pajamas| 19|   12|           0|                3|             0| 112.48666666666666|                  19|     702.0|(4289,[702],[1.0])|\n",
      "|170313967|moldabela|206159160827|      view|  28100834| 89.84|       sport|           bicycle| 19|   12|           0|                3|             0| 112.48666666666666|                  19|     702.0|(4289,[702],[1.0])|\n",
      "|170313967|moldabela|326419341710|      view|  28100847| 76.96|     apparel|           pajamas| 19|   12|           0|                3|             0| 112.48666666666666|                  19|     702.0|(4289,[702],[1.0])|\n",
      "|205283752|  polaris| 25771019744|      view|   3700781| 34.73|  appliances|environment.vacuum| 16|   12|           0|                1|             0|              34.73|                  16|      27.0| (4289,[27],[1.0])|\n",
      "|237267250|   xiaomi| 17180220021|      view|   1005158|302.45| electronics|        smartphone|  9|   11|           0|               14|             0|  296.0835714285714|                  21|       2.0|  (4289,[2],[1.0])|\n",
      "|237267250|   xiaomi| 51541088883|      view|   1005158|302.45| electronics|        smartphone|  9|   11|           0|               14|             0|  296.0835714285714|                  21|       2.0|  (4289,[2],[1.0])|\n",
      "|237267250|   xiaomi| 85900860930|      view|   1005253|298.33| electronics|        smartphone|  9|   11|           0|               14|             0|  296.0835714285714|                  21|       2.0|  (4289,[2],[1.0])|\n",
      "|237267250|   xiaomi| 94491200070|      view|   1005158|302.45| electronics|        smartphone|  9|   11|           0|               14|             0|  296.0835714285714|                  21|       2.0|  (4289,[2],[1.0])|\n",
      "|237267250|   xiaomi|103080003781|      view|   1005158|302.45| electronics|        smartphone|  9|   11|           0|               14|             0|  296.0835714285714|                  21|       2.0|  (4289,[2],[1.0])|\n",
      "|237267250|   xiaomi|137440777507|      view|   1005253|285.46| electronics|        smartphone| 20|   11|           0|               14|             0|  296.0835714285714|                  21|       2.0|  (4289,[2],[1.0])|\n",
      "|237267250|   xiaomi|180389355756|      view|   1005253|285.46| electronics|        smartphone| 20|   11|           0|               14|             0|  296.0835714285714|                  21|       2.0|  (4289,[2],[1.0])|\n",
      "|237267250|   xiaomi|180389378181|      view|   1005221|298.06| electronics|        smartphone|  9|   11|           0|               14|             0|  296.0835714285714|                  21|       2.0|  (4289,[2],[1.0])|\n",
      "|237267250|   xiaomi|188978909578|      view|   1005253|298.33| electronics|        smartphone|  9|   11|           0|               14|             0|  296.0835714285714|                  21|       2.0|  (4289,[2],[1.0])|\n",
      "|237267250|   xiaomi|231928280901|      view|   1005253|285.46| electronics|        smartphone| 21|   11|           0|               14|             0|  296.0835714285714|                  21|       2.0|  (4289,[2],[1.0])|\n",
      "|237267250|   xiaomi|231928292914|      view|   1005221|298.06| electronics|        smartphone|  9|   11|           0|               14|             0|  296.0835714285714|                  21|       2.0|  (4289,[2],[1.0])|\n",
      "|237267250|   xiaomi|257699701177|      view|   1005221|298.06| electronics|        smartphone|  9|   11|           0|               14|             0|  296.0835714285714|                  21|       2.0|  (4289,[2],[1.0])|\n",
      "|237267250|   xiaomi|300647916039|      view|   1005253|290.09| electronics|        smartphone| 14|   11|           0|               14|             0|  296.0835714285714|                  21|       2.0|  (4289,[2],[1.0])|\n",
      "|237267250|   xiaomi|309237959135|      view|   1005221|298.06| electronics|        smartphone|  9|   11|           0|               14|             0|  296.0835714285714|                  21|       2.0|  (4289,[2],[1.0])|\n",
      "|240699019|    apple|163209476973|      view|   1003309| 746.2|construction|       tools.light| 27|   12|           0|                3|             0|  536.1633333333333|                  27|       1.0|  (4289,[1],[1.0])|\n",
      "+---------+---------+------------+----------+----------+------+------------+------------------+---+-----+------------+-----------------+--------------+-------------------+--------------------+----------+------------------+\n",
      "only showing top 20 rows\n",
      "\n"
     ]
    }
   ],
   "source": [
    "# Encode categorical variables\n",
    "brand_indexer = StringIndexer(inputCol=\"brand\", outputCol=\"brandIndex\")\n",
    "df = brand_indexer.fit(df).transform(df)\n",
    "encoder = OneHotEncoder(inputCols=[\"brandIndex\"], outputCols=[\"brandVec\"])\n",
    "df = encoder.fit(df).transform(df)\n",
    "df.show()"
   ]
  },
  {
   "cell_type": "code",
   "execution_count": 50,
   "metadata": {},
   "outputs": [],
   "source": [
    "save_path = hadoop_path_dec + '/SpecificBrand_Data/' \n",
    "\n",
    "df.repartition(8).write.mode('overwrite').option(\"header\", \"true\").parquet(save_path)\n"
   ]
  },
  {
   "cell_type": "code",
   "execution_count": 51,
   "metadata": {},
   "outputs": [],
   "source": [
    "# Assemble all features\n",
    "assembler = VectorAssembler(\n",
    "    inputCols=[\n",
    "        \"interaction_count\",\n",
    "        \"purchase_count\",\n",
    "        \"avg_price_per_brand\",\n",
    "        \"brandVec\",\n",
    "        \"last_interaction_day\",\n",
    "        \"day\",  \n",
    "        \"month\" \n",
    "    ],\n",
    "    outputCol=\"features\"\n",
    ")\n",
    "df = assembler.transform(df)"
   ]
  },
  {
   "cell_type": "code",
   "execution_count": 52,
   "metadata": {},
   "outputs": [],
   "source": [
    "windowSpec = Window.partitionBy(\"user_id\").orderBy(col(\"purchase_count\").desc())\n",
    "\n",
    "# Add a row number for each user based on purchase count (highest purchase count gets row_number = 1)\n",
    "df = df.withColumn(\"preference_rank\", row_number().over(windowSpec))\n",
    "\n",
    "# Define the target variable as 1 for the most preferred brand, 0 otherwise\n",
    "df = df.withColumn(\"label\", when(col(\"preference_rank\") == 1, 1).otherwise(0))"
   ]
  },
  {
   "cell_type": "code",
   "execution_count": null,
   "metadata": {},
   "outputs": [],
   "source": [
    "df.show()"
   ]
  },
  {
   "cell_type": "code",
   "execution_count": 53,
   "metadata": {},
   "outputs": [],
   "source": [
    "train, test = df.randomSplit([0.8, 0.2], seed=42)\n"
   ]
  },
  {
   "cell_type": "code",
   "execution_count": 54,
   "metadata": {},
   "outputs": [],
   "source": [
    "\n",
    "rf = RandomForestClassifier(featuresCol=\"features\", labelCol=\"label\", numTrees=10)\n",
    "\n",
    "model = rf.fit(train)\n"
   ]
  },
  {
   "cell_type": "code",
   "execution_count": 55,
   "metadata": {},
   "outputs": [],
   "source": [
    "predictions = model.transform(test)"
   ]
  },
  {
   "cell_type": "code",
   "execution_count": 56,
   "metadata": {},
   "outputs": [
    {
     "name": "stdout",
     "output_type": "stream",
     "text": [
      "Area Under ROC:  0.5005018271511746\n"
     ]
    }
   ],
   "source": [
    "# Evaluate model using Area Under ROC\n",
    "evaluator = BinaryClassificationEvaluator(labelCol=\"label\", rawPredictionCol=\"rawPrediction\", metricName=\"areaUnderROC\")\n",
    "roc_auc = evaluator.evaluate(predictions)\n",
    "print(\"Area Under ROC: \", roc_auc)"
   ]
  }
 ],
 "metadata": {
  "kernelspec": {
   "display_name": "Bigdata",
   "language": "python",
   "name": "python3"
  },
  "language_info": {
   "codemirror_mode": {
    "name": "ipython",
    "version": 3
   },
   "file_extension": ".py",
   "mimetype": "text/x-python",
   "name": "python",
   "nbconvert_exporter": "python",
   "pygments_lexer": "ipython3",
   "version": "3.11.5"
  }
 },
 "nbformat": 4,
 "nbformat_minor": 2
}
