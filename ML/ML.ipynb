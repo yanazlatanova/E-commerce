{
 "cells": [
  {
   "cell_type": "markdown",
   "metadata": {},
   "source": [
    "Predict whether a user who views or adds a product to the cart will proceed to purchase it."
   ]
  },
  {
   "cell_type": "code",
   "execution_count": 1,
   "metadata": {},
   "outputs": [
    {
     "name": "stdout",
     "output_type": "stream",
     "text": [
      "C:\\Users\\anama\\anaconda3\\envs\\Bigdata\\Lib\\site-packages\\pyspark\n"
     ]
    }
   ],
   "source": [
    "from pyspark.ml import Pipeline\n",
    "from pyspark.ml.classification import LogisticRegression\n",
    "from pyspark.ml.feature import StringIndexer, VectorAssembler, StandardScaler, OneHotEncoder\n",
    "from pyspark.ml.evaluation import BinaryClassificationEvaluator\n",
    "from pyspark.find_spark_home import _find_spark_home\n",
    "from pyspark.sql import SparkSession\n",
    "from pyspark import SparkConf, StorageLevel\n",
    "import pyspark.sql.functions as F\n",
    "import os\n",
    "from pyspark.sql.functions import col, count, isnan, avg, max, row_number\n",
    "from pyspark.sql.window import Window\n",
    "from pyspark.ml.classification import RandomForestClassifier\n",
    "from pyspark.sql.functions import when\n",
    "\n",
    "from dotenv import load_dotenv\n",
    "load_dotenv()\n",
    "\n",
    "print(_find_spark_home())"
   ]
  },
  {
   "cell_type": "code",
   "execution_count": 2,
   "metadata": {},
   "outputs": [],
   "source": [
    "python_path = os.environ.get('PYTHON_PATH')\n",
    "app_name = os.environ.get('APP_NAME_DEC')\n",
    "hadoop_path_dec = os.environ.get('HADOOP_DEC_DATASET_PATH')\n",
    "hadoop_path_nov = os.environ.get('HADOOP_NOV_DATASET_PATH')\n",
    "hadoop_path = os.environ.get('HADOOP_DATASET_PATH')"
   ]
  },
  {
   "cell_type": "code",
   "execution_count": 3,
   "metadata": {},
   "outputs": [
    {
     "name": "stdout",
     "output_type": "stream",
     "text": [
      "('spark.executor.extraJavaOptions', '-Djava.net.preferIPv6Addresses=false -XX:+IgnoreUnrecognizedVMOptions --add-opens=java.base/java.lang=ALL-UNNAMED --add-opens=java.base/java.lang.invoke=ALL-UNNAMED --add-opens=java.base/java.lang.reflect=ALL-UNNAMED --add-opens=java.base/java.io=ALL-UNNAMED --add-opens=java.base/java.net=ALL-UNNAMED --add-opens=java.base/java.nio=ALL-UNNAMED --add-opens=java.base/java.util=ALL-UNNAMED --add-opens=java.base/java.util.concurrent=ALL-UNNAMED --add-opens=java.base/java.util.concurrent.atomic=ALL-UNNAMED --add-opens=java.base/sun.nio.ch=ALL-UNNAMED --add-opens=java.base/sun.nio.cs=ALL-UNNAMED --add-opens=java.base/sun.security.action=ALL-UNNAMED --add-opens=java.base/sun.util.calendar=ALL-UNNAMED --add-opens=java.security.jgss/sun.security.krb5=ALL-UNNAMED -Djdk.reflect.useDirectMethodHandle=false')\n",
      "('spark.dynamicAllocation.minExecutors', '1')\n",
      "('spark.shuffle.service.enabled', 'true')\n",
      "('spark.driver.memory', '4g')\n",
      "('spark.executor.memory', '4g')\n",
      "('spark.dynamicAllocation.maxExecutors', '10')\n",
      "('spark.driver.host', 'BOOK-G6MUSCB12M.local')\n",
      "('spark.executor.id', 'driver')\n",
      "('spark.driver.extraJavaOptions', '-Djava.net.preferIPv6Addresses=false -XX:+IgnoreUnrecognizedVMOptions --add-opens=java.base/java.lang=ALL-UNNAMED --add-opens=java.base/java.lang.invoke=ALL-UNNAMED --add-opens=java.base/java.lang.reflect=ALL-UNNAMED --add-opens=java.base/java.io=ALL-UNNAMED --add-opens=java.base/java.net=ALL-UNNAMED --add-opens=java.base/java.nio=ALL-UNNAMED --add-opens=java.base/java.util=ALL-UNNAMED --add-opens=java.base/java.util.concurrent=ALL-UNNAMED --add-opens=java.base/java.util.concurrent.atomic=ALL-UNNAMED --add-opens=java.base/sun.nio.ch=ALL-UNNAMED --add-opens=java.base/sun.nio.cs=ALL-UNNAMED --add-opens=java.base/sun.security.action=ALL-UNNAMED --add-opens=java.base/sun.util.calendar=ALL-UNNAMED --add-opens=java.security.jgss/sun.security.krb5=ALL-UNNAMED -Djdk.reflect.useDirectMethodHandle=false')\n",
      "('spark.network.timeout', '800s')\n",
      "('spark.rdd.compress', 'True')\n",
      "('spark-local-dir', 'C:\\\\spark-temp')\n",
      "('spark.app.id', 'local-1703681263746')\n",
      "('spark.serializer.objectStreamReset', '100')\n",
      "('spark.driver.maxResultSize', '2g')\n",
      "('spark.pyspark.driver.python', 'C:\\\\\\\\Users\\\\\\\\anama\\\\\\\\anaconda3\\\\\\\\envs\\\\\\\\Bigdata\\\\\\\\python.exe')\n",
      "('spark.master', 'local[*]')\n",
      "('spark.submit.pyFiles', '')\n",
      "('spark.dynamicAllocation.executorIdleTimeout', '60s')\n",
      "('spark.app.startTime', '1703681262135')\n",
      "('spark.submit.deployMode', 'client')\n",
      "('spark.dynamicAllocation.enabled', 'true')\n",
      "('spark.app.submitTime', '1703681261898')\n",
      "('spark.ui.showConsoleProgress', 'true')\n",
      "('spark.app.name', 'ecommerce')\n",
      "('spark.driver.port', '63612')\n",
      "('spark.pyspark.python', 'C:\\\\\\\\Users\\\\\\\\anama\\\\\\\\anaconda3\\\\\\\\envs\\\\\\\\Bigdata\\\\\\\\python.exe')\n"
     ]
    }
   ],
   "source": [
    "conf = SparkConf()\\\n",
    "    .setMaster('local[*]')\\\n",
    "    .set('spark-local-dir', \"C:\\\\spark-temp\")\\\n",
    "    .set('spark.driver.memory', '4g')\\\n",
    "    .set('spark.executor.memory', '4g')\\\n",
    "    .set('spark.driver.maxResultSize', '2g')\\\n",
    "    .set('spark.pyspark.python', python_path)\\\n",
    "    .set('spark.pyspark.driver.python', python_path)\\\n",
    "    .set(\"spark.network.timeout\",\"800s\")\\\n",
    "    .set(\"spark.dynamicAllocation.enabled\", \"true\")\\\n",
    "    .set(\"spark.shuffle.service.enabled\", \"true\")\\\n",
    "    .set(\"spark.dynamicAllocation.minExecutors\", \"1\")\\\n",
    "    .set(\"spark.dynamicAllocation.maxExecutors\", \"10\")\\\n",
    "    .set(\"spark.dynamicAllocation.executorIdleTimeout\", \"60s\")\\\n",
    "\n",
    "spark = SparkSession.builder.appName(app_name).config(conf=conf).getOrCreate()\n",
    "sc = spark.sparkContext\n",
    "\n",
    "for item in sc.getConf().getAll(): print(item)"
   ]
  },
  {
   "cell_type": "code",
   "execution_count": null,
   "metadata": {},
   "outputs": [],
   "source": [
    "df_dec = spark.read.csv(hadoop_path_dec+'/selected_Data/', header = True, inferSchema = True)\n",
    "df_dec.show()"
   ]
  },
  {
   "cell_type": "code",
   "execution_count": null,
   "metadata": {},
   "outputs": [],
   "source": [
    "df_nov = spark.read.csv(hadoop_path_nov + '/selected_Data_Nov/', header = True, inferSchema = True)\n",
    "df_nov.show()"
   ]
  },
  {
   "cell_type": "code",
   "execution_count": null,
   "metadata": {},
   "outputs": [],
   "source": [
    "df_combined = df_nov.union(df_dec)\n",
    "df_combined.show()"
   ]
  },
  {
   "cell_type": "code",
   "execution_count": null,
   "metadata": {},
   "outputs": [],
   "source": [
    "save_path = hadoop_path + '/combined_Data/' \n",
    "\n",
    "df_combined.repartition(8).write.mode('overwrite').option(\"header\", \"true\").csv(save_path)\n"
   ]
  },
  {
   "cell_type": "code",
   "execution_count": 4,
   "metadata": {},
   "outputs": [
    {
     "name": "stdout",
     "output_type": "stream",
     "text": [
      "+------------+----------+----------+--------+-------+---------+------------+------------------+---+\n",
      "|          id|event_type|product_id|   brand|  price|  user_id|    category|           product|day|\n",
      "+------------+----------+----------+--------+-------+---------+------------+------------------+---+\n",
      "|257698236188|      view|   3600287| indesit| 205.15|546669693|  appliances|    kitchen.washer| 15|\n",
      "|240518268935|      view|   4803585|  huawei| 115.55|514179359| electronics|   audio.headphone| 15|\n",
      "|549756563931|      view|   4600542|    beko| 357.72|570790007|  appliances|kitchen.dishwasher| 29|\n",
      "|412317698870|      view|  12301593|    zubr|  21.56|516315517|construction|       tools.drill| 19|\n",
      "|257698481187|      view|   1005135|   apple|1644.08|571381066| electronics|        smartphone| 15|\n",
      "| 94489540344|      view|   1002100| samsung| 370.64|560874417| electronics|        smartphone|  7|\n",
      "|      629235|      view|  17000006|      sv| 157.79|534873586|   computers|           desktop|  1|\n",
      "|  8590220575|      view|   5000594| brother| 350.07|536858996|  appliances|    sewing_machine|  1|\n",
      "|180389422564|      view|   2900688|dauscher| 128.68|514988074|  appliances| kitchen.microwave| 13|\n",
      "|429497091119|      view|   1004767| samsung| 246.03|573128067| electronics|        smartphone| 20|\n",
      "|180388691457|      view|   4804056|   apple| 159.57|569718349| electronics|   audio.headphone| 12|\n",
      "|171799174955|      view|   5000184|  janome| 102.11|518743659|  appliances|    sewing_machine| 12|\n",
      "|352187414710|      view|   1005164|  xiaomi| 278.77|512393480| electronics|        smartphone| 17|\n",
      "|558346323511|      view|   1005161|  xiaomi| 192.33|579433200| electronics|        smartphone| 30|\n",
      "|      906586|      view|   1801639|  harper| 179.41|542995228| electronics|          video.tv|  1|\n",
      "|326417685445|      cart|   5100577| samsung| 290.77|514199688| electronics|            clocks| 16|\n",
      "|154619617058|      view|   1801555|      lg| 460.84|534110795| electronics|          video.tv| 11|\n",
      "| 25769983763|      view|   1801854| samsung|1001.05|512932626| electronics|          video.tv|  3|\n",
      "|249108612771|      view|   3700755| samsung|  92.41|560827408|  appliances|environment.vacuum| 15|\n",
      "|335007595086|      view|   3601278|   bosch| 383.02|519171788|  appliances|    kitchen.washer| 17|\n",
      "+------------+----------+----------+--------+-------+---------+------------+------------------+---+\n",
      "only showing top 20 rows\n",
      "\n"
     ]
    }
   ],
   "source": [
    "df = spark.read.csv(hadoop_path + '/combined_Data/', header = True, inferSchema = True)\n",
    "df.show()"
   ]
  },
  {
   "cell_type": "code",
   "execution_count": 5,
   "metadata": {},
   "outputs": [],
   "source": [
    "df = df.withColumn(\"is_purchased\", when(df[\"event_type\"] == \"purchase\", 1).otherwise(0))"
   ]
  },
  {
   "cell_type": "code",
   "execution_count": 6,
   "metadata": {},
   "outputs": [],
   "source": [
    "indexer = StringIndexer(inputCol=\"category\", outputCol=\"categoryIndex\")\n",
    "encoder = OneHotEncoder(inputCols=[\"categoryIndex\"], outputCols=[\"categoryVec\"])\n",
    "assembler = VectorAssembler(inputCols=[\"categoryVec\", \"price\", \"day\"], outputCol=\"features\")\n",
    "scaler = StandardScaler(inputCol=\"features\", outputCol=\"scaledFeatures\")\n",
    "lr = LogisticRegression(featuresCol=\"scaledFeatures\", labelCol=\"is_purchased\")"
   ]
  },
  {
   "cell_type": "code",
   "execution_count": 7,
   "metadata": {},
   "outputs": [],
   "source": [
    "pipeline = Pipeline(stages=[indexer, encoder, assembler, scaler, lr])"
   ]
  },
  {
   "cell_type": "code",
   "execution_count": 8,
   "metadata": {},
   "outputs": [],
   "source": [
    "(train, test) = df.randomSplit([0.8, 0.2])"
   ]
  },
  {
   "cell_type": "code",
   "execution_count": 9,
   "metadata": {},
   "outputs": [],
   "source": [
    "model = pipeline.fit(train)"
   ]
  },
  {
   "cell_type": "code",
   "execution_count": 10,
   "metadata": {},
   "outputs": [
    {
     "name": "stdout",
     "output_type": "stream",
     "text": [
      "+----+----------+----------+---------+-------+---------+------------+----------------------+---+------------+-------------+--------------+--------------------------------+---------------------------------------------------------------------------+----------------------------------------+-----------------------------------------+----------+\n",
      "|id  |event_type|product_id|brand    |price  |user_id  |category    |product               |day|is_purchased|categoryIndex|categoryVec   |features                        |scaledFeatures                                                             |rawPrediction                           |probability                              |prediction|\n",
      "+----+----------+----------+---------+-------+---------+------------+----------------------+---+------------+-------------+--------------+--------------------------------+---------------------------------------------------------------------------+----------------------------------------+-----------------------------------------+----------+\n",
      "|141 |view      |1307519   |acer     |1209.55|536638900|computers   |notebook              |1  |0           |4.0          |(12,[4],[1.0])|(14,[4,12,13],[1.0,1209.55,1.0])|(14,[4,12,13],[3.9638212078459065,3.2453305265926162,0.12256895406116186]) |[4.90313751240796,-4.90313751240796]    |[0.9926314427485076,0.007368557251492436]|0.0       |\n",
      "|560 |view      |1005204   |xiaomi   |150.97 |558343854|electronics |smartphone            |1  |0           |0.0          |(12,[0],[1.0])|(14,[0,12,13],[1.0,150.97,1.0]) |(14,[0,12,13],[2.1529103995976007,0.4050659746184013,0.12256895406116186]) |[4.08416115950181,-4.08416115950181]    |[0.9834415418511288,0.016558458148871247]|0.0       |\n",
      "|1275|view      |30000218  |magnetta |254.78 |515240495|construction|tools.welding         |1  |0           |2.0          |(12,[2],[1.0])|(14,[2,12,13],[1.0,254.78,1.0]) |(14,[2,12,13],[2.527250621257661,0.6835974631600734,0.12256895406116186])  |[3.7138901080416757,-3.7138901080416757]|[0.9761978671883119,0.02380213281168808] |0.0       |\n",
      "|1441|view      |6500895   |gigabyte |50.61  |545157048|computers   |components.motherboard|1  |0           |4.0          |(12,[4],[1.0])|(14,[4,12,13],[1.0,50.61,1.0])  |(14,[4,12,13],[3.9638212078459065,0.13579114377318202,0.12256895406116186])|[4.8287283810800545,-4.8287283810800545]|[0.9920667561034648,0.007933243896535158]|0.0       |\n",
      "|1543|view      |30000093  |fubag    |896.81 |525377149|construction|tools.welding         |1  |0           |2.0          |(12,[2],[1.0])|(14,[2,12,13],[1.0,896.81,1.0]) |(14,[2,12,13],[2.527250621257661,2.406221214132135,0.12256895406116186])   |[3.755111305503542,-3.755111305503542]  |[0.9771370965425387,0.022862903457461337]|0.0       |\n",
      "|1610|view      |1004767   |samsung  |242.63 |559525251|electronics |smartphone            |1  |0           |0.0          |(12,[0],[1.0])|(14,[0,12,13],[1.0,242.63,1.0]) |(14,[0,12,13],[2.1529103995976007,0.6509979295334352,0.12256895406116186]) |[4.090046141448688,-4.090046141448688]  |[0.9835371023693809,0.016462897630619144]|0.0       |\n",
      "|1734|view      |4804295   |xiaomi   |22.8   |566243643|electronics |audio.headphone       |1  |0           |0.0          |(12,[0],[1.0])|(14,[0,12,13],[1.0,22.8,1.0])   |(14,[0,12,13],[2.1529103995976007,0.06117443347221004,0.12256895406116186])|[4.07593207226494,-4.07593207226494]    |[0.9833070026507855,0.016692997349214478]|0.0       |\n",
      "|1790|view      |1004158   |samsung  |733.61 |560865203|electronics |smartphone            |1  |0           |0.0          |(12,[0],[1.0])|(14,[0,12,13],[1.0,733.61,1.0]) |(14,[0,12,13],[2.1529103995976007,1.9683410587521057,0.12256895406116186]) |[4.121569253343502,-4.121569253343502]  |[0.9840398162272972,0.015960183772702807]|0.0       |\n",
      "|1858|view      |35102505  |milavitsa|35.25  |553388719|apparel     |underwear             |1  |0           |3.0          |(12,[3],[1.0])|(14,[3,12,13],[1.0,35.25,1.0])  |(14,[3,12,13],[3.32674797415422,0.09457889385506157,0.12256895406116186])  |[4.684862819801842,-4.684862819801842]  |[0.9908504853819252,0.009149514618074783]|0.0       |\n",
      "|2114|view      |28300754  |picard   |66.93  |524639276|accessories |wallet                |1  |0           |9.0          |(12,[9],[1.0])|(14,[9,12,13],[1.0,66.93,1.0])  |(14,[9,12,13],[9.408711415675143,0.179579159311185,0.12256895406116186])   |[5.064602445633457,-5.064602445633457]  |[0.9937232252305839,0.006276774769416127]|0.0       |\n",
      "|2757|view      |1306359   |acer     |630.39 |514293154|computers   |notebook              |1  |0           |4.0          |(12,[4],[1.0])|(14,[4,12,13],[1.0,630.39,1.0]) |(14,[4,12,13],[3.9638212078459065,1.6913925928309863,0.12256895406116186]) |[4.865952850130474,-4.865952850130474]  |[0.9923544217565045,0.007645578243495543]|0.0       |\n",
      "|2858|view      |1307539   |asus     |476.18 |516251960|computers   |notebook              |1  |0           |4.0          |(12,[4],[1.0])|(14,[4,12,13],[1.0,476.18,1.0]) |(14,[4,12,13],[3.9638212078459065,1.2776334092454815,0.12256895406116186]) |[4.856051878430406,-4.856051878430406]  |[0.992278934494992,0.007721065505007951] |0.0       |\n",
      "|3421|view      |1004838   |oppo     |178.87 |542102004|electronics |smartphone            |1  |0           |0.0          |(12,[0],[1.0])|(14,[0,12,13],[1.0,178.87,1.0]) |(14,[0,12,13],[2.1529103995976007,0.4799241629462373,0.12256895406116186]) |[4.085952464283808,-4.085952464283808]  |[0.9834706867049262,0.01652931329507379] |0.0       |\n",
      "|3726|view      |1004838   |oppo     |178.87 |557673447|electronics |smartphone            |1  |0           |0.0          |(12,[0],[1.0])|(14,[0,12,13],[1.0,178.87,1.0]) |(14,[0,12,13],[2.1529103995976007,0.4799241629462373,0.12256895406116186]) |[4.085952464283808,-4.085952464283808]  |[0.9834706867049262,0.01652931329507379] |0.0       |\n",
      "|4156|view      |5100573   |apple    |450.2  |557530559|electronics |clocks                |1  |0           |0.0          |(12,[0],[1.0])|(14,[0,12,13],[1.0,450.2,1.0])  |(14,[0,12,13],[2.1529103995976007,1.2079267521574106,0.12256895406116186]) |[4.103373063799918,-4.103373063799918]  |[0.9837515053726192,0.01624849462738076] |0.0       |\n",
      "|4428|view      |1005073   |samsung  |1133.36|545107896|electronics |smartphone            |1  |0           |0.0          |(12,[0],[1.0])|(14,[0,12,13],[1.0,1133.36,1.0])|(14,[0,12,13],[2.1529103995976007,3.0409059614063145,0.12256895406116186]) |[4.147234991214599,-4.147234991214599]  |[0.9844379405044816,0.015562059495518366]|0.0       |\n",
      "|4454|view      |13200019  |sv       |386.37 |560134869|furniture   |bedroom.bed           |1  |0           |5.0          |(12,[5],[1.0])|(14,[5,12,13],[1.0,386.37,1.0]) |(14,[5,12,13],[5.300617334270108,1.0366651693270963,0.12256895406116186])  |[4.722762903531908,-4.722762903531908]  |[0.9911877651195005,0.008812234880499537]|0.0       |\n",
      "|4592|view      |13200941  |sv       |257.15 |560134869|furniture   |bedroom.bed           |1  |0           |5.0          |(12,[5],[1.0])|(14,[5,12,13],[1.0,257.15,1.0]) |(14,[5,12,13],[5.300617334270108,0.6899563845341584,0.12256895406116186])  |[4.714466401598942,-4.714466401598942]  |[0.9911150025643991,0.008884997435600894]|0.0       |\n",
      "|4685|view      |12600077  |vitek    |41.16  |540000552|appliances  |kitchen.grill         |1  |0           |1.0          |(12,[1],[1.0])|(14,[1,12,13],[1.0,41.16,1.0])  |(14,[1,12,13],[2.5081644333351782,0.11043595095246338,0.12256895406116186])|[4.435947432509177,-4.435947432509177]  |[0.9882947952132344,0.011705204786765622]|0.0       |\n",
      "|4836|view      |1004961   |oppo     |166.41 |516798541|electronics |smartphone            |1  |0           |0.0          |(12,[0],[1.0])|(14,[0,12,13],[1.0,166.41,1.0]) |(14,[0,12,13],[2.1529103995976007,0.44649287167151197,0.12256895406116186])|[4.085152476556793,-4.085152476556793]  |[0.9834576769972807,0.016542323002719295]|0.0       |\n",
      "+----+----------+----------+---------+-------+---------+------------+----------------------+---+------------+-------------+--------------+--------------------------------+---------------------------------------------------------------------------+----------------------------------------+-----------------------------------------+----------+\n",
      "only showing top 20 rows\n",
      "\n"
     ]
    }
   ],
   "source": [
    "transformed_data = model.transform(test)\n",
    "\n",
    "transformed_data.show(truncate=False)\n"
   ]
  },
  {
   "cell_type": "code",
   "execution_count": 11,
   "metadata": {},
   "outputs": [],
   "source": [
    "predictions = model.transform(test)"
   ]
  },
  {
   "cell_type": "code",
   "execution_count": 12,
   "metadata": {},
   "outputs": [
    {
     "name": "stdout",
     "output_type": "stream",
     "text": [
      "Accuracy:  0.6088109561002291\n"
     ]
    }
   ],
   "source": [
    "evaluator = BinaryClassificationEvaluator(labelCol=\"is_purchased\")\n",
    "accuracy = evaluator.evaluate(predictions)\n",
    "print(\"Accuracy: \", accuracy)"
   ]
  },
  {
   "cell_type": "markdown",
   "metadata": {},
   "source": [
    " Predict the likelihood of a user preferring a specific brand"
   ]
  },
  {
   "cell_type": "code",
   "execution_count": 5,
   "metadata": {},
   "outputs": [
    {
     "name": "stdout",
     "output_type": "stream",
     "text": [
      "+---------+-------+-----------------+\n",
      "|  user_id|  brand|interaction_count|\n",
      "+---------+-------+-----------------+\n",
      "|559155330|samsung|               45|\n",
      "|547386228|samsung|                4|\n",
      "|514936996| xiaomi|               20|\n",
      "|516073762|samsung|               94|\n",
      "|516791031| xiaomi|               47|\n",
      "|571948641|   acer|                4|\n",
      "|529471190|  yasin|                4|\n",
      "|546784852|   oppo|                8|\n",
      "|536583301|    bts|                5|\n",
      "|563628907|samsung|               22|\n",
      "|568791517|   alis|                7|\n",
      "|541186183|karcher|               26|\n",
      "|535122525|samsung|                1|\n",
      "|575936496| armani|                4|\n",
      "|571734181|respect|               18|\n",
      "|549049574|samsung|               79|\n",
      "|566806442|  apple|                4|\n",
      "|512943410|  hansa|               28|\n",
      "|537601990|respect|               44|\n",
      "|512403653|samsung|                4|\n",
      "+---------+-------+-----------------+\n",
      "only showing top 20 rows\n",
      "\n"
     ]
    }
   ],
   "source": [
    "brand_interaction_count = df.groupBy(\"user_id\", \"brand\").count().withColumnRenamed(\"count\", \"interaction_count\")\n",
    "brand_interaction_count.show()"
   ]
  },
  {
   "cell_type": "code",
   "execution_count": 6,
   "metadata": {},
   "outputs": [
    {
     "name": "stdout",
     "output_type": "stream",
     "text": [
      "+---------+---------+--------------+\n",
      "|  user_id|    brand|purchase_count|\n",
      "+---------+---------+--------------+\n",
      "|575936496|   armani|             1|\n",
      "|556849764|   xiaomi|             6|\n",
      "|514784102|  neoline|             1|\n",
      "|514550893|    apple|             4|\n",
      "|547985627|  samsung|             5|\n",
      "|568953750|  samsung|             1|\n",
      "|553678747|  redmond|             1|\n",
      "|555187597|    apple|             1|\n",
      "|571692512|  samsung|             1|\n",
      "|565961604|  samsung|            15|\n",
      "|512445573|   xiaomi|             1|\n",
      "|552207644|    apple|            22|\n",
      "|556703732|   huawei|             3|\n",
      "|571135032|  samsung|             7|\n",
      "|513387648|  samsung|             5|\n",
      "|512791089|prestigio|             1|\n",
      "|513031081|    apple|            13|\n",
      "|558952612|     acer|             2|\n",
      "|516462649|    braun|             1|\n",
      "|563885719|   xiaomi|             9|\n",
      "+---------+---------+--------------+\n",
      "only showing top 20 rows\n",
      "\n"
     ]
    }
   ],
   "source": [
    "brand_purchase_count = df.filter(col(\"event_type\") == \"purchase\").groupBy(\"user_id\", \"brand\").count().withColumnRenamed(\"count\", \"purchase_count\")\n",
    "brand_purchase_count.show()"
   ]
  },
  {
   "cell_type": "code",
   "execution_count": 7,
   "metadata": {},
   "outputs": [
    {
     "name": "stdout",
     "output_type": "stream",
     "text": [
      "+---------+--------+------------+----------+----------+-------+------------+--------------------+---+-----------------+--------------+\n",
      "|  user_id|   brand|          id|event_type|product_id|  price|    category|             product|day|interaction_count|purchase_count|\n",
      "+---------+--------+------------+----------+----------+-------+------------+--------------------+---+-----------------+--------------+\n",
      "|512424032|  huawei|223338761477|      cart|   1004708| 154.18| electronics|          smartphone| 15|               57|          null|\n",
      "|512518406|logitech|377958041462|      view|  11600352| 685.97|   computers|             desktop| 17|                5|          null|\n",
      "|512596849|   meizu|412317751484|      view|   1005278| 205.67| electronics|          smartphone| 19|                7|          null|\n",
      "|512609289|   apple| 42950045881|      view|   1003316|1027.05|construction|         tools.light|  4|              119|             3|\n",
      "|512831993|   simax|309237818886|      view|  16400233|  77.32|     apparel|          shoes.keds| 18|                1|          null|\n",
      "|512913620|   apple|541166227169|      view|   1005115| 881.41|construction|         tools.light| 29|               81|             5|\n",
      "|512998624|kaemingk|369367870544|      view|  10600284| 296.53| electronics|              clocks| 21|                1|          null|\n",
      "|513715659| samsung|137439407865|      view|   3700926|  69.47|  appliances|  environment.vacuum| 10|                6|             1|\n",
      "|514130447|  xiaomi|420907183325|      view|   1005031| 174.65| electronics|          smartphone| 20|               20|          null|\n",
      "|514639724|   apple|352188041912|      view|   1004249| 766.82|construction|         tools.light| 20|                5|          null|\n",
      "|515327120|moulinex|274878210318|      view|   3200391|  195.6|  appliances|kitchen.meat_grinder| 15|                9|          null|\n",
      "|515823590| samsung|214748821039|      cart|   5100577| 290.77| electronics|              clocks| 14|               35|             2|\n",
      "|516428845|      lg|515396954940|      view|   3700127| 200.75|  appliances|  environment.vacuum| 27|               13|          null|\n",
      "|517001529|      sv|317828128588|      view|  14701293| 411.59|   furniture| living_room.cabinet| 16|              181|          null|\n",
      "|517407068|longines|558346425854|      view|  21410932|1235.55| electronics|              clocks| 30|               15|             1|\n",
      "|517502148|   apple|335008080897|      view|   5100919|1132.33| electronics|              clocks| 17|                6|          null|\n",
      "|517573117|    hoco|412317493065|      view|  22400036|  25.71| electronics|    audio.microphone| 19|               24|          null|\n",
      "|517891610|   apple|455266898741|      view|   1004230|1111.48|construction|         tools.light| 25|                9|          null|\n",
      "|518804369|  huawei|352187643935|      view|   1004905|  89.81|construction|         tools.light| 20|               98|          null|\n",
      "|519450155|  xiaomi|575526347829|      view|   4801487|   8.75|       sport|             bicycle| 30|               29|          null|\n",
      "+---------+--------+------------+----------+----------+-------+------------+--------------------+---+-----------------+--------------+\n",
      "only showing top 20 rows\n",
      "\n"
     ]
    }
   ],
   "source": [
    "# Join interaction count back to the original DataFrame\n",
    "df = df.join(brand_interaction_count, [\"user_id\", \"brand\"], \"left\")\n",
    "\n",
    "# Join purchase count back to the original DataFrame\n",
    "df = df.join(brand_purchase_count, [\"user_id\", \"brand\"], \"left\")\n",
    "\n",
    "df.show()"
   ]
  },
  {
   "cell_type": "code",
   "execution_count": 8,
   "metadata": {},
   "outputs": [],
   "source": [
    "df = df.na.fill({'purchase_count': 0})"
   ]
  },
  {
   "cell_type": "code",
   "execution_count": 9,
   "metadata": {},
   "outputs": [
    {
     "name": "stdout",
     "output_type": "stream",
     "text": [
      "+---------+----------+------------+----------+----------+-------+------------+--------------------+---+-----------------+--------------+-------------------+\n",
      "|  user_id|     brand|          id|event_type|product_id|  price|    category|             product|day|interaction_count|purchase_count|avg_price_per_brand|\n",
      "+---------+----------+------------+----------+----------+-------+------------+--------------------+---+-----------------+--------------+-------------------+\n",
      "|512596849|     meizu|412317751484|      view|   1005278| 205.67| electronics|          smartphone| 19|                7|             0| 227.28285714285715|\n",
      "|512998624|  kaemingk|369367870544|      view|  10600284| 296.53| electronics|              clocks| 21|                1|             0|             296.53|\n",
      "|514639724|     apple|352188041912|      view|   1004249| 766.82|construction|         tools.light| 20|                5|             0|  916.9320000000001|\n",
      "|516428845|        lg|515396954940|      view|   3700127| 200.75|  appliances|  environment.vacuum| 27|               13|             0| 173.41384615384612|\n",
      "|517502148|     apple|335008080897|      view|   5100919|1132.33| electronics|              clocks| 17|                6|             0|  870.1166666666667|\n",
      "|517891610|     apple|455266898741|      view|   1004230|1111.48|construction|         tools.light| 25|                9|             0| 1147.1377777777777|\n",
      "|523601775|     haier|283468666116|      view|   1801960|  334.6|  appliances|   personal.massager| 17|               21|             0|  334.6000000000001|\n",
      "|530257846|     apple|274878759004|      view|   1005104| 969.39| electronics|          smartphone| 16|               16|             0| 1006.3143749999998|\n",
      "|530389416|     midea|429497470442|      view|   3600253| 100.36|  appliances|      kitchen.washer| 24|                5|             0|            106.426|\n",
      "|532681347|   samsung|558345999075|      view|   1004873| 348.01| electronics|          smartphone| 29|               21|             0| 357.10952380952386|\n",
      "|535841236|     apple|120259941476|      view|   1005141|1594.33| electronics|          smartphone|  9|               70|             0| 1106.1529999999998|\n",
      "|536804221|    adamex|292058508199|      view|   7003891| 522.54|        kids|              skates| 18|               10|             0|            518.678|\n",
      "|543110349|      five|395137870065|      view| 100008933|  77.22|     apparel|               glove| 18|                2|             0|              77.22|\n",
      "|544779483|   samsung|223338821382|      view|   1004648| 633.46| electronics|          smartphone| 15|               44|             0|  891.7181818181817|\n",
      "|546914495|   tomfarr| 25770703569|      view|  48200483|  46.33|     apparel|               dress|  3|               19|             0| 61.532105263157916|\n",
      "|546998097|      asus|395137412253|      view|   1307240| 385.57|   computers|            notebook| 18|                4|             0| 363.11749999999995|\n",
      "|548448511|     apple|111669680552|      view|   1005116| 980.21| electronics|          smartphone|  9|               26|             3|  981.0103846153844|\n",
      "|554415669|     honor|429497233250|      view|   1004742| 488.82| electronics|          smartphone| 20|               18|             0|  481.2861111111111|\n",
      "|569498388|  gigawatt| 17180514267|      view|  15200192|  87.52|   furniture|         bedroom.bed|  2|                3|             0|              87.52|\n",
      "|570342928|electrolux|438087001875|      view|   6200014| 102.94|  appliances|environment.air_h...| 21|               21|             0| 47.578571428571436|\n",
      "+---------+----------+------------+----------+----------+-------+------------+--------------------+---+-----------------+--------------+-------------------+\n",
      "only showing top 20 rows\n",
      "\n"
     ]
    }
   ],
   "source": [
    "avg_price_interaction = df.groupBy(\"user_id\", \"brand\").agg(avg(\"price\").alias(\"avg_price_per_brand\"))\n",
    "df = df.join(avg_price_interaction, [\"user_id\", \"brand\"], \"left\")\n",
    "df.show()"
   ]
  },
  {
   "cell_type": "code",
   "execution_count": 10,
   "metadata": {},
   "outputs": [
    {
     "name": "stdout",
     "output_type": "stream",
     "text": [
      "+---------+----------+------------+----------+----------+-------+------------+--------------------+---+-----------------+--------------+-------------------+--------------------+\n",
      "|  user_id|     brand|          id|event_type|product_id|  price|    category|             product|day|interaction_count|purchase_count|avg_price_per_brand|last_interaction_day|\n",
      "+---------+----------+------------+----------+----------+-------+------------+--------------------+---+-----------------+--------------+-------------------+--------------------+\n",
      "|512596849|     meizu|412317751484|      view|   1005278| 205.67| electronics|          smartphone| 19|                7|             0| 227.28285714285715|                  19|\n",
      "|512998624|  kaemingk|369367870544|      view|  10600284| 296.53| electronics|              clocks| 21|                1|             0|             296.53|                  21|\n",
      "|514639724|     apple|352188041912|      view|   1004249| 766.82|construction|         tools.light| 20|                5|             0|  916.9320000000001|                  20|\n",
      "|516428845|        lg|515396954940|      view|   3700127| 200.75|  appliances|  environment.vacuum| 27|               13|             0| 173.41384615384612|                  27|\n",
      "|517502148|     apple|335008080897|      view|   5100919|1132.33| electronics|              clocks| 17|                6|             0|  870.1166666666667|                  17|\n",
      "|517891610|     apple|455266898741|      view|   1004230|1111.48|construction|         tools.light| 25|                9|             0| 1147.1377777777777|                  25|\n",
      "|523601775|     haier|283468666116|      view|   1801960|  334.6|  appliances|   personal.massager| 17|               21|             0|  334.6000000000001|                  17|\n",
      "|530257846|     apple|274878759004|      view|   1005104| 969.39| electronics|          smartphone| 16|               16|             0| 1006.3143749999998|                  20|\n",
      "|530389416|     midea|429497470442|      view|   3600253| 100.36|  appliances|      kitchen.washer| 24|                5|             0|            106.426|                  24|\n",
      "|532681347|   samsung|558345999075|      view|   1004873| 348.01| electronics|          smartphone| 29|               21|             0| 357.10952380952386|                  30|\n",
      "|535841236|     apple|120259941476|      view|   1005141|1594.33| electronics|          smartphone|  9|               70|             0| 1106.1529999999998|                  22|\n",
      "|543110349|      five|395137870065|      view| 100008933|  77.22|     apparel|               glove| 18|                2|             0|              77.22|                  18|\n",
      "|544779483|   samsung|223338821382|      view|   1004648| 633.46| electronics|          smartphone| 15|               44|             0|  891.7181818181817|                  24|\n",
      "|546914495|   tomfarr| 25770703569|      view|  48200483|  46.33|     apparel|               dress|  3|               19|             0| 61.532105263157916|                  14|\n",
      "|546998097|      asus|395137412253|      view|   1307240| 385.57|   computers|            notebook| 18|                4|             0| 363.11749999999995|                  18|\n",
      "|548448511|     apple|111669680552|      view|   1005116| 980.21| electronics|          smartphone|  9|               26|             3|  981.0103846153844|                  22|\n",
      "|569498388|  gigawatt| 17180514267|      view|  15200192|  87.52|   furniture|         bedroom.bed|  2|                3|             0|              87.52|                   2|\n",
      "|570342928|electrolux|438087001875|      view|   6200014| 102.94|  appliances|environment.air_h...| 21|               21|             0| 47.578571428571436|                  21|\n",
      "|571893365|    xiaomi|412317193744|      view|   1005233| 145.43|construction|         tools.light| 23|               80|             1| 140.88674999999995|                  31|\n",
      "|587641075|   versace|455267010087|      view|  17300749|  72.07|     apparel|       shoes.sandals| 25|                1|             0|              72.07|                  25|\n",
      "+---------+----------+------------+----------+----------+-------+------------+--------------------+---+-----------------+--------------+-------------------+--------------------+\n",
      "only showing top 20 rows\n",
      "\n"
     ]
    }
   ],
   "source": [
    "recency_interaction = df.groupBy(\"user_id\", \"brand\").agg(max(\"day\").alias(\"last_interaction_day\"))\n",
    "df = df.join(recency_interaction, [\"user_id\", \"brand\"], \"left\")\n",
    "df.show()"
   ]
  },
  {
   "cell_type": "code",
   "execution_count": 11,
   "metadata": {},
   "outputs": [
    {
     "name": "stdout",
     "output_type": "stream",
     "text": [
      "+---------+----------+------------+----------+----------+-------+------------+--------------------+---+-----------------+--------------+-------------------+--------------------+\n",
      "|  user_id|     brand|          id|event_type|product_id|  price|    category|             product|day|interaction_count|purchase_count|avg_price_per_brand|last_interaction_day|\n",
      "+---------+----------+------------+----------+----------+-------+------------+--------------------+---+-----------------+--------------+-------------------+--------------------+\n",
      "|512596849|     meizu|412317751484|      view|   1005278| 205.67| electronics|          smartphone| 19|                7|             0| 227.28285714285715|                  19|\n",
      "|512998624|  kaemingk|369367870544|      view|  10600284| 296.53| electronics|              clocks| 21|                1|             0|             296.53|                  21|\n",
      "|514639724|     apple|352188041912|      view|   1004249| 766.82|construction|         tools.light| 20|                5|             0|  916.9320000000001|                  20|\n",
      "|516428845|        lg|515396954940|      view|   3700127| 200.75|  appliances|  environment.vacuum| 27|               13|             0| 173.41384615384612|                  27|\n",
      "|517502148|     apple|335008080897|      view|   5100919|1132.33| electronics|              clocks| 17|                6|             0|  870.1166666666667|                  17|\n",
      "|517891610|     apple|455266898741|      view|   1004230|1111.48|construction|         tools.light| 25|                9|             0| 1147.1377777777777|                  25|\n",
      "|523601775|     haier|283468666116|      view|   1801960|  334.6|  appliances|   personal.massager| 17|               21|             0|  334.6000000000001|                  17|\n",
      "|530257846|     apple|274878759004|      view|   1005104| 969.39| electronics|          smartphone| 16|               16|             0| 1006.3143749999998|                  20|\n",
      "|530389416|     midea|429497470442|      view|   3600253| 100.36|  appliances|      kitchen.washer| 24|                5|             0|            106.426|                  24|\n",
      "|532681347|   samsung|558345999075|      view|   1004873| 348.01| electronics|          smartphone| 29|               21|             0| 357.10952380952386|                  30|\n",
      "|535841236|     apple|120259941476|      view|   1005141|1594.33| electronics|          smartphone|  9|               70|             0| 1106.1529999999998|                  22|\n",
      "|543110349|      five|395137870065|      view| 100008933|  77.22|     apparel|               glove| 18|                2|             0|              77.22|                  18|\n",
      "|544779483|   samsung|223338821382|      view|   1004648| 633.46| electronics|          smartphone| 15|               44|             0|  891.7181818181817|                  24|\n",
      "|546914495|   tomfarr| 25770703569|      view|  48200483|  46.33|     apparel|               dress|  3|               19|             0| 61.532105263157916|                  14|\n",
      "|546998097|      asus|395137412253|      view|   1307240| 385.57|   computers|            notebook| 18|                4|             0| 363.11749999999995|                  18|\n",
      "|548448511|     apple|111669680552|      view|   1005116| 980.21| electronics|          smartphone|  9|               26|             3|  981.0103846153844|                  22|\n",
      "|569498388|  gigawatt| 17180514267|      view|  15200192|  87.52|   furniture|         bedroom.bed|  2|                3|             0|              87.52|                   2|\n",
      "|570342928|electrolux|438087001875|      view|   6200014| 102.94|  appliances|environment.air_h...| 21|               21|             0| 47.578571428571436|                  21|\n",
      "|571893365|    xiaomi|412317193744|      view|   1005233| 145.43|construction|         tools.light| 23|               80|             1| 140.88674999999995|                  31|\n",
      "|587641075|   versace|455267010087|      view|  17300749|  72.07|     apparel|       shoes.sandals| 25|                1|             0|              72.07|                  25|\n",
      "+---------+----------+------------+----------+----------+-------+------------+--------------------+---+-----------------+--------------+-------------------+--------------------+\n",
      "only showing top 20 rows\n",
      "\n"
     ]
    }
   ],
   "source": [
    "df = df.na.fill({\n",
    "    'purchase_count': 0,\n",
    "    'interaction_count': 0,\n",
    "    'avg_price_per_brand': 0,\n",
    "    'last_interaction_day': 0  \n",
    "})\n",
    "df.show()"
   ]
  },
  {
   "cell_type": "code",
   "execution_count": 15,
   "metadata": {},
   "outputs": [
    {
     "name": "stdout",
     "output_type": "stream",
     "text": [
      "+---------+---------+------------+----------+----------+------+------------+------------------+---+-----------------+--------------+-------------------+--------------------+----------+------------------+\n",
      "|  user_id|    brand|          id|event_type|product_id| price|    category|           product|day|interaction_count|purchase_count|avg_price_per_brand|last_interaction_day|brandIndex|          brandVec|\n",
      "+---------+---------+------------+----------+----------+------+------------+------------------+---+-----------------+--------------+-------------------+--------------------+----------+------------------+\n",
      "| 86517859|    tefal| 77310130237|      view|  15900313|  8.98|construction|   tools.generator|  6|                1|             0|               8.98|                   6|      20.0| (4289,[20],[1.0])|\n",
      "|170313967|moldabela|326417765410|      view|  28100834| 89.84|       sport|           bicycle| 19|                3|             0| 112.48666666666666|                  19|     702.0|(4289,[702],[1.0])|\n",
      "|170313967|moldabela|326417766231|      view|  28100851|170.66|     apparel|           pajamas| 19|                3|             0| 112.48666666666666|                  19|     702.0|(4289,[702],[1.0])|\n",
      "|170313967|moldabela|326417763720|      view|  28100847| 76.96|     apparel|           pajamas| 19|                3|             0| 112.48666666666666|                  19|     702.0|(4289,[702],[1.0])|\n",
      "|205283752|  polaris|240518933479|      view|   3700781| 34.73|  appliances|environment.vacuum| 16|                1|             0|              34.73|                  16|      27.0| (4289,[27],[1.0])|\n",
      "|237267250|   xiaomi|111669746658|      view|   1005221|298.06| electronics|        smartphone|  9|               14|             0| 296.08357142857136|                  21|       2.0|  (4289,[2],[1.0])|\n",
      "|237267250|   xiaomi|111669987705|      view|   1005158|302.45| electronics|        smartphone|  9|               14|             0| 296.08357142857136|                  21|       2.0|  (4289,[2],[1.0])|\n",
      "|237267250|   xiaomi|111669985488|      view|   1005221|298.06| electronics|        smartphone|  9|               14|             0| 296.08357142857136|                  21|       2.0|  (4289,[2],[1.0])|\n",
      "|237267250|   xiaomi|111669734476|      view|   1005253|298.33| electronics|        smartphone|  9|               14|             0| 296.08357142857136|                  21|       2.0|  (4289,[2],[1.0])|\n",
      "|237267250|   xiaomi|111669987549|      view|   1005221|298.06| electronics|        smartphone|  9|               14|             0| 296.08357142857136|                  21|       2.0|  (4289,[2],[1.0])|\n",
      "|237267250|   xiaomi|206159139654|      view|   1005253|290.09| electronics|        smartphone| 14|               14|             0| 296.08357142857136|                  21|       2.0|  (4289,[2],[1.0])|\n",
      "|237267250|   xiaomi|429497512158|      view|   1005253|285.46| electronics|        smartphone| 21|               14|             0| 296.08357142857136|                  21|       2.0|  (4289,[2],[1.0])|\n",
      "|237267250|   xiaomi|111669986452|      view|   1005221|298.06| electronics|        smartphone|  9|               14|             0| 296.08357142857136|                  21|       2.0|  (4289,[2],[1.0])|\n",
      "|237267250|   xiaomi|111669985045|      view|   1005158|302.45| electronics|        smartphone|  9|               14|             0| 296.08357142857136|                  21|       2.0|  (4289,[2],[1.0])|\n",
      "|237267250|   xiaomi|111669986589|      view|   1005253|298.33| electronics|        smartphone|  9|               14|             0| 296.08357142857136|                  21|       2.0|  (4289,[2],[1.0])|\n",
      "|237267250|   xiaomi|111669746947|      view|   1005158|302.45| electronics|        smartphone|  9|               14|             0| 296.08357142857136|                  21|       2.0|  (4289,[2],[1.0])|\n",
      "|237267250|   xiaomi|420907002444|      view|   1005253|285.46| electronics|        smartphone| 20|               14|             0| 296.08357142857136|                  21|       2.0|  (4289,[2],[1.0])|\n",
      "|237267250|   xiaomi|111669989097|      view|   1005158|302.45| electronics|        smartphone|  9|               14|             0| 296.08357142857136|                  21|       2.0|  (4289,[2],[1.0])|\n",
      "|237267250|   xiaomi|420907156804|      view|   1005253|285.46| electronics|        smartphone| 20|               14|             0| 296.08357142857136|                  21|       2.0|  (4289,[2],[1.0])|\n",
      "|240699019|    apple|515396188700|      view| 100038678| 347.5| electronics|        smartphone| 27|                3|             0|  536.1633333333333|                  27|       1.0|  (4289,[1],[1.0])|\n",
      "+---------+---------+------------+----------+----------+------+------------+------------------+---+-----------------+--------------+-------------------+--------------------+----------+------------------+\n",
      "only showing top 20 rows\n",
      "\n"
     ]
    }
   ],
   "source": [
    "# Encode categorical variables\n",
    "brand_indexer = StringIndexer(inputCol=\"brand\", outputCol=\"brandIndex\")\n",
    "encoder = OneHotEncoder(inputCols=[\"brandIndex\"], outputCols=[\"brandVec\"])\n",
    "df = encoder.fit(df).transform(df)\n",
    "df.show()"
   ]
  },
  {
   "cell_type": "code",
   "execution_count": 17,
   "metadata": {},
   "outputs": [],
   "source": [
    "save_path = hadoop_path_dec + '/SpecificBrand_Data/' \n",
    "\n",
    "df.repartition(8).write.mode('overwrite').option(\"header\", \"true\").parquet(save_path)\n"
   ]
  },
  {
   "cell_type": "code",
   "execution_count": 18,
   "metadata": {},
   "outputs": [],
   "source": [
    "# Assemble all features\n",
    "assembler = VectorAssembler(\n",
    "    inputCols=[\n",
    "        \"interaction_count\",\n",
    "        \"purchase_count\",\n",
    "        \"avg_price_per_brand\",\n",
    "        \"brandVec\",\n",
    "        \"last_interaction_day\",  # Include the day as a feature\n",
    "        # Add other features here as you create them\n",
    "    ],\n",
    "    outputCol=\"features\"\n",
    ")\n",
    "df = assembler.transform(df)"
   ]
  },
  {
   "cell_type": "code",
   "execution_count": 19,
   "metadata": {},
   "outputs": [],
   "source": [
    "windowSpec = Window.partitionBy(\"user_id\").orderBy(col(\"purchase_count\").desc())\n",
    "\n",
    "# Add a row number for each user based on purchase count (highest purchase count gets row_number = 1)\n",
    "df = df.withColumn(\"preference_rank\", row_number().over(windowSpec))\n",
    "\n",
    "# Define the target variable as 1 for the most preferred brand, 0 otherwise\n",
    "df = df.withColumn(\"label\", when(col(\"preference_rank\") == 1, 1).otherwise(0))"
   ]
  },
  {
   "cell_type": "code",
   "execution_count": null,
   "metadata": {},
   "outputs": [],
   "source": [
    "df.show()"
   ]
  },
  {
   "cell_type": "code",
   "execution_count": 20,
   "metadata": {},
   "outputs": [],
   "source": [
    "train, test = df.randomSplit([0.8, 0.2], seed=42)\n"
   ]
  },
  {
   "cell_type": "code",
   "execution_count": 21,
   "metadata": {},
   "outputs": [],
   "source": [
    "\n",
    "rf = RandomForestClassifier(featuresCol=\"features\", labelCol=\"label\", numTrees=10)\n",
    "\n",
    "model = rf.fit(train)\n"
   ]
  },
  {
   "cell_type": "code",
   "execution_count": 25,
   "metadata": {},
   "outputs": [],
   "source": [
    "predictions = model.transform(test)"
   ]
  },
  {
   "cell_type": "code",
   "execution_count": 26,
   "metadata": {},
   "outputs": [
    {
     "name": "stdout",
     "output_type": "stream",
     "text": [
      "Area Under ROC:  0.5\n"
     ]
    }
   ],
   "source": [
    "# Evaluate model using Area Under ROC\n",
    "evaluator = BinaryClassificationEvaluator(labelCol=\"label\", rawPredictionCol=\"rawPrediction\", metricName=\"areaUnderROC\")\n",
    "roc_auc = evaluator.evaluate(predictions)\n",
    "print(\"Area Under ROC: \", roc_auc)"
   ]
  }
 ],
 "metadata": {
  "kernelspec": {
   "display_name": "Bigdata",
   "language": "python",
   "name": "python3"
  },
  "language_info": {
   "codemirror_mode": {
    "name": "ipython",
    "version": 3
   },
   "file_extension": ".py",
   "mimetype": "text/x-python",
   "name": "python",
   "nbconvert_exporter": "python",
   "pygments_lexer": "ipython3",
   "version": "3.11.5"
  }
 },
 "nbformat": 4,
 "nbformat_minor": 2
}
