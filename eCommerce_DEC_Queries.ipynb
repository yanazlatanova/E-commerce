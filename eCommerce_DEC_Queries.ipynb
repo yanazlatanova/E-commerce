{
 "cells": [
  {
   "cell_type": "code",
   "execution_count": 1,
   "metadata": {},
   "outputs": [
    {
     "name": "stdout",
     "output_type": "stream",
     "text": [
      "C:\\Users\\anama\\anaconda3\\envs\\Bigdata\\Lib\\site-packages\\pyspark\n"
     ]
    }
   ],
   "source": [
    "from pyspark.find_spark_home import _find_spark_home\n",
    "from pyspark.sql import SparkSession\n",
    "from pyspark import SparkConf, StorageLevel\n",
    "import pyspark.sql.functions as F\n",
    "from pyspark.sql.functions import col, count\n",
    "import os\n",
    "\n",
    "from dotenv import load_dotenv\n",
    "load_dotenv()\n",
    "\n",
    "print(_find_spark_home())"
   ]
  },
  {
   "cell_type": "code",
   "execution_count": 2,
   "metadata": {},
   "outputs": [],
   "source": [
    "python_path = os.environ.get('PYTHON_PATH')\n",
    "app_name_dec = os.environ.get('APP_NAME_DEC')\n",
    "hadoop_path_dec = os.environ.get('HADOOP_DEC_DATASET_PATH')"
   ]
  },
  {
   "cell_type": "code",
   "execution_count": 3,
   "metadata": {},
   "outputs": [
    {
     "name": "stdout",
     "output_type": "stream",
     "text": [
      "('spark.executor.extraJavaOptions', '-Djava.net.preferIPv6Addresses=false -XX:+IgnoreUnrecognizedVMOptions --add-opens=java.base/java.lang=ALL-UNNAMED --add-opens=java.base/java.lang.invoke=ALL-UNNAMED --add-opens=java.base/java.lang.reflect=ALL-UNNAMED --add-opens=java.base/java.io=ALL-UNNAMED --add-opens=java.base/java.net=ALL-UNNAMED --add-opens=java.base/java.nio=ALL-UNNAMED --add-opens=java.base/java.util=ALL-UNNAMED --add-opens=java.base/java.util.concurrent=ALL-UNNAMED --add-opens=java.base/java.util.concurrent.atomic=ALL-UNNAMED --add-opens=java.base/sun.nio.ch=ALL-UNNAMED --add-opens=java.base/sun.nio.cs=ALL-UNNAMED --add-opens=java.base/sun.security.action=ALL-UNNAMED --add-opens=java.base/sun.util.calendar=ALL-UNNAMED --add-opens=java.security.jgss/sun.security.krb5=ALL-UNNAMED -Djdk.reflect.useDirectMethodHandle=false')\n",
      "('spark.dynamicAllocation.minExecutors', '1')\n",
      "('spark.driver.host', 'BOOK-G6MUSCB12M')\n",
      "('spark.shuffle.service.enabled', 'true')\n",
      "('spark.driver.memory', '4g')\n",
      "('spark.executor.memory', '4g')\n",
      "('spark.dynamicAllocation.maxExecutors', '10')\n",
      "('spark.executor.id', 'driver')\n",
      "('spark.app.submitTime', '1702909448507')\n",
      "('spark.driver.extraJavaOptions', '-Djava.net.preferIPv6Addresses=false -XX:+IgnoreUnrecognizedVMOptions --add-opens=java.base/java.lang=ALL-UNNAMED --add-opens=java.base/java.lang.invoke=ALL-UNNAMED --add-opens=java.base/java.lang.reflect=ALL-UNNAMED --add-opens=java.base/java.io=ALL-UNNAMED --add-opens=java.base/java.net=ALL-UNNAMED --add-opens=java.base/java.nio=ALL-UNNAMED --add-opens=java.base/java.util=ALL-UNNAMED --add-opens=java.base/java.util.concurrent=ALL-UNNAMED --add-opens=java.base/java.util.concurrent.atomic=ALL-UNNAMED --add-opens=java.base/sun.nio.ch=ALL-UNNAMED --add-opens=java.base/sun.nio.cs=ALL-UNNAMED --add-opens=java.base/sun.security.action=ALL-UNNAMED --add-opens=java.base/sun.util.calendar=ALL-UNNAMED --add-opens=java.security.jgss/sun.security.krb5=ALL-UNNAMED -Djdk.reflect.useDirectMethodHandle=false')\n",
      "('spark.driver.port', '50496')\n",
      "('spark.network.timeout', '800s')\n",
      "('spark.rdd.compress', 'True')\n",
      "('spark-local-dir', 'C:\\\\spark-temp')\n",
      "('spark.serializer.objectStreamReset', '100')\n",
      "('spark.driver.maxResultSize', '2g')\n",
      "('spark.pyspark.driver.python', 'C:\\\\\\\\Users\\\\\\\\anama\\\\\\\\anaconda3\\\\\\\\envs\\\\\\\\Bigdata\\\\\\\\python.exe')\n",
      "('spark.master', 'local[*]')\n",
      "('spark.submit.pyFiles', '')\n",
      "('spark.dynamicAllocation.executorIdleTimeout', '60s')\n",
      "('spark.submit.deployMode', 'client')\n",
      "('spark.dynamicAllocation.enabled', 'true')\n",
      "('spark.app.id', 'local-1702909450582')\n",
      "('spark.ui.showConsoleProgress', 'true')\n",
      "('spark.app.name', 'ecommerce')\n",
      "('spark.pyspark.python', 'C:\\\\\\\\Users\\\\\\\\anama\\\\\\\\anaconda3\\\\\\\\envs\\\\\\\\Bigdata\\\\\\\\python.exe')\n",
      "('spark.app.startTime', '1702909448756')\n"
     ]
    }
   ],
   "source": [
    "conf = SparkConf()\\\n",
    "    .setMaster('local[*]')\\\n",
    "    .set('spark-local-dir', \"C:\\\\spark-temp\")\\\n",
    "    .set('spark.driver.memory', '4g')\\\n",
    "    .set('spark.executor.memory', '4g')\\\n",
    "    .set('spark.driver.maxResultSize', '2g')\\\n",
    "    .set('spark.pyspark.python', python_path)\\\n",
    "    .set('spark.pyspark.driver.python', python_path)\\\n",
    "    .set(\"spark.network.timeout\",\"800s\")\\\n",
    "    .set(\"spark.dynamicAllocation.enabled\", \"true\")\\\n",
    "    .set(\"spark.shuffle.service.enabled\", \"true\")\\\n",
    "    .set(\"spark.dynamicAllocation.minExecutors\", \"1\")\\\n",
    "    .set(\"spark.dynamicAllocation.maxExecutors\", \"10\")\\\n",
    "    .set(\"spark.dynamicAllocation.executorIdleTimeout\", \"60s\")\\\n",
    "\n",
    "spark = SparkSession.builder.appName(app_name_dec).config(conf=conf).getOrCreate()\n",
    "sc = spark.sparkContext\n",
    "\n",
    "for item in sc.getConf().getAll(): print(item)"
   ]
  },
  {
   "cell_type": "code",
   "execution_count": 4,
   "metadata": {},
   "outputs": [
    {
     "name": "stdout",
     "output_type": "stream",
     "text": [
      "+------+----------+--------+-------+---------+------------+--------------------+---+\n",
      "|    id|event_type|   brand|  price|  user_id|    category|             product|day|\n",
      "+------+----------+--------+-------+---------+------------+--------------------+---+\n",
      "|664791|      cart|   apple|1436.33|513035930|construction|         tools.light|  1|\n",
      "|376610|      view|   midea| 252.23|512511396|  appliances|kitchen.refrigera...|  1|\n",
      "|546957|      view|   apple| 532.83|560488744|construction|         tools.light|  1|\n",
      "|383524|      view|    akom|   79.8|514686387|   furniture|         bedroom.bed|  1|\n",
      "|276229|      view|    sony|  30.09|514479293|       sport|             bicycle|  1|\n",
      "|897219|      cart|   apple|1621.41|522181460|construction|         tools.light|  1|\n",
      "|390469|      view|    beko| 180.16|570967288|  appliances|      kitchen.washer|  1|\n",
      "|508720|      view|      hp| 567.58|548461791|   computers|             desktop|  1|\n",
      "|519760|      view|starline| 145.18|513621867|     apparel|               shoes|  1|\n",
      "|527309|      view|horizont|  60.58|580116990|   furniture|     bedroom.blanket|  1|\n",
      "|858605|      view|  wonlex|  46.05|522626880|   computers|              ebooks|  1|\n",
      "|445531|      view|     tcl| 166.52|568108980|  appliances|   personal.massager|  1|\n",
      "|687168|      view|   artel| 152.64|515215113|  appliances|   personal.massager|  1|\n",
      "|353802|      cart|     tcl| 166.52|555312955|  appliances|   personal.massager|  1|\n",
      "|545876|      view|  xiaomi|   83.4|577030999|construction|         tools.light|  1|\n",
      "|106157|      view| samsung| 501.92|542478133|  appliances|      kitchen.washer|  1|\n",
      "|455123|      view|  huawei|  79.49|515885512|construction|         tools.light|  1|\n",
      "|318745|      view|    sven|  32.69|527939997|     apparel|              shorts|  1|\n",
      "|493552|      view|     dji|1029.37|563733751|  appliances|      kitchen.toster|  1|\n",
      "|790923|      view|  xiaomi| 457.92|568781854|  appliances|  environment.vacuum|  1|\n",
      "+------+----------+--------+-------+---------+------------+--------------------+---+\n",
      "only showing top 20 rows\n",
      "\n"
     ]
    }
   ],
   "source": [
    "df = spark.read.csv(hadoop_path_dec+'/selected_Data/', header = True, inferSchema = True)\n",
    "df.show()"
   ]
  },
  {
   "cell_type": "code",
   "execution_count": 6,
   "metadata": {},
   "outputs": [
    {
     "name": "stdout",
     "output_type": "stream",
     "text": [
      "+------------+-----------+\n",
      "|    category|sales_count|\n",
      "+------------+-----------+\n",
      "|construction|     513806|\n",
      "|  appliances|     163635|\n",
      "|     apparel|      91649|\n",
      "| electronics|      84729|\n",
      "|       sport|      67901|\n",
      "|   furniture|      31466|\n",
      "|   computers|      26039|\n",
      "|        kids|      14424|\n",
      "| accessories|       6276|\n",
      "|        auto|       5824|\n",
      "+------------+-----------+\n",
      "\n"
     ]
    }
   ],
   "source": [
    "\n",
    "df_sales = df.filter(col(\"event_type\") == \"purchase\")\n",
    "\n",
    "df_grouped = df_sales.groupBy(\"category\").agg(count(\"id\").alias(\"sales_count\"))\n",
    "\n",
    "df_top10 = df_grouped.orderBy(col(\"sales_count\").desc()).limit(10)\n",
    "\n",
    "df_top10.show()"
   ]
  },
  {
   "cell_type": "code",
   "execution_count": 7,
   "metadata": {},
   "outputs": [
    {
     "name": "stdout",
     "output_type": "stream",
     "text": [
      "Row(category='construction', sales_count=513806)\n",
      "Row(category='appliances', sales_count=163635)\n",
      "Row(category='apparel', sales_count=91649)\n",
      "Row(category='electronics', sales_count=84729)\n",
      "Row(category='sport', sales_count=67901)\n",
      "Row(category='furniture', sales_count=31466)\n",
      "Row(category='computers', sales_count=26039)\n",
      "Row(category='kids', sales_count=14424)\n",
      "Row(category='accessories', sales_count=6276)\n",
      "Row(category='auto', sales_count=5824)\n"
     ]
    }
   ],
   "source": [
    "for row in df_top10.collect():\n",
    "    print(row)"
   ]
  },
  {
   "cell_type": "code",
   "execution_count": 8,
   "metadata": {},
   "outputs": [
    {
     "name": "stdout",
     "output_type": "stream",
     "text": [
      "+------------+-----------+\n",
      "|    category|sales_count|\n",
      "+------------+-----------+\n",
      "|construction|   15873789|\n",
      "|  appliances|   10321246|\n",
      "|     apparel|    6824523|\n",
      "| electronics|    6237862|\n",
      "|       sport|    2995544|\n",
      "|   furniture|    2399403|\n",
      "|   computers|    2388011|\n",
      "|        kids|    1345026|\n",
      "| accessories|     728651|\n",
      "|        auto|     503282|\n",
      "+------------+-----------+\n",
      "\n"
     ]
    }
   ],
   "source": [
    "df_sales = df.filter(col(\"event_type\") == \"view\")\n",
    "\n",
    "df_grouped = df_sales.groupBy(\"category\").agg(count(\"id\").alias(\"sales_count\"))\n",
    "\n",
    "df_top10 = df_grouped.orderBy(col(\"sales_count\").desc()).limit(10)\n",
    "\n",
    "df_top10.show()"
   ]
  },
  {
   "cell_type": "code",
   "execution_count": 10,
   "metadata": {},
   "outputs": [
    {
     "name": "stdout",
     "output_type": "stream",
     "text": [
      "+-------+-----------------+\n",
      "|  brand|sales_count_brand|\n",
      "+-------+-----------------+\n",
      "|samsung|           265773|\n",
      "|  apple|           209511|\n",
      "| xiaomi|           101500|\n",
      "| huawei|            45118|\n",
      "|lucente|            21010|\n",
      "|   oppo|            19843|\n",
      "|   sony|            16526|\n",
      "|     lg|            16191|\n",
      "|  artel|             9211|\n",
      "| lenovo|             8711|\n",
      "+-------+-----------------+\n",
      "\n"
     ]
    }
   ],
   "source": [
    "df_sales = df.filter(col(\"event_type\") == \"purchase\")\n",
    "\n",
    "df_grouped = df_sales.groupBy(\"brand\").agg(count(\"id\").alias(\"sales_count_brand\"))\n",
    "\n",
    "df_top10 = df_grouped.orderBy(col(\"sales_count_brand\").desc()).limit(10)\n",
    "\n",
    "df_top10.show()"
   ]
  },
  {
   "cell_type": "code",
   "execution_count": 11,
   "metadata": {},
   "outputs": [
    {
     "name": "stdout",
     "output_type": "stream",
     "text": [
      "+-------+-----------------+\n",
      "|  brand|sales_count_brand|\n",
      "+-------+-----------------+\n",
      "|samsung|          7563547|\n",
      "|  apple|          4880173|\n",
      "| xiaomi|          4738632|\n",
      "| huawei|          1736478|\n",
      "|lucente|          1159695|\n",
      "|     lg|           878712|\n",
      "|   sony|           844867|\n",
      "|   oppo|           703464|\n",
      "| lenovo|           601244|\n",
      "|  bosch|           533426|\n",
      "+-------+-----------------+\n",
      "\n"
     ]
    }
   ],
   "source": [
    "df_sales = df.filter(col(\"event_type\") == \"view\")\n",
    "\n",
    "df_grouped = df_sales.groupBy(\"brand\").agg(count(\"id\").alias(\"sales_count_brand\"))\n",
    "\n",
    "df_top10 = df_grouped.orderBy(col(\"sales_count_brand\").desc()).limit(10)\n",
    "\n",
    "df_top10.show()"
   ]
  }
 ],
 "metadata": {
  "kernelspec": {
   "display_name": "Bigdata",
   "language": "python",
   "name": "python3"
  },
  "language_info": {
   "codemirror_mode": {
    "name": "ipython",
    "version": 3
   },
   "file_extension": ".py",
   "mimetype": "text/x-python",
   "name": "python",
   "nbconvert_exporter": "python",
   "pygments_lexer": "ipython3",
   "version": "3.11.5"
  }
 },
 "nbformat": 4,
 "nbformat_minor": 2
}
