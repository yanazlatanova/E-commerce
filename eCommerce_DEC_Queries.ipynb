{
 "cells": [
  {
   "cell_type": "code",
   "execution_count": 5,
   "metadata": {},
   "outputs": [
    {
     "name": "stdout",
     "output_type": "stream",
     "text": [
      "C:\\Users\\anama\\anaconda3\\envs\\Bigdata\\Lib\\site-packages\\pyspark\n"
     ]
    }
   ],
   "source": [
    "from pyspark.find_spark_home import _find_spark_home\n",
    "from pyspark.sql import SparkSession\n",
    "from pyspark import SparkConf, StorageLevel\n",
    "import pyspark.sql.functions as F\n",
    "import os\n",
    "\n",
    "from dotenv import load_dotenv\n",
    "load_dotenv()\n",
    "\n",
    "print(_find_spark_home())"
   ]
  },
  {
   "cell_type": "code",
   "execution_count": 6,
   "metadata": {},
   "outputs": [],
   "source": [
    "python_path = os.environ.get('PYTHON_PATH')\n",
    "app_name_dec = os.environ.get('APP_NAME_DEC')\n",
    "hadoop_path_dec = os.environ.get('HADOOP_DEC_DATASET_PATH')"
   ]
  },
  {
   "cell_type": "code",
   "execution_count": 7,
   "metadata": {},
   "outputs": [
    {
     "name": "stdout",
     "output_type": "stream",
     "text": [
      "('spark.driver.host', '194.47.46.114')\n",
      "('spark.app.id', 'local-1702901868597')\n",
      "('spark.dynamicAllocation.minExecutors', '1')\n",
      "('spark.driver.memory', '4g')\n",
      "('spark.dynamicAllocation.maxExecutors', '10')\n",
      "('spark.driver.port', '60124')\n",
      "('spark.driver.extraJavaOptions', '-Djava.net.preferIPv6Addresses=false -XX:+IgnoreUnrecognizedVMOptions --add-opens=java.base/java.lang=ALL-UNNAMED --add-opens=java.base/java.lang.invoke=ALL-UNNAMED --add-opens=java.base/java.lang.reflect=ALL-UNNAMED --add-opens=java.base/java.io=ALL-UNNAMED --add-opens=java.base/java.net=ALL-UNNAMED --add-opens=java.base/java.nio=ALL-UNNAMED --add-opens=java.base/java.util=ALL-UNNAMED --add-opens=java.base/java.util.concurrent=ALL-UNNAMED --add-opens=java.base/java.util.concurrent.atomic=ALL-UNNAMED --add-opens=java.base/sun.nio.ch=ALL-UNNAMED --add-opens=java.base/sun.nio.cs=ALL-UNNAMED --add-opens=java.base/sun.security.action=ALL-UNNAMED --add-opens=java.base/sun.util.calendar=ALL-UNNAMED --add-opens=java.security.jgss/sun.security.krb5=ALL-UNNAMED -Djdk.reflect.useDirectMethodHandle=false')\n",
      "('spark.app.startTime', '1702901866718')\n",
      "('spark-local-dir', 'C:\\\\spark-temp')\n",
      "('spark.serializer.objectStreamReset', '100')\n",
      "('spark.pyspark.driver.python', 'C:\\\\\\\\Users\\\\\\\\anama\\\\\\\\anaconda3\\\\\\\\envs\\\\\\\\Bigdata\\\\\\\\python.exe')\n",
      "('spark.master', 'local[*]')\n",
      "('spark.dynamicAllocation.executorIdleTimeout', '60s')\n",
      "('spark.submit.deployMode', 'client')\n",
      "('spark.pyspark.python', 'C:\\\\\\\\Users\\\\\\\\anama\\\\\\\\anaconda3\\\\\\\\envs\\\\\\\\Bigdata\\\\\\\\python.exe')\n",
      "('spark.executor.extraJavaOptions', '-Djava.net.preferIPv6Addresses=false -XX:+IgnoreUnrecognizedVMOptions --add-opens=java.base/java.lang=ALL-UNNAMED --add-opens=java.base/java.lang.invoke=ALL-UNNAMED --add-opens=java.base/java.lang.reflect=ALL-UNNAMED --add-opens=java.base/java.io=ALL-UNNAMED --add-opens=java.base/java.net=ALL-UNNAMED --add-opens=java.base/java.nio=ALL-UNNAMED --add-opens=java.base/java.util=ALL-UNNAMED --add-opens=java.base/java.util.concurrent=ALL-UNNAMED --add-opens=java.base/java.util.concurrent.atomic=ALL-UNNAMED --add-opens=java.base/sun.nio.ch=ALL-UNNAMED --add-opens=java.base/sun.nio.cs=ALL-UNNAMED --add-opens=java.base/sun.security.action=ALL-UNNAMED --add-opens=java.base/sun.util.calendar=ALL-UNNAMED --add-opens=java.security.jgss/sun.security.krb5=ALL-UNNAMED -Djdk.reflect.useDirectMethodHandle=false')\n",
      "('spark.shuffle.service.enabled', 'true')\n",
      "('spark.executor.memory', '4g')\n",
      "('spark.executor.id', 'driver')\n",
      "('spark.network.timeout', '800s')\n",
      "('spark.rdd.compress', 'True')\n",
      "('spark.driver.maxResultSize', '2g')\n",
      "('spark.submit.pyFiles', '')\n",
      "('spark.sql.warehouse.dir', 'file:/C:/Users/anama/Big%20Data/E-commerce/spark-warehouse')\n",
      "('spark.dynamicAllocation.enabled', 'true')\n",
      "('spark.app.submitTime', '1702901866524')\n",
      "('spark.ui.showConsoleProgress', 'true')\n",
      "('spark.app.name', 'ecommerce')\n"
     ]
    }
   ],
   "source": [
    "conf = SparkConf()\\\n",
    "    .setMaster('local[*]')\\\n",
    "    .set('spark-local-dir', \"C:\\\\spark-temp\")\\\n",
    "    .set('spark.driver.memory', '4g')\\\n",
    "    .set('spark.executor.memory', '4g')\\\n",
    "    .set('spark.driver.maxResultSize', '2g')\\\n",
    "    .set('spark.pyspark.python', python_path)\\\n",
    "    .set('spark.pyspark.driver.python', python_path)\\\n",
    "    .set(\"spark.network.timeout\",\"800s\")\\\n",
    "    .set(\"spark.dynamicAllocation.enabled\", \"true\")\\\n",
    "    .set(\"spark.shuffle.service.enabled\", \"true\")\\\n",
    "    .set(\"spark.dynamicAllocation.minExecutors\", \"1\")\\\n",
    "    .set(\"spark.dynamicAllocation.maxExecutors\", \"10\")\\\n",
    "    .set(\"spark.dynamicAllocation.executorIdleTimeout\", \"60s\")\\\n",
    "\n",
    "spark = SparkSession.builder.appName(app_name_dec).config(conf=conf).getOrCreate()\n",
    "sc = spark.sparkContext\n",
    "\n",
    "for item in sc.getConf().getAll(): print(item)"
   ]
  },
  {
   "cell_type": "code",
   "execution_count": 8,
   "metadata": {},
   "outputs": [
    {
     "name": "stdout",
     "output_type": "stream",
     "text": [
      "+------+-------------------+----------+--------------------+------------+------+---------+\n",
      "|    id|         event_time|event_type|       category_code|       brand| price|  user_id|\n",
      "+------+-------------------+----------+--------------------+------------+------+---------+\n",
      "|855047|2019-12-01 12:36:23|      view|construction.tool...|      huawei|225.96|531501564|\n",
      "|700635|2019-12-01 11:03:17|      view|appliances.person...|     samsung|307.77|558757516|\n",
      "| 99280|2019-12-01 04:44:11|      view|appliances.enviro...|       artel|898.35|517847747|\n",
      "|504349|2019-12-01 09:07:40|      view|construction.tool...|        fila| 51.22|559343343|\n",
      "|193856|2019-12-01 06:00:42|      view|      apparel.shorts|         bts|514.56|530175988|\n",
      "|631515|2019-12-01 10:23:30|      view|construction.tool...|       apple|794.09|575328920|\n",
      "|395547|2019-12-01 08:04:41|      view|construction.tool...|        zubr| 21.56|514445090|\n",
      "|723923|2019-12-01 11:17:02|      view|appliances.kitche...|      xiaomi|365.11|538949134|\n",
      "|625088|2019-12-01 10:19:39|      view|appliances.person...|       braun| 52.74|514230188|\n",
      "|605418|2019-12-01 10:08:03|      view|electronics.audio...|      lenovo|437.57|549056196|\n",
      "| 65099|2019-12-01 04:08:06|      view|construction.tool...|      xiaomi|255.86|512856572|\n",
      "|230414|2019-12-01 06:24:32|      view|appliances.enviro...|      scoole| 25.71|544261919|\n",
      "|238188|2019-12-01 06:29:30|      view|     accessories.bag|tonybellucci|106.31|513849084|\n",
      "|704067|2019-12-01 11:05:18|      view|appliances.kitche...|     phoenix|144.12|556986864|\n",
      "|475485|2019-12-01 08:51:05|      view|furniture.bedroom...|        akom|  79.8|549425283|\n",
      "|881379|2019-12-01 12:52:56|      view|electronics.smart...|     nillkin| 11.54|580224949|\n",
      "|233941|2019-12-01 06:26:47|      view|electronics.audio...|      lenovo|246.08|580060086|\n",
      "|845612|2019-12-01 12:30:39|      view|electronics.audio...|      lenovo|820.82|517449141|\n",
      "|183511|2019-12-01 05:53:31|      view|construction.tool...|      xiaomi|104.25|533082592|\n",
      "|641403|2019-12-01 10:29:24|      view|appliances.person...|     samsung|307.77|558077079|\n",
      "+------+-------------------+----------+--------------------+------------+------+---------+\n",
      "only showing top 20 rows\n",
      "\n"
     ]
    }
   ],
   "source": [
    "df = spark.read.csv(hadoop_path_dec+'/selected_Data/', header = True, inferSchema = True)\n",
    "df.show()"
   ]
  },
  {
   "cell_type": "code",
   "execution_count": null,
   "metadata": {},
   "outputs": [],
   "source": []
  }
 ],
 "metadata": {
  "kernelspec": {
   "display_name": "Bigdata",
   "language": "python",
   "name": "python3"
  },
  "language_info": {
   "codemirror_mode": {
    "name": "ipython",
    "version": 3
   },
   "file_extension": ".py",
   "mimetype": "text/x-python",
   "name": "python",
   "nbconvert_exporter": "python",
   "pygments_lexer": "ipython3",
   "version": "3.11.5"
  }
 },
 "nbformat": 4,
 "nbformat_minor": 2
}
