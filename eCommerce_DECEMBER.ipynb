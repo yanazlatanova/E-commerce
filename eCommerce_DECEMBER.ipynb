{
 "cells": [
  {
   "cell_type": "markdown",
   "metadata": {},
   "source": [
    "# Analysis of eCommerce data in Multi-Category Store:\n",
    "## December"
   ]
  },
  {
   "cell_type": "code",
   "execution_count": 1,
   "metadata": {},
   "outputs": [
    {
     "data": {
      "text/plain": [
       "True"
      ]
     },
     "execution_count": 1,
     "metadata": {},
     "output_type": "execute_result"
    }
   ],
   "source": [
    "import os\n",
    "from pyspark.find_spark_home import _find_spark_home\n",
    "from pyspark.sql import SparkSession\n",
    "from pyspark import SparkConf, StorageLevel\n",
    "import pyspark.sql.functions as F\n",
    "from dotenv import load_dotenv\n",
    "load_dotenv()"
   ]
  },
  {
   "cell_type": "code",
   "execution_count": 2,
   "metadata": {},
   "outputs": [
    {
     "name": "stdout",
     "output_type": "stream",
     "text": [
      "C:\\Users\\liisu\\anaconda3\\envs\\bigData\\Lib\\site-packages\\pyspark\n"
     ]
    }
   ],
   "source": [
    "print(_find_spark_home())"
   ]
  },
  {
   "cell_type": "code",
   "execution_count": 3,
   "metadata": {},
   "outputs": [],
   "source": [
    "python_path = os.environ.get('PYTHON_PATH')\n",
    "app_name_dec = os.environ.get('APP_NAME_DEC')\n",
    "hadoop_path_dec = os.environ.get('HADOOP_DEC_DATASET_PATH')"
   ]
  },
  {
   "cell_type": "code",
   "execution_count": 4,
   "metadata": {},
   "outputs": [
    {
     "name": "stdout",
     "output_type": "stream",
     "text": [
      "('spark.driver.host', 'host.docker.internal')\n",
      "('spark.network.timeout', '600s')\n",
      "('spark.driver.memory', '4g')\n",
      "('spark.executor.memory', '4g')\n",
      "('spark.executor.id', 'driver')\n",
      "('spark.pyspark.driver.python', 'C:/Users/liisu/anaconda3/envs/bigData/python.exe')\n",
      "('spark.app.id', 'local-1702756845657')\n",
      "('spark.driver.extraJavaOptions', '-Djava.net.preferIPv6Addresses=false -XX:+IgnoreUnrecognizedVMOptions --add-opens=java.base/java.lang=ALL-UNNAMED --add-opens=java.base/java.lang.invoke=ALL-UNNAMED --add-opens=java.base/java.lang.reflect=ALL-UNNAMED --add-opens=java.base/java.io=ALL-UNNAMED --add-opens=java.base/java.net=ALL-UNNAMED --add-opens=java.base/java.nio=ALL-UNNAMED --add-opens=java.base/java.util=ALL-UNNAMED --add-opens=java.base/java.util.concurrent=ALL-UNNAMED --add-opens=java.base/java.util.concurrent.atomic=ALL-UNNAMED --add-opens=java.base/sun.nio.ch=ALL-UNNAMED --add-opens=java.base/sun.nio.cs=ALL-UNNAMED --add-opens=java.base/sun.security.action=ALL-UNNAMED --add-opens=java.base/sun.util.calendar=ALL-UNNAMED --add-opens=java.security.jgss/sun.security.krb5=ALL-UNNAMED -Djdk.reflect.useDirectMethodHandle=false')\n",
      "('spark.app.startTime', '1702756843677')\n",
      "('spark.driver.port', '58469')\n",
      "('spark.app.submitTime', '1702756843446')\n",
      "('spark.rdd.compress', 'True')\n",
      "('spark-local-dir', 'C:\\\\spark-temp')\n",
      "('spark.serializer.objectStreamReset', '100')\n",
      "('spark.driver.maxResultSize', '2g')\n",
      "('spark.master', 'local[*]')\n",
      "('spark.submit.pyFiles', '')\n",
      "('spark.submit.deployMode', 'client')\n",
      "('spark.pyspark.python', 'C:/Users/liisu/anaconda3/envs/bigData/python.exe')\n",
      "('spark.app.name', 'december_data')\n",
      "('spark.ui.showConsoleProgress', 'true')\n",
      "('spark.executor.extraJavaOptions', '-Djava.net.preferIPv6Addresses=false -XX:+IgnoreUnrecognizedVMOptions --add-opens=java.base/java.lang=ALL-UNNAMED --add-opens=java.base/java.lang.invoke=ALL-UNNAMED --add-opens=java.base/java.lang.reflect=ALL-UNNAMED --add-opens=java.base/java.io=ALL-UNNAMED --add-opens=java.base/java.net=ALL-UNNAMED --add-opens=java.base/java.nio=ALL-UNNAMED --add-opens=java.base/java.util=ALL-UNNAMED --add-opens=java.base/java.util.concurrent=ALL-UNNAMED --add-opens=java.base/java.util.concurrent.atomic=ALL-UNNAMED --add-opens=java.base/sun.nio.ch=ALL-UNNAMED --add-opens=java.base/sun.nio.cs=ALL-UNNAMED --add-opens=java.base/sun.security.action=ALL-UNNAMED --add-opens=java.base/sun.util.calendar=ALL-UNNAMED --add-opens=java.security.jgss/sun.security.krb5=ALL-UNNAMED -Djdk.reflect.useDirectMethodHandle=false')\n"
     ]
    }
   ],
   "source": [
    "conf = SparkConf()\\\n",
    "    .setMaster('local[*]')\\\n",
    "    .set('spark-local-dir', \"C:\\\\spark-temp\")\\\n",
    "    .set('spark.driver.memory', '4g')\\\n",
    "    .set('spark.executor.memory', '4g')\\\n",
    "    .set('spark.driver.maxResultSize', '2g')\\\n",
    "    .set('spark.pyspark.python', python_path)\\\n",
    "    .set('spark.pyspark.driver.python', python_path)\\\n",
    "    .set('spark.network.timeout', '600s')\n",
    "\n",
    "spark = SparkSession.builder.appName(app_name_dec).config(conf=conf).getOrCreate()\n",
    "sc = spark.sparkContext\n",
    "\n",
    "for item in sc.getConf().getAll(): print(item)"
   ]
  },
  {
   "cell_type": "markdown",
   "metadata": {},
   "source": [
    "## Check the original dataset"
   ]
  },
  {
   "cell_type": "code",
   "execution_count": 5,
   "metadata": {},
   "outputs": [
    {
     "name": "stdout",
     "output_type": "stream",
     "text": [
      "+-------------------+----------+----------+-------------------+--------------------+-------+-------+---------+--------------------+\n",
      "|         event_time|event_type|product_id|        category_id|       category_code|  brand|  price|  user_id|        user_session|\n",
      "+-------------------+----------+----------+-------------------+--------------------+-------+-------+---------+--------------------+\n",
      "|2019-12-01 01:00:00|      view|   1005105|2232732093077520756|construction.tool...|  apple|1302.48|556695836|ca5eefc5-11f9-450...|\n",
      "|2019-12-01 01:00:00|      view|  22700068|2232732091643068746|                null|  force| 102.96|577702456|de33debe-c7bf-44e...|\n",
      "|2019-12-01 01:00:01|      view|   2402273|2232732100769874463|appliances.person...|  bosch| 313.52|539453785|5ee185a7-0689-4a3...|\n",
      "|2019-12-01 01:00:02|  purchase|  26400248|2053013553056579841|computers.periphe...|   null| 132.31|535135317|61792a26-672f-4e6...|\n",
      "|2019-12-01 01:00:02|      view|  20100164|2232732110089618156|    apparel.trousers|   nika| 101.68|517987650|906c6ca8-ff5c-419...|\n",
      "|2019-12-01 01:00:02|      view| 100008256|2053013561185141473|accessories.umbrella|   ikea| 163.56|542860793|a1bcb550-1065-476...|\n",
      "|2019-12-01 01:00:02|      view|  21400264|2053013561579406073|  electronics.clocks|   null|  88.81|538021416|e88f77cc-e75e-4e9...|\n",
      "|2019-12-01 01:00:03|      view|   1005239|2232732093077520756|construction.tool...| xiaomi| 256.38|525740700|370e8c88-3d07-41d...|\n",
      "|2019-12-01 01:00:04|      view|   5100885|2053013553375346967|  computers.notebook|    jet|  20.57|512509221|4227259f-1c4c-41d...|\n",
      "|2019-12-01 01:00:04|      view|  26205399|2232732081585127530|construction.comp...|   null| 179.16|553345124|58c692ff-c7a9-4e3...|\n",
      "|2019-12-01 01:00:04|      view|  22900009|2053013553375346967|  computers.notebook|  vegas|  49.94|554369617|a4481ea8-9a20-442...|\n",
      "|2019-12-01 01:00:04|      view|   1004233|2232732093077520756|construction.tool...|  apple|1312.52|579969851|90aca71c-ed8a-467...|\n",
      "|2019-12-01 01:00:05|      view|  22700202|2232732091643068746|                null|  stels| 171.18|575086722|05a5e4f4-1865-4b0...|\n",
      "|2019-12-01 01:00:06|      view|   1004856|2232732093077520756|construction.tool...|samsung| 124.11|532554953|4bd14129-caad-4de...|\n",
      "|2019-12-01 01:00:06|      view|   3701309|2053013565983425517|appliances.enviro...|polaris|  89.32|543733099|a65116f4-ac53-4a4...|\n",
      "|2019-12-01 01:00:07|      view|  11500445|2053013552259662037|computers.compone...| xiaomi|  27.77|526844203|5e62045f-58f7-442...|\n",
      "|2019-12-01 01:00:07|      view|   1005105|2232732093077520756|construction.tool...|  apple|1302.48|562071412|822749fe-49f1-4a9...|\n",
      "|2019-12-01 01:00:07|      view|   1003489|2232732093077520756|construction.tool...| huawei| 205.67|543826485|b251cbde-4373-497...|\n",
      "|2019-12-01 01:00:07|      view|   1480790|2053013553341792533|  electronics.clocks| lenovo| 342.82|577653879|a971d966-d601-4d8...|\n",
      "|2019-12-01 01:00:07|      view|   4804718|2232732079706079299|       sport.bicycle|  apple| 329.14|579969767|e159d1a1-6668-477...|\n",
      "+-------------------+----------+----------+-------------------+--------------------+-------+-------+---------+--------------------+\n",
      "only showing top 20 rows\n",
      "\n"
     ]
    }
   ],
   "source": [
    "df = spark.read.csv(hadoop_path_dec, header=True, inferSchema=True)\n",
    "df.show()"
   ]
  },
  {
   "cell_type": "code",
   "execution_count": 7,
   "metadata": {},
   "outputs": [
    {
     "name": "stdout",
     "output_type": "stream",
     "text": [
      "Total number of rows: 67,542,878\n"
     ]
    }
   ],
   "source": [
    "count = df.count()\n",
    "print(f\"Total number of rows: {count:,d}\")"
   ]
  },
  {
   "cell_type": "code",
   "execution_count": 8,
   "metadata": {},
   "outputs": [
    {
     "name": "stdout",
     "output_type": "stream",
     "text": [
      "Columns in out dataset:\n",
      "['event_time', 'event_type', 'product_id', 'category_id', 'category_code', 'brand', 'price', 'user_id', 'user_session']\n"
     ]
    }
   ],
   "source": [
    "cols = df.columns\n",
    "print(\"Columns in out dataset:\")\n",
    "print(cols)"
   ]
  },
  {
   "cell_type": "code",
   "execution_count": 9,
   "metadata": {},
   "outputs": [
    {
     "name": "stdout",
     "output_type": "stream",
     "text": [
      "Null values present in:\n",
      "event_time: 0\n",
      "event_type: 0\n",
      "product_id: 0\n",
      "category_id: 0\n",
      "category_code: 7088848\n",
      "brand: 8115813\n",
      "price: 0\n",
      "user_id: 0\n",
      "user_session: 21\n"
     ]
    }
   ],
   "source": [
    "print(\"Null values present in:\")\n",
    "for c in cols:\n",
    "    print(c +':', df.where(F.col(c).isNull()).count())"
   ]
  },
  {
   "cell_type": "code",
   "execution_count": 10,
   "metadata": {},
   "outputs": [
    {
     "name": "stdout",
     "output_type": "stream",
     "text": [
      "Count unique values in:\n",
      "+--------------------------+\n",
      "|count(DISTINCT event_type)|\n",
      "+--------------------------+\n",
      "|                         3|\n",
      "+--------------------------+\n",
      "\n",
      "+--------------------------+\n",
      "|count(DISTINCT product_id)|\n",
      "+--------------------------+\n",
      "|                    205230|\n",
      "+--------------------------+\n",
      "\n",
      "+---------------------------+\n",
      "|count(DISTINCT category_id)|\n",
      "+---------------------------+\n",
      "|                       1162|\n",
      "+---------------------------+\n",
      "\n",
      "+-----------------------------+\n",
      "|count(DISTINCT category_code)|\n",
      "+-----------------------------+\n",
      "|                          135|\n",
      "+-----------------------------+\n",
      "\n",
      "+---------------------+\n",
      "|count(DISTINCT brand)|\n",
      "+---------------------+\n",
      "|                 4638|\n",
      "+---------------------+\n",
      "\n",
      "+-----------------------+\n",
      "|count(DISTINCT user_id)|\n",
      "+-----------------------+\n",
      "|                4577232|\n",
      "+-----------------------+\n",
      "\n"
     ]
    }
   ],
   "source": [
    "# Not showing: event_time, price, user_session\n",
    "cols_count_unique = ['event_type', 'product_id', 'category_id', 'category_code', 'brand', 'user_id']\n",
    "print(\"Count unique values in:\")\n",
    "\n",
    "for c in cols_count_unique:\n",
    "    df.select(F.count_distinct(c)).show() "
   ]
  },
  {
   "cell_type": "code",
   "execution_count": 11,
   "metadata": {},
   "outputs": [
    {
     "name": "stdout",
     "output_type": "stream",
     "text": [
      "Show unique values in:\n",
      "+----------+--------+\n",
      "|event_type|   count|\n",
      "+----------+--------+\n",
      "|  purchase| 1162048|\n",
      "|      view|62986067|\n",
      "|      cart| 3394763|\n",
      "+----------+--------+\n",
      "\n",
      "+----------+-----+\n",
      "|product_id|count|\n",
      "+----------+-----+\n",
      "|   1004739|49965|\n",
      "|   1307545|71263|\n",
      "|   1201512| 5894|\n",
      "|   1005158|75796|\n",
      "|   4500226|  122|\n",
      "|  26022262|   37|\n",
      "|   5400762|  566|\n",
      "|   1004666| 8491|\n",
      "|  28102027| 1186|\n",
      "|   3701387|11413|\n",
      "|  28100913|  182|\n",
      "|   1307005| 1511|\n",
      "|  47000059|  835|\n",
      "|  13104475|  159|\n",
      "|  16600083| 1642|\n",
      "|   2702332| 3369|\n",
      "|  16700382|   10|\n",
      "|   6600567|   57|\n",
      "| 100008448|  660|\n",
      "|  26200057|  694|\n",
      "+----------+-----+\n",
      "only showing top 20 rows\n",
      "\n",
      "+-------------------+------+\n",
      "|        category_id| count|\n",
      "+-------------------+------+\n",
      "|2053013561554240247|118182|\n",
      "|2053013566209917945| 59017|\n",
      "|2232732097087275466| 63561|\n",
      "|2053013563944993659|  7461|\n",
      "|2232732071208420303|  1923|\n",
      "|2232732108319621820| 41419|\n",
      "|2232732120852202494|  2806|\n",
      "|2145727399348666855|   276|\n",
      "|2232732113310843708| 43485|\n",
      "|2232732099981345295|171664|\n",
      "|2053013564968403895|  7067|\n",
      "|2232732124778070108|  4802|\n",
      "|2232732074815521775| 17334|\n",
      "|2053013561747178243|  7454|\n",
      "|2053013562527318829|  3424|\n",
      "|2134905039313961849|  4161|\n",
      "|2053013552737812719| 11886|\n",
      "|2095518906859913319|   351|\n",
      "|2232732102539870787|143512|\n",
      "|2232732124610297944|  4274|\n",
      "+-------------------+------+\n",
      "only showing top 20 rows\n",
      "\n",
      "+--------------------+-------+\n",
      "|       category_code|  count|\n",
      "+--------------------+-------+\n",
      "|apparel.shoes.sli...| 653631|\n",
      "|    computers.ebooks| 105991|\n",
      "|computers.periphe...|  12109|\n",
      "|construction.tool...|  18304|\n",
      "|electronics.video...| 229616|\n",
      "|appliances.kitche...| 585974|\n",
      "|     sport.snowboard|  70482|\n",
      "|electronics.camer...| 347368|\n",
      "|       apparel.shirt| 434285|\n",
      "|electronics.audio...|1374890|\n",
      "|appliances.kitche...| 120577|\n",
      "|appliances.kitche...| 152166|\n",
      "|auto.accessories....|  73761|\n",
      "|  electronics.tablet| 247753|\n",
      "|appliances.kitche...| 148002|\n",
      "|apparel.shoes.moc...| 385553|\n",
      "|       apparel.jeans| 141230|\n",
      "|computers.periphe...|  42443|\n",
      "|furniture.living_...| 167258|\n",
      "| stationery.cartrige|  44407|\n",
      "+--------------------+-------+\n",
      "only showing top 20 rows\n",
      "\n",
      "+--------------+-----+\n",
      "|         brand|count|\n",
      "+--------------+-----+\n",
      "|      yokohama|29306|\n",
      "|       edifier| 4385|\n",
      "|houseofseasons|22177|\n",
      "|         crest|  493|\n",
      "|          tega| 2592|\n",
      "|       tuffoni|  207|\n",
      "|         welss| 3565|\n",
      "|       serebro| 7303|\n",
      "|          tmnt|  987|\n",
      "|          dvin|  107|\n",
      "|       blaster|  694|\n",
      "|alpinapabliser| 1391|\n",
      "|      norplast|  319|\n",
      "|          hipp|  391|\n",
      "|      nutricia| 2783|\n",
      "|         sigma| 3570|\n",
      "|       bombbar| 1058|\n",
      "|         sonel| 9164|\n",
      "|       keenway| 2327|\n",
      "|         lotos| 2722|\n",
      "+--------------+-----+\n",
      "only showing top 20 rows\n",
      "\n",
      "+---------+-----+\n",
      "|  user_id|count|\n",
      "+---------+-----+\n",
      "|559847107|   10|\n",
      "|522383444|  420|\n",
      "|559328644|   61|\n",
      "|518663904|  141|\n",
      "|579975515|   14|\n",
      "|515933146|    5|\n",
      "|532834537|   14|\n",
      "|579753356|  111|\n",
      "|526611555|   32|\n",
      "|566393220|    4|\n",
      "|556608151|  565|\n",
      "|548189454|    8|\n",
      "|559220432|   50|\n",
      "|519159018|    7|\n",
      "|515378577|   18|\n",
      "|537865129|    2|\n",
      "|543627148|    5|\n",
      "|555626687|    5|\n",
      "|579995624|    1|\n",
      "|579998946|   15|\n",
      "+---------+-----+\n",
      "only showing top 20 rows\n",
      "\n"
     ]
    }
   ],
   "source": [
    "cols_show_unique = ['event_type', 'brand', 'category_code']\n",
    "print(\"Show unique values in:\")\n",
    "\n",
    "for c in cols_count_unique:\n",
    "    df.groupBy(c).count().show()"
   ]
  },
  {
   "cell_type": "code",
   "execution_count": null,
   "metadata": {},
   "outputs": [],
   "source": []
  },
  {
   "cell_type": "markdown",
   "metadata": {},
   "source": [
    "here we could also do some visualisations..."
   ]
  },
  {
   "cell_type": "code",
   "execution_count": null,
   "metadata": {},
   "outputs": [],
   "source": []
  },
  {
   "cell_type": "markdown",
   "metadata": {},
   "source": [
    "## Clean the data"
   ]
  },
  {
   "cell_type": "code",
   "execution_count": null,
   "metadata": {},
   "outputs": [],
   "source": []
  }
 ],
 "metadata": {
  "kernelspec": {
   "display_name": "bigData",
   "language": "python",
   "name": "python3"
  },
  "language_info": {
   "codemirror_mode": {
    "name": "ipython",
    "version": 3
   },
   "file_extension": ".py",
   "mimetype": "text/x-python",
   "name": "python",
   "nbconvert_exporter": "python",
   "pygments_lexer": "ipython3",
   "version": "3.11.5"
  }
 },
 "nbformat": 4,
 "nbformat_minor": 2
}
