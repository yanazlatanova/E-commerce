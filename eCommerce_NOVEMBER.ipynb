{
 "cells": [
  {
   "cell_type": "markdown",
   "metadata": {},
   "source": [
    "# Analysis of eCommerce data in Multi-Category Store:\n",
    "## November"
   ]
  },
  {
   "cell_type": "code",
   "execution_count": 1,
   "metadata": {},
   "outputs": [
    {
     "data": {
      "text/plain": [
       "True"
      ]
     },
     "execution_count": 1,
     "metadata": {},
     "output_type": "execute_result"
    }
   ],
   "source": [
    "import os\n",
    "from pyspark.find_spark_home import _find_spark_home\n",
    "from pyspark.sql import SparkSession\n",
    "from pyspark import SparkConf, StorageLevel\n",
    "import pyspark.sql.functions as F\n",
    "from dotenv import load_dotenv\n",
    "load_dotenv()"
   ]
  },
  {
   "cell_type": "code",
   "execution_count": 2,
   "metadata": {},
   "outputs": [
    {
     "name": "stdout",
     "output_type": "stream",
     "text": [
      "C:\\Users\\jasmi\\.conda\\envs\\bigData\\Lib\\site-packages\\pyspark\n"
     ]
    }
   ],
   "source": [
    "print(_find_spark_home())"
   ]
  },
  {
   "cell_type": "code",
   "execution_count": 3,
   "metadata": {},
   "outputs": [],
   "source": [
    "python_path = os.environ.get('PYTHON_PATH')\n",
    "app_name_nov = os.environ.get('APP_NAME_NOV')\n",
    "hadoop_path_nov = os.environ.get('HADOOP_NOV_DATASET_PATH')"
   ]
  },
  {
   "cell_type": "code",
   "execution_count": 4,
   "metadata": {},
   "outputs": [
    {
     "name": "stdout",
     "output_type": "stream",
     "text": [
      "('spark.driver.port', '58645')\n",
      "('spark.network.timeout', '600s')\n",
      "('spark.driver.memory', '4g')\n",
      "('spark.executor.memory', '4g')\n",
      "('spark.driver.host', '194.47.40.208')\n",
      "('spark.pyspark.python', 'C:/Users/jasmi/.conda/envs/bigData/python.exe')\n",
      "('spark.executor.id', 'driver')\n",
      "('spark.app.id', 'local-1702902302640')\n",
      "('spark.driver.extraJavaOptions', '-Djava.net.preferIPv6Addresses=false -XX:+IgnoreUnrecognizedVMOptions --add-opens=java.base/java.lang=ALL-UNNAMED --add-opens=java.base/java.lang.invoke=ALL-UNNAMED --add-opens=java.base/java.lang.reflect=ALL-UNNAMED --add-opens=java.base/java.io=ALL-UNNAMED --add-opens=java.base/java.net=ALL-UNNAMED --add-opens=java.base/java.nio=ALL-UNNAMED --add-opens=java.base/java.util=ALL-UNNAMED --add-opens=java.base/java.util.concurrent=ALL-UNNAMED --add-opens=java.base/java.util.concurrent.atomic=ALL-UNNAMED --add-opens=java.base/sun.nio.ch=ALL-UNNAMED --add-opens=java.base/sun.nio.cs=ALL-UNNAMED --add-opens=java.base/sun.security.action=ALL-UNNAMED --add-opens=java.base/sun.util.calendar=ALL-UNNAMED --add-opens=java.security.jgss/sun.security.krb5=ALL-UNNAMED -Djdk.reflect.useDirectMethodHandle=false')\n",
      "('spark.rdd.compress', 'True')\n",
      "('spark-local-dir', 'C:\\\\spark-temp')\n",
      "('spark.serializer.objectStreamReset', '100')\n",
      "('spark.driver.maxResultSize', '2g')\n",
      "('spark.master', 'local[*]')\n",
      "('spark.submit.pyFiles', '')\n",
      "('spark.submit.deployMode', 'client')\n",
      "('spark.app.submitTime', '1702902301072')\n",
      "('spark.pyspark.driver.python', 'C:/Users/jasmi/.conda/envs/bigData/python.exe')\n",
      "('spark.app.startTime', '1702902301264')\n",
      "('spark.ui.showConsoleProgress', 'true')\n",
      "('spark.executor.extraJavaOptions', '-Djava.net.preferIPv6Addresses=false -XX:+IgnoreUnrecognizedVMOptions --add-opens=java.base/java.lang=ALL-UNNAMED --add-opens=java.base/java.lang.invoke=ALL-UNNAMED --add-opens=java.base/java.lang.reflect=ALL-UNNAMED --add-opens=java.base/java.io=ALL-UNNAMED --add-opens=java.base/java.net=ALL-UNNAMED --add-opens=java.base/java.nio=ALL-UNNAMED --add-opens=java.base/java.util=ALL-UNNAMED --add-opens=java.base/java.util.concurrent=ALL-UNNAMED --add-opens=java.base/java.util.concurrent.atomic=ALL-UNNAMED --add-opens=java.base/sun.nio.ch=ALL-UNNAMED --add-opens=java.base/sun.nio.cs=ALL-UNNAMED --add-opens=java.base/sun.security.action=ALL-UNNAMED --add-opens=java.base/sun.util.calendar=ALL-UNNAMED --add-opens=java.security.jgss/sun.security.krb5=ALL-UNNAMED -Djdk.reflect.useDirectMethodHandle=false')\n",
      "('spark.app.name', 'november_data')\n"
     ]
    }
   ],
   "source": [
    "conf = SparkConf()\\\n",
    "    .setMaster('local[*]')\\\n",
    "    .set('spark-local-dir', \"C:\\\\spark-temp\")\\\n",
    "    .set('spark.driver.memory', '4g')\\\n",
    "    .set('spark.executor.memory', '4g')\\\n",
    "    .set('spark.driver.maxResultSize', '2g')\\\n",
    "    .set('spark.pyspark.python', python_path)\\\n",
    "    .set('spark.pyspark.driver.python', python_path)\\\n",
    "    .set('spark.network.timeout', '600s')\n",
    "\n",
    "spark = SparkSession.builder.appName(app_name_nov).config(conf=conf).getOrCreate()\n",
    "sc = spark.sparkContext\n",
    "\n",
    "for item in sc.getConf().getAll(): print(item)"
   ]
  },
  {
   "cell_type": "markdown",
   "metadata": {},
   "source": [
    "## Check the original dataset"
   ]
  },
  {
   "cell_type": "code",
   "execution_count": 5,
   "metadata": {},
   "outputs": [
    {
     "name": "stdout",
     "output_type": "stream",
     "text": [
      "+-------------------+----------+----------+-------------------+--------------------+--------+------+---------+--------------------+\n",
      "|         event_time|event_type|product_id|        category_id|       category_code|   brand| price|  user_id|        user_session|\n",
      "+-------------------+----------+----------+-------------------+--------------------+--------+------+---------+--------------------+\n",
      "|2019-11-01 01:00:00|      view|   1003461|2053013555631882655|electronics.smart...|  xiaomi|489.07|520088904|4d3b30da-a5e4-49d...|\n",
      "|2019-11-01 01:00:00|      view|   5000088|2053013566100866035|appliances.sewing...|  janome|293.65|530496790|8e5f4f83-366c-4f7...|\n",
      "|2019-11-01 01:00:01|      view|  17302664|2053013553853497655|                null|   creed| 28.31|561587266|755422e7-9040-477...|\n",
      "|2019-11-01 01:00:01|      view|   3601530|2053013563810775923|appliances.kitche...|      lg|712.87|518085591|3bfb58cd-7892-48c...|\n",
      "|2019-11-01 01:00:01|      view|   1004775|2053013555631882655|electronics.smart...|  xiaomi|183.27|558856683|313628f1-68b8-460...|\n",
      "|2019-11-01 01:00:01|      view|   1306894|2053013558920217191|  computers.notebook|      hp|360.09|520772685|816a59f3-f5ae-4cc...|\n",
      "|2019-11-01 01:00:01|      view|   1306421|2053013558920217191|  computers.notebook|      hp|514.56|514028527|df8184cc-3694-454...|\n",
      "|2019-11-01 01:00:02|      view|  15900065|2053013558190408249|                null| rondell| 30.86|518574284|5e6ef132-4d7c-473...|\n",
      "|2019-11-01 01:00:02|      view|  12708937|2053013553559896355|                null|michelin| 72.72|532364121|0a899268-31eb-46d...|\n",
      "|2019-11-01 01:00:02|      view|   1004258|2053013555631882655|electronics.smart...|   apple|732.07|532647354|d2d3d2c6-631d-489...|\n",
      "|2019-11-01 01:00:03|      view|  17200570|2053013559792632471|furniture.living_...|    null|437.33|518780843|aa806835-b14c-45a...|\n",
      "|2019-11-01 01:00:03|      view|   2701517|2053013563911439225|appliances.kitche...|    null|155.11|518427361|c89b0d96-247f-404...|\n",
      "|2019-11-01 01:00:03|      view|  16700260|2053013559901684381|furniture.kitchen...|    null| 31.64|566255262|173d7b72-1db7-463...|\n",
      "|2019-11-01 01:00:04|      view|  34600011|2060981320581906480|                null|    null| 20.54|512416379|4dfe2c67-e537-4dc...|\n",
      "|2019-11-01 01:00:05|      view|   4600658|2053013563944993659|appliances.kitche...| samsung|411.83|526595547|aab33a9a-29c3-4d5...|\n",
      "|2019-11-01 01:00:06|      view|  24900193|2053013562183385881|                null|    null|  1.09|512651494|f603c815-f51a-46f...|\n",
      "|2019-11-01 01:00:07|      view|  27400066|2053013563391345499|                null|    null|  8.55|551061950|3f6112f1-5695-4e8...|\n",
      "|2019-11-01 01:00:07|      view|   5100503|2053013553375346967|                null|  xiaomi| 22.68|520037415|f54fa96a-f3f2-43a...|\n",
      "|2019-11-01 01:00:07|      view|   1004566|2053013555631882655|electronics.smart...|  huawei|164.84|566265908|52c2c76c-b79e-479...|\n",
      "|2019-11-01 01:00:08|      view|   1307115|2053013558920217191|  computers.notebook|      hp|411.59|514028527|df8184cc-3694-454...|\n",
      "+-------------------+----------+----------+-------------------+--------------------+--------+------+---------+--------------------+\n",
      "only showing top 20 rows\n",
      "\n"
     ]
    }
   ],
   "source": [
    "df = spark.read.csv(hadoop_path_nov, header=True, inferSchema=True)\n",
    "df.show()"
   ]
  },
  {
   "cell_type": "code",
   "execution_count": 6,
   "metadata": {},
   "outputs": [
    {
     "name": "stdout",
     "output_type": "stream",
     "text": [
      "Total number of rows: 67,501,979\n"
     ]
    }
   ],
   "source": [
    "count = df.count()\n",
    "print(f\"Total number of rows: {count:,d}\")"
   ]
  },
  {
   "cell_type": "code",
   "execution_count": 7,
   "metadata": {},
   "outputs": [
    {
     "name": "stdout",
     "output_type": "stream",
     "text": [
      "Columns in out dataset:\n",
      "['event_time', 'event_type', 'product_id', 'category_id', 'category_code', 'brand', 'price', 'user_id', 'user_session']\n"
     ]
    }
   ],
   "source": [
    "cols = df.columns\n",
    "print(\"Columns in out dataset:\")\n",
    "print(cols)"
   ]
  },
  {
   "cell_type": "code",
   "execution_count": 8,
   "metadata": {},
   "outputs": [
    {
     "name": "stdout",
     "output_type": "stream",
     "text": [
      "Null values present in:\n",
      "event_time: 0\n",
      "event_type: 0\n",
      "product_id: 0\n",
      "category_id: 0\n",
      "category_code: 21898171\n",
      "brand: 9218235\n",
      "price: 0\n",
      "user_id: 0\n",
      "user_session: 10\n"
     ]
    }
   ],
   "source": [
    "print(\"Null values present in:\")\n",
    "for c in cols:\n",
    "    print(c +':', df.where(F.col(c).isNull()).count())"
   ]
  },
  {
   "cell_type": "code",
   "execution_count": 9,
   "metadata": {},
   "outputs": [
    {
     "name": "stdout",
     "output_type": "stream",
     "text": [
      "Count unique values in:\n",
      "+--------------------------+\n",
      "|count(DISTINCT event_type)|\n",
      "+--------------------------+\n",
      "|                         3|\n",
      "+--------------------------+\n",
      "\n",
      "+--------------------------+\n",
      "|count(DISTINCT product_id)|\n",
      "+--------------------------+\n",
      "|                    190662|\n",
      "+--------------------------+\n",
      "\n",
      "+---------------------------+\n",
      "|count(DISTINCT category_id)|\n",
      "+---------------------------+\n",
      "|                        684|\n",
      "+---------------------------+\n",
      "\n",
      "+-----------------------------+\n",
      "|count(DISTINCT category_code)|\n",
      "+-----------------------------+\n",
      "|                          129|\n",
      "+-----------------------------+\n",
      "\n",
      "+---------------------+\n",
      "|count(DISTINCT brand)|\n",
      "+---------------------+\n",
      "|                 4201|\n",
      "+---------------------+\n",
      "\n",
      "+-----------------------+\n",
      "|count(DISTINCT user_id)|\n",
      "+-----------------------+\n",
      "|                3696117|\n",
      "+-----------------------+\n",
      "\n"
     ]
    }
   ],
   "source": [
    "# Not showing: event_time, price, user_session\n",
    "cols_count_unique = ['event_type', 'product_id', 'category_id', 'category_code', 'brand', 'user_id']\n",
    "print(\"Count unique values in:\")\n",
    "\n",
    "for c in cols_count_unique:\n",
    "    df.select(F.count_distinct(c)).show() "
   ]
  },
  {
   "cell_type": "code",
   "execution_count": 10,
   "metadata": {},
   "outputs": [
    {
     "name": "stdout",
     "output_type": "stream",
     "text": [
      "Show unique values in:\n",
      "+----------+--------+\n",
      "|event_type|   count|\n",
      "+----------+--------+\n",
      "|  purchase|  916939|\n",
      "|      view|63556110|\n",
      "|      cart| 3028930|\n",
      "+----------+--------+\n",
      "\n",
      "+----------+-----+\n",
      "|product_id|count|\n",
      "+----------+-----+\n",
      "|   1004739|79375|\n",
      "|   2702332| 5386|\n",
      "|  29100052| 1138|\n",
      "|  16700154|   55|\n",
      "|   1005158|64413|\n",
      "|   3701000| 2186|\n",
      "|   1004666| 4503|\n",
      "|   1480743| 1807|\n",
      "|   1801530|  698|\n",
      "|  17200699| 2983|\n",
      "|  28707967|   37|\n",
      "|  15600022|  987|\n",
      "|  13105408|   48|\n",
      "|  28714713|   44|\n",
      "|  17200615|  120|\n",
      "|   9200512|  162|\n",
      "|  12707478| 1237|\n",
      "|  11700322|  793|\n",
      "|  48300076|  621|\n",
      "|  12704749|  784|\n",
      "+----------+-----+\n",
      "only showing top 20 rows\n",
      "\n",
      "+-------------------+--------+\n",
      "|        category_id|   count|\n",
      "+-------------------+--------+\n",
      "|2053013563944993659|  160932|\n",
      "|2053013566209917945|  159193|\n",
      "|2053013561554240247|   73429|\n",
      "|2145727399348666855|    4069|\n",
      "|2060237588744111062|    4038|\n",
      "|2098563460336976001|    1619|\n",
      "|2053013564968403895|   31380|\n",
      "|2095518906859913319|   23491|\n",
      "|2134905039313961849|   11990|\n",
      "|2053013552737812719|    8708|\n",
      "|2136389353511846005|    1127|\n",
      "|2053013561747178243|    5999|\n",
      "|2138568472580325973|    2980|\n",
      "|2145727308156108933|     290|\n",
      "|2173216765583032544|   20123|\n",
      "|2053013555380224399|   49363|\n",
      "|2053013563139687243|   72292|\n",
      "|2090971680481476652|    1616|\n",
      "|2053013557737423389|     503|\n",
      "|2053013555631882655|16375000|\n",
      "+-------------------+--------+\n",
      "only showing top 20 rows\n",
      "\n",
      "+--------------------+-------+\n",
      "|       category_code|  count|\n",
      "+--------------------+-------+\n",
      "|    computers.ebooks|  48065|\n",
      "|apparel.shoes.sli...|   5613|\n",
      "|computers.periphe...|  88325|\n",
      "|electronics.video...|  22940|\n",
      "|appliances.kitche...|  18906|\n",
      "|     sport.snowboard|  17936|\n",
      "|electronics.camer...|  65828|\n",
      "|       apparel.shirt|  51095|\n",
      "|appliances.kitche...| 160932|\n",
      "|electronics.audio...|1816877|\n",
      "|appliances.kitche...|  75128|\n",
      "|  electronics.tablet| 492497|\n",
      "|appliances.kitche...| 186212|\n",
      "|auto.accessories....|  49902|\n",
      "|apparel.shoes.moc...|  12525|\n",
      "|       apparel.jeans|  52966|\n",
      "|computers.periphe...| 211342|\n",
      "|furniture.living_...| 551642|\n",
      "| stationery.cartrige|  12778|\n",
      "|furniture.kitchen...| 188721|\n",
      "+--------------------+-------+\n",
      "only showing top 20 rows\n",
      "\n",
      "+-------------+------+\n",
      "|        brand| count|\n",
      "+-------------+------+\n",
      "|     yokohama|128697|\n",
      "|      edifier|  3565|\n",
      "|        welss|  4929|\n",
      "|      tuffoni|  3617|\n",
      "|         tega|  2317|\n",
      "|      serebro|  7105|\n",
      "|        crest|   325|\n",
      "|         tmnt|   574|\n",
      "|       alutec|  2587|\n",
      "|        sonel| 11501|\n",
      "|     nocnezna|   250|\n",
      "|     nutricia|  2496|\n",
      "|      bombbar|   852|\n",
      "|trianglegroup|    97|\n",
      "|      keenway|  2368|\n",
      "|        sigma|  2424|\n",
      "|        goo.n|  1031|\n",
      "|      fitwell|   532|\n",
      "| belaakalitva|   218|\n",
      "|       marley|  1063|\n",
      "+-------------+------+\n",
      "only showing top 20 rows\n",
      "\n",
      "+---------+-----+\n",
      "|  user_id|count|\n",
      "+---------+-----+\n",
      "|537931532|   79|\n",
      "|520551216|    6|\n",
      "|545107896|   63|\n",
      "|566284428|   22|\n",
      "|513994480|   32|\n",
      "|545763418|   34|\n",
      "|538475134|   92|\n",
      "|566285354|    4|\n",
      "|516351013|   46|\n",
      "|562666658|   29|\n",
      "|526205056|   52|\n",
      "|512366675|   44|\n",
      "|565689309|   15|\n",
      "|566286583|    3|\n",
      "|513266555|  567|\n",
      "|560318671|    1|\n",
      "|562452237|  157|\n",
      "|513216657|   65|\n",
      "|563233634|    1|\n",
      "|513595928|   15|\n",
      "+---------+-----+\n",
      "only showing top 20 rows\n",
      "\n"
     ]
    }
   ],
   "source": [
    "cols_show_unique = ['event_type', 'brand', 'category_code']\n",
    "print(\"Show unique values in:\")\n",
    "\n",
    "for c in cols_count_unique:\n",
    "    df.groupBy(c).count().show()"
   ]
  }
 ],
 "metadata": {
  "kernelspec": {
   "display_name": "bigData",
   "language": "python",
   "name": "python3"
  },
  "language_info": {
   "codemirror_mode": {
    "name": "ipython",
    "version": 3
   },
   "file_extension": ".py",
   "mimetype": "text/x-python",
   "name": "python",
   "nbconvert_exporter": "python",
   "pygments_lexer": "ipython3",
   "version": "3.10.13"
  }
 },
 "nbformat": 4,
 "nbformat_minor": 2
}
