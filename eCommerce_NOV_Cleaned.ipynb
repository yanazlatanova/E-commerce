{
 "cells": [
  {
   "cell_type": "code",
   "execution_count": 1,
   "metadata": {},
   "outputs": [
    {
     "name": "stdout",
     "output_type": "stream",
     "text": [
      "C:\\Users\\jasmi\\.conda\\envs\\bigData\\Lib\\site-packages\\pyspark\n"
     ]
    }
   ],
   "source": [
    "from pyspark.find_spark_home import _find_spark_home\n",
    "from pyspark.sql import SparkSession\n",
    "from pyspark import SparkConf, StorageLevel\n",
    "import pyspark.sql.functions as F\n",
    "import os\n",
    "\n",
    "from dotenv import load_dotenv\n",
    "load_dotenv()\n",
    "\n",
    "print(_find_spark_home())"
   ]
  },
  {
   "cell_type": "code",
   "execution_count": 2,
   "metadata": {},
   "outputs": [],
   "source": [
    "python_path = os.environ.get('PYTHON_PATH')\n",
    "app_name_nov = os.environ.get('APP_NAME_NOV')\n",
    "hadoop_path_nov = os.environ.get('HADOOP_NOV_DATASET_PATH')"
   ]
  },
  {
   "cell_type": "code",
   "execution_count": 3,
   "metadata": {},
   "outputs": [
    {
     "name": "stdout",
     "output_type": "stream",
     "text": [
      "('spark.dynamicAllocation.minExecutors', '1')\n",
      "('spark.app.id', 'local-1702903859227')\n",
      "('spark.shuffle.service.enabled', 'true')\n",
      "('spark.driver.memory', '4g')\n",
      "('spark.executor.memory', '4g')\n",
      "('spark.driver.host', '194.47.40.208')\n",
      "('spark.dynamicAllocation.maxExecutors', '10')\n",
      "('spark.pyspark.python', 'C:/Users/jasmi/.conda/envs/bigData/python.exe')\n",
      "('spark.executor.id', 'driver')\n",
      "('spark.app.startTime', '1702903857782')\n",
      "('spark.driver.port', '61786')\n",
      "('spark.driver.extraJavaOptions', '-Djava.net.preferIPv6Addresses=false -XX:+IgnoreUnrecognizedVMOptions --add-opens=java.base/java.lang=ALL-UNNAMED --add-opens=java.base/java.lang.invoke=ALL-UNNAMED --add-opens=java.base/java.lang.reflect=ALL-UNNAMED --add-opens=java.base/java.io=ALL-UNNAMED --add-opens=java.base/java.net=ALL-UNNAMED --add-opens=java.base/java.nio=ALL-UNNAMED --add-opens=java.base/java.util=ALL-UNNAMED --add-opens=java.base/java.util.concurrent=ALL-UNNAMED --add-opens=java.base/java.util.concurrent.atomic=ALL-UNNAMED --add-opens=java.base/sun.nio.ch=ALL-UNNAMED --add-opens=java.base/sun.nio.cs=ALL-UNNAMED --add-opens=java.base/sun.security.action=ALL-UNNAMED --add-opens=java.base/sun.util.calendar=ALL-UNNAMED --add-opens=java.security.jgss/sun.security.krb5=ALL-UNNAMED -Djdk.reflect.useDirectMethodHandle=false')\n",
      "('spark.app.submitTime', '1702903857491')\n",
      "('spark.network.timeout', '800s')\n",
      "('spark.rdd.compress', 'True')\n",
      "('spark-local-dir', 'C:\\\\spark-temp')\n",
      "('spark.serializer.objectStreamReset', '100')\n",
      "('spark.driver.maxResultSize', '2g')\n",
      "('spark.master', 'local[*]')\n",
      "('spark.submit.pyFiles', '')\n",
      "('spark.dynamicAllocation.executorIdleTimeout', '60s')\n",
      "('spark.submit.deployMode', 'client')\n",
      "('spark.dynamicAllocation.enabled', 'true')\n",
      "('spark.pyspark.driver.python', 'C:/Users/jasmi/.conda/envs/bigData/python.exe')\n",
      "('spark.ui.showConsoleProgress', 'true')\n",
      "('spark.executor.extraJavaOptions', '-Djava.net.preferIPv6Addresses=false -XX:+IgnoreUnrecognizedVMOptions --add-opens=java.base/java.lang=ALL-UNNAMED --add-opens=java.base/java.lang.invoke=ALL-UNNAMED --add-opens=java.base/java.lang.reflect=ALL-UNNAMED --add-opens=java.base/java.io=ALL-UNNAMED --add-opens=java.base/java.net=ALL-UNNAMED --add-opens=java.base/java.nio=ALL-UNNAMED --add-opens=java.base/java.util=ALL-UNNAMED --add-opens=java.base/java.util.concurrent=ALL-UNNAMED --add-opens=java.base/java.util.concurrent.atomic=ALL-UNNAMED --add-opens=java.base/sun.nio.ch=ALL-UNNAMED --add-opens=java.base/sun.nio.cs=ALL-UNNAMED --add-opens=java.base/sun.security.action=ALL-UNNAMED --add-opens=java.base/sun.util.calendar=ALL-UNNAMED --add-opens=java.security.jgss/sun.security.krb5=ALL-UNNAMED -Djdk.reflect.useDirectMethodHandle=false')\n",
      "('spark.app.name', 'november_data')\n"
     ]
    }
   ],
   "source": [
    "conf = SparkConf()\\\n",
    "    .setMaster('local[*]')\\\n",
    "    .set('spark-local-dir', \"C:\\\\spark-temp\")\\\n",
    "    .set('spark.driver.memory', '4g')\\\n",
    "    .set('spark.executor.memory', '4g')\\\n",
    "    .set('spark.driver.maxResultSize', '2g')\\\n",
    "    .set('spark.pyspark.python', python_path)\\\n",
    "    .set('spark.pyspark.driver.python', python_path)\\\n",
    "    .set(\"spark.network.timeout\",\"800s\")\\\n",
    "    .set(\"spark.dynamicAllocation.enabled\", \"true\")\\\n",
    "    .set(\"spark.shuffle.service.enabled\", \"true\")\\\n",
    "    .set(\"spark.dynamicAllocation.minExecutors\", \"1\")\\\n",
    "    .set(\"spark.dynamicAllocation.maxExecutors\", \"10\")\\\n",
    "    .set(\"spark.dynamicAllocation.executorIdleTimeout\", \"60s\")\\\n",
    "\n",
    "spark = SparkSession.builder.appName(app_name_nov).config(conf=conf).getOrCreate()\n",
    "sc = spark.sparkContext\n",
    "\n",
    "for item in sc.getConf().getAll(): print(item)"
   ]
  },
  {
   "cell_type": "code",
   "execution_count": 4,
   "metadata": {},
   "outputs": [
    {
     "name": "stdout",
     "output_type": "stream",
     "text": [
      "+-------------------+----------+----------+-------------------+--------------------+--------+------+---------+--------------------+\n",
      "|         event_time|event_type|product_id|        category_id|       category_code|   brand| price|  user_id|        user_session|\n",
      "+-------------------+----------+----------+-------------------+--------------------+--------+------+---------+--------------------+\n",
      "|2019-11-01 01:00:00|      view|   1003461|2053013555631882655|electronics.smart...|  xiaomi|489.07|520088904|4d3b30da-a5e4-49d...|\n",
      "|2019-11-01 01:00:00|      view|   5000088|2053013566100866035|appliances.sewing...|  janome|293.65|530496790|8e5f4f83-366c-4f7...|\n",
      "|2019-11-01 01:00:01|      view|  17302664|2053013553853497655|                null|   creed| 28.31|561587266|755422e7-9040-477...|\n",
      "|2019-11-01 01:00:01|      view|   3601530|2053013563810775923|appliances.kitche...|      lg|712.87|518085591|3bfb58cd-7892-48c...|\n",
      "|2019-11-01 01:00:01|      view|   1004775|2053013555631882655|electronics.smart...|  xiaomi|183.27|558856683|313628f1-68b8-460...|\n",
      "|2019-11-01 01:00:01|      view|   1306894|2053013558920217191|  computers.notebook|      hp|360.09|520772685|816a59f3-f5ae-4cc...|\n",
      "|2019-11-01 01:00:01|      view|   1306421|2053013558920217191|  computers.notebook|      hp|514.56|514028527|df8184cc-3694-454...|\n",
      "|2019-11-01 01:00:02|      view|  15900065|2053013558190408249|                null| rondell| 30.86|518574284|5e6ef132-4d7c-473...|\n",
      "|2019-11-01 01:00:02|      view|  12708937|2053013553559896355|                null|michelin| 72.72|532364121|0a899268-31eb-46d...|\n",
      "|2019-11-01 01:00:02|      view|   1004258|2053013555631882655|electronics.smart...|   apple|732.07|532647354|d2d3d2c6-631d-489...|\n",
      "|2019-11-01 01:00:03|      view|  17200570|2053013559792632471|furniture.living_...|    null|437.33|518780843|aa806835-b14c-45a...|\n",
      "|2019-11-01 01:00:03|      view|   2701517|2053013563911439225|appliances.kitche...|    null|155.11|518427361|c89b0d96-247f-404...|\n",
      "|2019-11-01 01:00:03|      view|  16700260|2053013559901684381|furniture.kitchen...|    null| 31.64|566255262|173d7b72-1db7-463...|\n",
      "|2019-11-01 01:00:04|      view|  34600011|2060981320581906480|                null|    null| 20.54|512416379|4dfe2c67-e537-4dc...|\n",
      "|2019-11-01 01:00:05|      view|   4600658|2053013563944993659|appliances.kitche...| samsung|411.83|526595547|aab33a9a-29c3-4d5...|\n",
      "|2019-11-01 01:00:06|      view|  24900193|2053013562183385881|                null|    null|  1.09|512651494|f603c815-f51a-46f...|\n",
      "|2019-11-01 01:00:07|      view|  27400066|2053013563391345499|                null|    null|  8.55|551061950|3f6112f1-5695-4e8...|\n",
      "|2019-11-01 01:00:07|      view|   5100503|2053013553375346967|                null|  xiaomi| 22.68|520037415|f54fa96a-f3f2-43a...|\n",
      "|2019-11-01 01:00:07|      view|   1004566|2053013555631882655|electronics.smart...|  huawei|164.84|566265908|52c2c76c-b79e-479...|\n",
      "|2019-11-01 01:00:08|      view|   1307115|2053013558920217191|  computers.notebook|      hp|411.59|514028527|df8184cc-3694-454...|\n",
      "+-------------------+----------+----------+-------------------+--------------------+--------+------+---------+--------------------+\n",
      "only showing top 20 rows\n",
      "\n"
     ]
    }
   ],
   "source": [
    "df = spark.read.csv(hadoop_path_nov, header = True, inferSchema = True)\n",
    "df.show()"
   ]
  },
  {
   "cell_type": "code",
   "execution_count": 5,
   "metadata": {},
   "outputs": [
    {
     "name": "stdout",
     "output_type": "stream",
     "text": [
      "+---+-------------------+----------+----------+-------------------+--------------------+--------+------+---------+--------------------+\n",
      "| id|         event_time|event_type|product_id|        category_id|       category_code|   brand| price|  user_id|        user_session|\n",
      "+---+-------------------+----------+----------+-------------------+--------------------+--------+------+---------+--------------------+\n",
      "|  0|2019-11-01 01:00:00|      view|   1003461|2053013555631882655|electronics.smart...|  xiaomi|489.07|520088904|4d3b30da-a5e4-49d...|\n",
      "|  1|2019-11-01 01:00:00|      view|   5000088|2053013566100866035|appliances.sewing...|  janome|293.65|530496790|8e5f4f83-366c-4f7...|\n",
      "|  2|2019-11-01 01:00:01|      view|  17302664|2053013553853497655|                null|   creed| 28.31|561587266|755422e7-9040-477...|\n",
      "|  3|2019-11-01 01:00:01|      view|   3601530|2053013563810775923|appliances.kitche...|      lg|712.87|518085591|3bfb58cd-7892-48c...|\n",
      "|  4|2019-11-01 01:00:01|      view|   1004775|2053013555631882655|electronics.smart...|  xiaomi|183.27|558856683|313628f1-68b8-460...|\n",
      "|  5|2019-11-01 01:00:01|      view|   1306894|2053013558920217191|  computers.notebook|      hp|360.09|520772685|816a59f3-f5ae-4cc...|\n",
      "|  6|2019-11-01 01:00:01|      view|   1306421|2053013558920217191|  computers.notebook|      hp|514.56|514028527|df8184cc-3694-454...|\n",
      "|  7|2019-11-01 01:00:02|      view|  15900065|2053013558190408249|                null| rondell| 30.86|518574284|5e6ef132-4d7c-473...|\n",
      "|  8|2019-11-01 01:00:02|      view|  12708937|2053013553559896355|                null|michelin| 72.72|532364121|0a899268-31eb-46d...|\n",
      "|  9|2019-11-01 01:00:02|      view|   1004258|2053013555631882655|electronics.smart...|   apple|732.07|532647354|d2d3d2c6-631d-489...|\n",
      "| 10|2019-11-01 01:00:03|      view|  17200570|2053013559792632471|furniture.living_...|    null|437.33|518780843|aa806835-b14c-45a...|\n",
      "| 11|2019-11-01 01:00:03|      view|   2701517|2053013563911439225|appliances.kitche...|    null|155.11|518427361|c89b0d96-247f-404...|\n",
      "| 12|2019-11-01 01:00:03|      view|  16700260|2053013559901684381|furniture.kitchen...|    null| 31.64|566255262|173d7b72-1db7-463...|\n",
      "| 13|2019-11-01 01:00:04|      view|  34600011|2060981320581906480|                null|    null| 20.54|512416379|4dfe2c67-e537-4dc...|\n",
      "| 14|2019-11-01 01:00:05|      view|   4600658|2053013563944993659|appliances.kitche...| samsung|411.83|526595547|aab33a9a-29c3-4d5...|\n",
      "| 15|2019-11-01 01:00:06|      view|  24900193|2053013562183385881|                null|    null|  1.09|512651494|f603c815-f51a-46f...|\n",
      "| 16|2019-11-01 01:00:07|      view|  27400066|2053013563391345499|                null|    null|  8.55|551061950|3f6112f1-5695-4e8...|\n",
      "| 17|2019-11-01 01:00:07|      view|   5100503|2053013553375346967|                null|  xiaomi| 22.68|520037415|f54fa96a-f3f2-43a...|\n",
      "| 18|2019-11-01 01:00:07|      view|   1004566|2053013555631882655|electronics.smart...|  huawei|164.84|566265908|52c2c76c-b79e-479...|\n",
      "| 19|2019-11-01 01:00:08|      view|   1307115|2053013558920217191|  computers.notebook|      hp|411.59|514028527|df8184cc-3694-454...|\n",
      "+---+-------------------+----------+----------+-------------------+--------------------+--------+------+---------+--------------------+\n",
      "only showing top 20 rows\n",
      "\n"
     ]
    }
   ],
   "source": [
    "df_index = df.select('*').withColumn('id', F.monotonically_increasing_id())\n",
    "column_names = ['id'] + [col for col in df.columns]\n",
    "\n",
    "df_index_first = df_index.select(column_names)\n",
    "df_index_first.show()"
   ]
  },
  {
   "cell_type": "code",
   "execution_count": 6,
   "metadata": {},
   "outputs": [
    {
     "name": "stdout",
     "output_type": "stream",
     "text": [
      "+---+-------------------+----------+--------------------+--------+------+---------+\n",
      "| id|         event_time|event_type|       category_code|   brand| price|  user_id|\n",
      "+---+-------------------+----------+--------------------+--------+------+---------+\n",
      "|  0|2019-11-01 01:00:00|      view|electronics.smart...|  xiaomi|489.07|520088904|\n",
      "|  1|2019-11-01 01:00:00|      view|appliances.sewing...|  janome|293.65|530496790|\n",
      "|  2|2019-11-01 01:00:01|      view|                null|   creed| 28.31|561587266|\n",
      "|  3|2019-11-01 01:00:01|      view|appliances.kitche...|      lg|712.87|518085591|\n",
      "|  4|2019-11-01 01:00:01|      view|electronics.smart...|  xiaomi|183.27|558856683|\n",
      "|  5|2019-11-01 01:00:01|      view|  computers.notebook|      hp|360.09|520772685|\n",
      "|  6|2019-11-01 01:00:01|      view|  computers.notebook|      hp|514.56|514028527|\n",
      "|  7|2019-11-01 01:00:02|      view|                null| rondell| 30.86|518574284|\n",
      "|  8|2019-11-01 01:00:02|      view|                null|michelin| 72.72|532364121|\n",
      "|  9|2019-11-01 01:00:02|      view|electronics.smart...|   apple|732.07|532647354|\n",
      "| 10|2019-11-01 01:00:03|      view|furniture.living_...|    null|437.33|518780843|\n",
      "| 11|2019-11-01 01:00:03|      view|appliances.kitche...|    null|155.11|518427361|\n",
      "| 12|2019-11-01 01:00:03|      view|furniture.kitchen...|    null| 31.64|566255262|\n",
      "| 13|2019-11-01 01:00:04|      view|                null|    null| 20.54|512416379|\n",
      "| 14|2019-11-01 01:00:05|      view|appliances.kitche...| samsung|411.83|526595547|\n",
      "| 15|2019-11-01 01:00:06|      view|                null|    null|  1.09|512651494|\n",
      "| 16|2019-11-01 01:00:07|      view|                null|    null|  8.55|551061950|\n",
      "| 17|2019-11-01 01:00:07|      view|                null|  xiaomi| 22.68|520037415|\n",
      "| 18|2019-11-01 01:00:07|      view|electronics.smart...|  huawei|164.84|566265908|\n",
      "| 19|2019-11-01 01:00:08|      view|  computers.notebook|      hp|411.59|514028527|\n",
      "+---+-------------------+----------+--------------------+--------+------+---------+\n",
      "only showing top 20 rows\n",
      "\n"
     ]
    }
   ],
   "source": [
    "df_new = df_index_first.drop('user_session', 'product_id','category_id')\n",
    "df_new.show()"
   ]
  },
  {
   "cell_type": "code",
   "execution_count": 7,
   "metadata": {},
   "outputs": [
    {
     "name": "stdout",
     "output_type": "stream",
     "text": [
      "+---+-------------------+----------+--------------------+-------+------+---------+\n",
      "| id|         event_time|event_type|       category_code|  brand| price|  user_id|\n",
      "+---+-------------------+----------+--------------------+-------+------+---------+\n",
      "|  0|2019-11-01 01:00:00|      view|electronics.smart...| xiaomi|489.07|520088904|\n",
      "|  1|2019-11-01 01:00:00|      view|appliances.sewing...| janome|293.65|530496790|\n",
      "|  3|2019-11-01 01:00:01|      view|appliances.kitche...|     lg|712.87|518085591|\n",
      "|  4|2019-11-01 01:00:01|      view|electronics.smart...| xiaomi|183.27|558856683|\n",
      "|  5|2019-11-01 01:00:01|      view|  computers.notebook|     hp|360.09|520772685|\n",
      "|  6|2019-11-01 01:00:01|      view|  computers.notebook|     hp|514.56|514028527|\n",
      "|  9|2019-11-01 01:00:02|      view|electronics.smart...|  apple|732.07|532647354|\n",
      "| 14|2019-11-01 01:00:05|      view|appliances.kitche...|samsung|411.83|526595547|\n",
      "| 18|2019-11-01 01:00:07|      view|electronics.smart...| huawei|164.84|566265908|\n",
      "| 19|2019-11-01 01:00:08|      view|  computers.notebook|     hp|411.59|514028527|\n",
      "| 21|2019-11-01 01:00:08|      view|electronics.smart...| huawei|151.99|566143627|\n",
      "| 27|2019-11-01 01:00:10|      view|electronics.smart...|  apple|949.47|562079864|\n",
      "| 28|2019-11-01 01:00:10|      view|  computers.notebook|   acer|514.79|513741043|\n",
      "| 29|2019-11-01 01:00:11|      view|  computers.notebook|   asus|360.34|520772685|\n",
      "| 31|2019-11-01 01:00:12|      view|furniture.kitchen...|   nika| 47.77|566255262|\n",
      "| 37|2019-11-01 01:00:13|      view|electronics.audio...|   acme| 69.24|565731881|\n",
      "| 38|2019-11-01 01:00:13|      view|appliances.enviro...|  tefal|108.09|566278257|\n",
      "| 39|2019-11-01 01:00:14|      view|electronics.smart...|  apple|458.28|549256216|\n",
      "| 40|2019-11-01 01:00:14|      cart|electronics.smart...|samsung|503.09|533326659|\n",
      "| 43|2019-11-01 01:00:15|      view|appliances.enviro...|  oasis| 32.66|513200477|\n",
      "+---+-------------------+----------+--------------------+-------+------+---------+\n",
      "only showing top 20 rows\n",
      "\n"
     ]
    }
   ],
   "source": [
    "df_new = df_new.dropna()\n",
    "df_new.show()"
   ]
  },
  {
   "cell_type": "code",
   "execution_count": 8,
   "metadata": {},
   "outputs": [
    {
     "name": "stdout",
     "output_type": "stream",
     "text": [
      "Null values present in:\n",
      "category_code: 0\n",
      "brand: 0\n"
     ]
    }
   ],
   "source": [
    "print(\"Null values present in:\")\n",
    "for c in [\"category_code\", \"brand\"]:\n",
    "    print(c +':', df_new.where(F.col(c).isNull()).count())"
   ]
  },
  {
   "cell_type": "code",
   "execution_count": 9,
   "metadata": {},
   "outputs": [
    {
     "name": "stdout",
     "output_type": "stream",
     "text": [
      "Total number of rows: 42,089,570\n"
     ]
    }
   ],
   "source": [
    "count = df_new.count()\n",
    "print(f\"Total number of rows: {count:,d}\")"
   ]
  },
  {
   "cell_type": "code",
   "execution_count": 10,
   "metadata": {},
   "outputs": [],
   "source": [
    "save_path = hadoop_path_nov + '/selected_Data/' \n",
    "\n",
    "df_new.repartition(8).write.mode('overwrite').option('header','true').csv(save_path)\n",
    "spark.stop()"
   ]
  }
 ],
 "metadata": {
  "kernelspec": {
   "display_name": "Bigdata",
   "language": "python",
   "name": "python3"
  },
  "language_info": {
   "codemirror_mode": {
    "name": "ipython",
    "version": 3
   },
   "file_extension": ".py",
   "mimetype": "text/x-python",
   "name": "python",
   "nbconvert_exporter": "python",
   "pygments_lexer": "ipython3",
   "version": "3.10.13"
  }
 },
 "nbformat": 4,
 "nbformat_minor": 2
}
