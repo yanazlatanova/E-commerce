{
 "cells": [
  {
   "cell_type": "markdown",
   "metadata": {},
   "source": [
    "Predict whether a user who views or adds a product to the cart will proceed to purchase it."
   ]
  },
  {
   "cell_type": "code",
   "execution_count": 7,
   "metadata": {},
   "outputs": [
    {
     "name": "stdout",
     "output_type": "stream",
     "text": [
      "C:\\Users\\anama\\anaconda3\\envs\\Bigdata\\Lib\\site-packages\\pyspark\n"
     ]
    }
   ],
   "source": [
    "from pyspark.ml import Pipeline\n",
    "from pyspark.ml.classification import LogisticRegression\n",
    "from pyspark.ml.feature import StringIndexer, VectorAssembler, StandardScaler, OneHotEncoder\n",
    "from pyspark.ml.evaluation import BinaryClassificationEvaluator\n",
    "from pyspark.find_spark_home import _find_spark_home\n",
    "from pyspark.sql import SparkSession\n",
    "from pyspark import SparkConf, StorageLevel\n",
    "import pyspark.sql.functions as F\n",
    "import os\n",
    "from pyspark.sql.functions import col, count, isnan\n",
    "from pyspark.sql.functions import when\n",
    "\n",
    "from dotenv import load_dotenv\n",
    "load_dotenv()\n",
    "\n",
    "print(_find_spark_home())"
   ]
  },
  {
   "cell_type": "code",
   "execution_count": 8,
   "metadata": {},
   "outputs": [],
   "source": [
    "python_path = os.environ.get('PYTHON_PATH')\n",
    "app_name = os.environ.get('APP_NAME')\n",
    "hadoop_path_dec = os.environ.get('HADOOP_DEC_DATASET_PATH')\n",
    "hadoop_path_nov = os.environ.get('HADOOP_NOV_DATASET_PATH')"
   ]
  },
  {
   "cell_type": "code",
   "execution_count": 9,
   "metadata": {},
   "outputs": [
    {
     "name": "stdout",
     "output_type": "stream",
     "text": [
      "('spark.dynamicAllocation.minExecutors', '1')\n",
      "('spark.driver.memory', '4g')\n",
      "('spark.dynamicAllocation.maxExecutors', '10')\n",
      "('spark.driver.host', 'BOOK-G6MUSCB12M.local')\n",
      "('spark.driver.extraJavaOptions', '-Djava.net.preferIPv6Addresses=false -XX:+IgnoreUnrecognizedVMOptions --add-opens=java.base/java.lang=ALL-UNNAMED --add-opens=java.base/java.lang.invoke=ALL-UNNAMED --add-opens=java.base/java.lang.reflect=ALL-UNNAMED --add-opens=java.base/java.io=ALL-UNNAMED --add-opens=java.base/java.net=ALL-UNNAMED --add-opens=java.base/java.nio=ALL-UNNAMED --add-opens=java.base/java.util=ALL-UNNAMED --add-opens=java.base/java.util.concurrent=ALL-UNNAMED --add-opens=java.base/java.util.concurrent.atomic=ALL-UNNAMED --add-opens=java.base/sun.nio.ch=ALL-UNNAMED --add-opens=java.base/sun.nio.cs=ALL-UNNAMED --add-opens=java.base/sun.security.action=ALL-UNNAMED --add-opens=java.base/sun.util.calendar=ALL-UNNAMED --add-opens=java.security.jgss/sun.security.krb5=ALL-UNNAMED -Djdk.reflect.useDirectMethodHandle=false')\n",
      "('spark.driver.port', '60301')\n",
      "('spark-local-dir', 'C:\\\\spark-temp')\n",
      "('spark.serializer.objectStreamReset', '100')\n",
      "('spark.pyspark.driver.python', 'C:\\\\\\\\Users\\\\\\\\anama\\\\\\\\anaconda3\\\\\\\\envs\\\\\\\\Bigdata\\\\\\\\python.exe')\n",
      "('spark.master', 'local[*]')\n",
      "('spark.dynamicAllocation.executorIdleTimeout', '60s')\n",
      "('spark.submit.deployMode', 'client')\n",
      "('spark.app.id', 'local-1703595597601')\n",
      "('spark.executor.extraJavaOptions', '-Djava.net.preferIPv6Addresses=false -XX:+IgnoreUnrecognizedVMOptions --add-opens=java.base/java.lang=ALL-UNNAMED --add-opens=java.base/java.lang.invoke=ALL-UNNAMED --add-opens=java.base/java.lang.reflect=ALL-UNNAMED --add-opens=java.base/java.io=ALL-UNNAMED --add-opens=java.base/java.net=ALL-UNNAMED --add-opens=java.base/java.nio=ALL-UNNAMED --add-opens=java.base/java.util=ALL-UNNAMED --add-opens=java.base/java.util.concurrent=ALL-UNNAMED --add-opens=java.base/java.util.concurrent.atomic=ALL-UNNAMED --add-opens=java.base/sun.nio.ch=ALL-UNNAMED --add-opens=java.base/sun.nio.cs=ALL-UNNAMED --add-opens=java.base/sun.security.action=ALL-UNNAMED --add-opens=java.base/sun.util.calendar=ALL-UNNAMED --add-opens=java.security.jgss/sun.security.krb5=ALL-UNNAMED -Djdk.reflect.useDirectMethodHandle=false')\n",
      "('spark.pyspark.python', 'C:\\\\\\\\Users\\\\\\\\anama\\\\\\\\anaconda3\\\\\\\\envs\\\\\\\\Bigdata\\\\\\\\python.exe')\n",
      "('spark.shuffle.service.enabled', 'true')\n",
      "('spark.executor.memory', '4g')\n",
      "('spark.executor.id', 'driver')\n",
      "('spark.network.timeout', '800s')\n",
      "('spark.app.startTime', '1703595595975')\n",
      "('spark.rdd.compress', 'True')\n",
      "('spark.driver.maxResultSize', '2g')\n",
      "('spark.submit.pyFiles', '')\n",
      "('spark.sql.warehouse.dir', 'file:/C:/Users/anama/Big%20Data/E-commerce/spark-warehouse')\n",
      "('spark.dynamicAllocation.enabled', 'true')\n",
      "('spark.ui.showConsoleProgress', 'true')\n",
      "('spark.app.name', 'ecommerce')\n",
      "('spark.app.submitTime', '1703595595752')\n"
     ]
    }
   ],
   "source": [
    "conf = SparkConf()\\\n",
    "    .setMaster('local[*]')\\\n",
    "    .set('spark-local-dir', \"C:\\\\spark-temp\")\\\n",
    "    .set('spark.driver.memory', '4g')\\\n",
    "    .set('spark.executor.memory', '4g')\\\n",
    "    .set('spark.driver.maxResultSize', '2g')\\\n",
    "    .set('spark.pyspark.python', python_path)\\\n",
    "    .set('spark.pyspark.driver.python', python_path)\\\n",
    "    .set(\"spark.network.timeout\",\"800s\")\\\n",
    "    .set(\"spark.dynamicAllocation.enabled\", \"true\")\\\n",
    "    .set(\"spark.shuffle.service.enabled\", \"true\")\\\n",
    "    .set(\"spark.dynamicAllocation.minExecutors\", \"1\")\\\n",
    "    .set(\"spark.dynamicAllocation.maxExecutors\", \"10\")\\\n",
    "    .set(\"spark.dynamicAllocation.executorIdleTimeout\", \"60s\")\\\n",
    "\n",
    "spark = SparkSession.builder.appName(app_name_dec).config(conf=conf).getOrCreate()\n",
    "sc = spark.sparkContext\n",
    "\n",
    "for item in sc.getConf().getAll(): print(item)"
   ]
  },
  {
   "cell_type": "code",
   "execution_count": 4,
   "metadata": {},
   "outputs": [
    {
     "name": "stdout",
     "output_type": "stream",
     "text": [
      "+------+----------+--------+-------+---------+------------+--------------------+---+\n",
      "|    id|event_type|   brand|  price|  user_id|    category|             product|day|\n",
      "+------+----------+--------+-------+---------+------------+--------------------+---+\n",
      "|664791|      cart|   apple|1436.33|513035930|construction|         tools.light|  1|\n",
      "|376610|      view|   midea| 252.23|512511396|  appliances|kitchen.refrigera...|  1|\n",
      "|546957|      view|   apple| 532.83|560488744|construction|         tools.light|  1|\n",
      "|383524|      view|    akom|   79.8|514686387|   furniture|         bedroom.bed|  1|\n",
      "|276229|      view|    sony|  30.09|514479293|       sport|             bicycle|  1|\n",
      "|897219|      cart|   apple|1621.41|522181460|construction|         tools.light|  1|\n",
      "|390469|      view|    beko| 180.16|570967288|  appliances|      kitchen.washer|  1|\n",
      "|508720|      view|      hp| 567.58|548461791|   computers|             desktop|  1|\n",
      "|519760|      view|starline| 145.18|513621867|     apparel|               shoes|  1|\n",
      "|527309|      view|horizont|  60.58|580116990|   furniture|     bedroom.blanket|  1|\n",
      "|858605|      view|  wonlex|  46.05|522626880|   computers|              ebooks|  1|\n",
      "|445531|      view|     tcl| 166.52|568108980|  appliances|   personal.massager|  1|\n",
      "|687168|      view|   artel| 152.64|515215113|  appliances|   personal.massager|  1|\n",
      "|353802|      cart|     tcl| 166.52|555312955|  appliances|   personal.massager|  1|\n",
      "|545876|      view|  xiaomi|   83.4|577030999|construction|         tools.light|  1|\n",
      "|106157|      view| samsung| 501.92|542478133|  appliances|      kitchen.washer|  1|\n",
      "|455123|      view|  huawei|  79.49|515885512|construction|         tools.light|  1|\n",
      "|318745|      view|    sven|  32.69|527939997|     apparel|              shorts|  1|\n",
      "|493552|      view|     dji|1029.37|563733751|  appliances|      kitchen.toster|  1|\n",
      "|790923|      view|  xiaomi| 457.92|568781854|  appliances|  environment.vacuum|  1|\n",
      "+------+----------+--------+-------+---------+------------+--------------------+---+\n",
      "only showing top 20 rows\n",
      "\n"
     ]
    }
   ],
   "source": [
    "df = spark.read.csv(hadoop_path_dec+'/selected_Data/', header = True, inferSchema = True)\n",
    "df.show()"
   ]
  },
  {
   "cell_type": "code",
   "execution_count": 61,
   "metadata": {},
   "outputs": [],
   "source": [
    "df = df.withColumn(\"is_purchased\", when(df[\"event_type\"] == \"purchase\", 1).otherwise(0))"
   ]
  },
  {
   "cell_type": "code",
   "execution_count": 62,
   "metadata": {},
   "outputs": [],
   "source": [
    "indexer = StringIndexer(inputCol=\"category\", outputCol=\"categoryIndex\")\n",
    "encoder = OneHotEncoder(inputCols=[\"categoryIndex\"], outputCols=[\"categoryVec\"])\n",
    "assembler = VectorAssembler(inputCols=[\"categoryVec\", \"price\", \"day\"], outputCol=\"features\")\n",
    "scaler = StandardScaler(inputCol=\"features\", outputCol=\"scaledFeatures\")\n",
    "lr = LogisticRegression(featuresCol=\"scaledFeatures\", labelCol=\"is_purchased\")"
   ]
  },
  {
   "cell_type": "code",
   "execution_count": 63,
   "metadata": {},
   "outputs": [],
   "source": [
    "pipeline = Pipeline(stages=[indexer, encoder, assembler, scaler, lr])\n"
   ]
  },
  {
   "cell_type": "code",
   "execution_count": 64,
   "metadata": {},
   "outputs": [],
   "source": [
    "(train, test) = df.randomSplit([0.8, 0.2])"
   ]
  },
  {
   "cell_type": "code",
   "execution_count": 65,
   "metadata": {},
   "outputs": [],
   "source": [
    "model = pipeline.fit(train)"
   ]
  },
  {
   "cell_type": "code",
   "execution_count": 68,
   "metadata": {},
   "outputs": [
    {
     "name": "stdout",
     "output_type": "stream",
     "text": [
      "+----+----------+--------------+-------+---------+------------+---------------------+---+------------+-------------+---------------+--------------------------------+----------------------------------------------------------------------------+----------------------------------------+-----------------------------------------+----------+\n",
      "|id  |event_type|brand         |price  |user_id  |category    |product              |day|is_purchased|categoryIndex|categoryVec    |features                        |scaledFeatures                                                              |rawPrediction                           |probability                              |prediction|\n",
      "+----+----------+--------------+-------+---------+------------+---------------------+---+------------+-------------+---------------+--------------------------------+----------------------------------------------------------------------------+----------------------------------------+-----------------------------------------+----------+\n",
      "|72  |view      |lucente       |17.76  |549719765|furniture   |bathroom.bath        |1  |0           |5.0          |(12,[5],[1.0]) |(14,[5,12,13],[1.0,17.76,1.0])  |(14,[5,12,13],[4.713823575213923,0.04906655301723691,0.11657313096710806])  |[4.535708137748225,-4.535708137748225]  |[0.9893943712747177,0.010605628725282257]|0.0       |\n",
      "|118 |cart      |polaris       |89.32  |543733099|appliances  |environment.vacuum   |1  |0           |1.0          |(12,[1],[1.0]) |(14,[1,12,13],[1.0,89.32,1.0])  |(14,[1,12,13],[2.4779800485062466,0.24676939839524775,0.11657313096710806]) |[4.3480385665865935,-4.3480385665865935]|[0.9872329521419493,0.012767047858050717]|0.0       |\n",
      "|143 |view      |huawei        |102.71 |577916142|sport       |bicycle              |1  |0           |4.0          |(12,[4],[1.0]) |(14,[4,12,13],[1.0,102.71,1.0]) |(14,[4,12,13],[4.183290726601498,0.28376270610362625,0.11657313096710806])  |[4.027423679968315,-4.027423679968315]  |[0.9824918176304648,0.01750818236953522] |0.0       |\n",
      "|147 |view      |mebelson      |115.29 |579175262|computers   |desktop              |1  |0           |6.0          |(12,[6],[1.0]) |(14,[6,12,13],[1.0,115.29,1.0]) |(14,[6,12,13],[4.748696111274462,0.3185181811575024,0.11657313096710806])   |[4.70376280951734,-4.70376280951734]    |[0.9910202489656906,0.008979751034309369]|0.0       |\n",
      "|152 |view      |samsung       |1029.34|512373946|construction|tools.light          |1  |0           |0.0          |(12,[0],[1.0]) |(14,[0,12,13],[1.0,1029.34,1.0])|(14,[0,12,13],[2.1249948290296157,2.8438156352906887,0.11657313096710806])  |[3.723806058819431,-3.723806058819431]  |[0.9764271854583322,0.02357281454166782] |0.0       |\n",
      "|559 |view      |amd           |150.33 |579968428|apparel     |shoes.step_ins       |1  |0           |2.0          |(12,[2],[1.0]) |(14,[2,12,13],[1.0,150.33,1.0]) |(14,[2,12,13],[2.9313194760465366,0.41532516413745635,0.11657313096710806]) |[4.520961586987073,-4.520961586987073]  |[0.9892385115184137,0.010761488481586312]|0.0       |\n",
      "|580 |view      |xiaomi        |190.61 |579970789|construction|tools.light          |1  |0           |0.0          |(12,[0],[1.0]) |(14,[0,12,13],[1.0,190.61,1.0]) |(14,[0,12,13],[2.1249948290296157,0.526608990462586,0.11657313096710806])   |[3.671136235452813,-3.671136235452813]  |[0.975183967831798,0.02481603216820205]  |0.0       |\n",
      "|606 |view      |samsung       |405.84 |578359478|appliances  |personal.massager    |1  |0           |1.0          |(12,[1],[1.0]) |(14,[1,12,13],[1.0,405.84,1.0]) |(14,[1,12,13],[2.4779800485062466,1.1212370425965892,0.11657313096710806])  |[4.367915109087758,-4.367915109087758]  |[0.9874810660549407,0.012518933945059318]|0.0       |\n",
      "|656 |view      |samsung       |7.44   |548688254|country_yard|cultivator           |1  |0           |10.0         |(12,[10],[1.0])|(14,[10,12,13],[1.0,7.44,1.0])  |(14,[10,12,13],[25.58450126015427,0.020554907345058705,0.11657313096710806])|[4.394885232536606,-4.394885232536606]  |[0.9878101301002741,0.012189869899725925]|0.0       |\n",
      "|690 |view      |conceptclub   |35.78  |553345124|apparel     |dress                |1  |0           |2.0          |(12,[2],[1.0]) |(14,[2,12,13],[1.0,35.78,1.0])  |(14,[2,12,13],[2.9313194760465366,0.09885142268900543,0.11657313096710806]) |[4.5137681775863765,-4.5137681775863765]|[0.9891616626698887,0.010838337330111303]|0.0       |\n",
      "|723 |cart      |samsung       |136.4  |543733099|appliances  |environment.vacuum   |1  |0           |1.0          |(12,[1],[1.0]) |(14,[1,12,13],[1.0,136.4,1.0])  |(14,[1,12,13],[2.4779800485062466,0.37683996799274294,0.11657313096710806]) |[4.350995054710425,-4.350995054710425]  |[0.9872701622389222,0.012729837761077833]|0.0       |\n",
      "|734 |view      |velvet        |146.72 |577138995|apparel     |pajamas              |1  |0           |2.0          |(12,[2],[1.0]) |(14,[2,12,13],[1.0,146.72,1.0]) |(14,[2,12,13],[2.9313194760465366,0.4053516136649211,0.11657313096710806])  |[4.5207348894057855,-4.5207348894057855]|[0.9892360979010858,0.010763902098914202]|0.0       |\n",
      "|774 |view      |samsung       |12.84  |548688254|computers   |notebook             |1  |0           |6.0          |(12,[6],[1.0]) |(14,[6,12,13],[1.0,12.84,1.0])  |(14,[6,12,13],[4.748696111274462,0.03547379170840776,0.11657313096710806])  |[4.697329245195198,-4.697329245195198]  |[0.9909628146989083,0.009037185301091655]|0.0       |\n",
      "|909 |view      |redmond       |61.24  |514875675|sport       |bicycle              |1  |0           |4.0          |(12,[4],[1.0]) |(14,[4,12,13],[1.0,61.24,1.0])  |(14,[4,12,13],[4.183290726601498,0.16919119970583268,0.11657313096710806])  |[4.024819483653633,-4.024819483653633]  |[0.9824469648352127,0.017553035164787345]|0.0       |\n",
      "|937 |view      |velvet        |131.79 |577138995|sport       |bicycle              |1  |0           |4.0          |(12,[4],[1.0]) |(14,[4,12,13],[1.0,131.79,1.0]) |(14,[4,12,13],[4.183290726601498,0.3641036611566245,0.11657313096710806])   |[4.029249820041403,-4.029249820041403]  |[0.9825232025834718,0.01747679741652819] |0.0       |\n",
      "|952 |view      |taller        |27.26  |548139321|construction|tools.generator      |1  |0           |0.0          |(12,[0],[1.0]) |(14,[0,12,13],[1.0,27.26,1.0])  |(14,[0,12,13],[2.1249948290296157,0.07531273847127692,0.11657313096710806]) |[3.6608783268923264,-3.6608783268923264]|[0.9749345106617044,0.025065489338295555]|0.0       |\n",
      "|1004|view      |pulser        |247.08 |517132849|appliances  |kitchen.refrigerators|1  |0           |1.0          |(12,[1],[1.0]) |(14,[1,12,13],[1.0,247.08,1.0]) |(14,[1,12,13],[2.4779800485062466,0.682621842314127,0.11657313096710806])   |[4.357945439280211,-4.357945439280211]  |[0.9873572180220219,0.01264278197797808] |0.0       |\n",
      "|1044|view      |oppo          |437.31 |579969911|construction|tools.light          |1  |0           |0.0          |(12,[0],[1.0]) |(14,[0,12,13],[1.0,437.31,1.0]) |(14,[0,12,13],[2.1249948290296157,1.2081809853585512,0.11657313096710806])  |[3.6866282834593758,-3.6866282834593758]|[0.9755561312893338,0.024443868710666172]|0.0       |\n",
      "|1055|view      |pulser        |247.08 |517132849|appliances  |kitchen.refrigerators|1  |0           |1.0          |(12,[1],[1.0]) |(14,[1,12,13],[1.0,247.08,1.0]) |(14,[1,12,13],[2.4779800485062466,0.682621842314127,0.11657313096710806])   |[4.357945439280211,-4.357945439280211]  |[0.9873572180220219,0.01264278197797808] |0.0       |\n",
      "|1081|view      |audio-technica|47.62  |513558661|sport       |bicycle              |1  |0           |4.0          |(12,[4],[1.0]) |(14,[4,12,13],[1.0,47.62,1.0])  |(14,[4,12,13],[4.183290726601498,0.13156245803383004,0.11657313096710806])  |[4.023964186961904,-4.023964186961904]  |[0.9824322092191635,0.01756779078083648] |0.0       |\n",
      "+----+----------+--------------+-------+---------+------------+---------------------+---+------------+-------------+---------------+--------------------------------+----------------------------------------------------------------------------+----------------------------------------+-----------------------------------------+----------+\n",
      "only showing top 20 rows\n",
      "\n"
     ]
    }
   ],
   "source": [
    "# Assuming 'model' is your fitted pipeline model and 'test' is your dataset\n",
    "transformed_data = model.transform(test)\n",
    "\n",
    "transformed_data.show(truncate=False)\n"
   ]
  },
  {
   "cell_type": "code",
   "execution_count": 66,
   "metadata": {},
   "outputs": [],
   "source": [
    "predictions = model.transform(test)"
   ]
  },
  {
   "cell_type": "code",
   "execution_count": 67,
   "metadata": {},
   "outputs": [
    {
     "name": "stdout",
     "output_type": "stream",
     "text": [
      "Accuracy:  0.6159275035417607\n"
     ]
    }
   ],
   "source": [
    "evaluator = BinaryClassificationEvaluator(labelCol=\"is_purchased\")\n",
    "accuracy = evaluator.evaluate(predictions)\n",
    "print(\"Accuracy: \", accuracy)"
   ]
  },
  {
   "cell_type": "markdown",
   "metadata": {},
   "source": [
    " Predict the likelihood of a user preferring a specific brand"
   ]
  },
  {
   "cell_type": "code",
   "execution_count": 70,
   "metadata": {},
   "outputs": [
    {
     "name": "stdout",
     "output_type": "stream",
     "text": [
      "+---------+---------+-----------------+\n",
      "|  user_id|    brand|interaction_count|\n",
      "+---------+---------+-----------------+\n",
      "|580199883|  samsung|                3|\n",
      "|513104299|      jbl|                1|\n",
      "|562615967|    vitek|                5|\n",
      "|516418740|panasonic|                5|\n",
      "|520237416|    lider|                1|\n",
      "|526036450|     gree|                4|\n",
      "|542361644|   xiaomi|               13|\n",
      "|560140328|    meizu|               15|\n",
      "|513240682|    bosch|                7|\n",
      "|513575107|   dewalt|              112|\n",
      "|537927007|   xiaomi|                6|\n",
      "|523118037|  samsung|               14|\n",
      "|531612957|       jb|                1|\n",
      "|547697192|  philips|                8|\n",
      "|525761373|    apple|                4|\n",
      "|568020125|   birusa|               18|\n",
      "|545610907|    artel|               17|\n",
      "|539398143|    braun|                2|\n",
      "|570380344|  samsung|                7|\n",
      "|516676895| scarlett|                6|\n",
      "+---------+---------+-----------------+\n",
      "only showing top 20 rows\n",
      "\n"
     ]
    }
   ],
   "source": [
    "brand_interaction_count = df.groupBy(\"user_id\", \"brand\").count().withColumnRenamed(\"count\", \"interaction_count\")\n",
    "brand_interaction_count.show()"
   ]
  },
  {
   "cell_type": "code",
   "execution_count": 71,
   "metadata": {},
   "outputs": [
    {
     "name": "stdout",
     "output_type": "stream",
     "text": [
      "+---------+--------+--------------+\n",
      "|  user_id|   brand|purchase_count|\n",
      "+---------+--------+--------------+\n",
      "|526511588| samsung|             2|\n",
      "|580240973|    oppo|             3|\n",
      "|580108945|   apple|             2|\n",
      "|544821740|  xiaomi|             2|\n",
      "|560479699|  huawei|             3|\n",
      "|538718612|  xiaomi|             5|\n",
      "|513829359| carhome|             1|\n",
      "|516228299|   apple|             2|\n",
      "|573944006| samsung|            71|\n",
      "|514032415|    sven|             1|\n",
      "|513195085|defender|             1|\n",
      "|539298497| lucente|             3|\n",
      "|531505750|   apple|             1|\n",
      "|559715715| brateck|             2|\n",
      "|513721454| indesit|             5|\n",
      "|520619833|  xiaomi|             1|\n",
      "|578061599|  rainbo|             4|\n",
      "|535788598|   apple|             3|\n",
      "|522490218| samsung|             1|\n",
      "|581213870|    acer|             3|\n",
      "+---------+--------+--------------+\n",
      "only showing top 20 rows\n",
      "\n"
     ]
    }
   ],
   "source": [
    "brand_purchase_count = df.filter(col(\"event_type\") == \"purchase\").groupBy(\"user_id\", \"brand\").count().withColumnRenamed(\"count\", \"purchase_count\")\n",
    "brand_purchase_count.show()"
   ]
  },
  {
   "cell_type": "code",
   "execution_count": 72,
   "metadata": {},
   "outputs": [
    {
     "name": "stdout",
     "output_type": "stream",
     "text": [
      "+---------+--------+------------+----------+-------+------------+--------------------+---+------------+-----------------+--------------+\n",
      "|  user_id|   brand|          id|event_type|  price|    category|             product|day|is_purchased|interaction_count|purchase_count|\n",
      "+---------+--------+------------+----------+-------+------------+--------------------+---+------------+-----------------+--------------+\n",
      "|512542830| samsung|171798739294|      view| 1158.0|construction|         tools.light| 12|           0|               47|          null|\n",
      "|513238350|  lenovo|171799261463|      view|  252.0| electronics|     audio.headphone| 12|           0|                2|          null|\n",
      "|513439286| neoline|      278641|      view| 411.83| accessories|              wallet|  1|           0|                1|          null|\n",
      "|513751947|   apple|523986081652|      view| 463.07| electronics|              clocks| 28|           0|                9|          null|\n",
      "|513860462| samsung|      625362|      view| 591.75|  appliances|kitchen.refrigera...|  1|           0|                5|          null|\n",
      "|514209644| samsung|      917643|      view| 167.03|construction|         tools.light|  1|           0|                1|          null|\n",
      "|515152247|    oppo|171798775297|      view| 167.06|construction|         tools.light| 12|           0|               33|          null|\n",
      "|515947730| indesit|352188151485|      view| 257.15|  appliances|kitchen.refrigera...| 20|           0|                6|          null|\n",
      "|516149837| samsung|      836942|  purchase|  84.82|construction|         tools.light|  1|           1|                9|             1|\n",
      "|526216393|   apple|171799312436|      view|  31.82|       sport|             bicycle| 12|           0|               22|             1|\n",
      "|527819640|   tefal|352188136556|      view| 102.94|construction|       tools.welding| 20|           0|                1|          null|\n",
      "|528185125|  pituso|       31226|      view|  44.53|       sport|             trainer|  1|           0|                1|          null|\n",
      "|530034970| respect|523986622710|      view|  66.15|     apparel|               shoes| 28|           0|                3|          null|\n",
      "|530915401|   apple|171799200184|      view|1672.89|construction|         tools.light| 12|           0|               23|          null|\n",
      "|546467081| lucente|      246718|      view| 223.17|   computers| peripherals.printer|  1|           0|               93|          null|\n",
      "|547613710|    lego|      322916|      cart|  52.79|   furniture|   living_room.chair|  1|           0|                6|             1|\n",
      "|548461791|      hp|      508720|      view| 567.58|   computers|             desktop|  1|           0|                3|          null|\n",
      "|549132501|scarlett|352188001654|      view| 123.53|  appliances|  environment.vacuum| 20|           0|                1|          null|\n",
      "|554687065|  lenovo|       73835|      view| 590.61| electronics|     audio.headphone|  1|           0|              386|          null|\n",
      "|554983421|     jbl|171799207621|      view| 102.94|       sport|             bicycle| 12|           0|                1|          null|\n",
      "+---------+--------+------------+----------+-------+------------+--------------------+---+------------+-----------------+--------------+\n",
      "only showing top 20 rows\n",
      "\n"
     ]
    }
   ],
   "source": [
    "# Join interaction count back to the original DataFrame\n",
    "df = df.join(brand_interaction_count, [\"user_id\", \"brand\"], \"left\")\n",
    "\n",
    "# Join purchase count back to the original DataFrame\n",
    "df = df.join(brand_purchase_count, [\"user_id\", \"brand\"], \"left\")\n",
    "\n",
    "df.show()"
   ]
  },
  {
   "cell_type": "code",
   "execution_count": 73,
   "metadata": {},
   "outputs": [],
   "source": [
    "df = df.na.fill({'purchase_count': 0})\n"
   ]
  },
  {
   "cell_type": "code",
   "execution_count": null,
   "metadata": {},
   "outputs": [],
   "source": []
  }
 ],
 "metadata": {
  "kernelspec": {
   "display_name": "Bigdata",
   "language": "python",
   "name": "python3"
  },
  "language_info": {
   "codemirror_mode": {
    "name": "ipython",
    "version": 3
   },
   "file_extension": ".py",
   "mimetype": "text/x-python",
   "name": "python",
   "nbconvert_exporter": "python",
   "pygments_lexer": "ipython3",
   "version": "3.11.5"
  }
 },
 "nbformat": 4,
 "nbformat_minor": 2
}
