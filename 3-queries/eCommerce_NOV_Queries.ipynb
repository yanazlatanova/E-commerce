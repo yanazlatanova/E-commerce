{
 "cells": [
  {
   "cell_type": "code",
   "execution_count": 1,
   "metadata": {},
   "outputs": [
    {
     "name": "stdout",
     "output_type": "stream",
     "text": [
      "C:\\Users\\yan4etooo\\anaconda3\\envs\\bigdata\\Lib\\site-packages\\pyspark\n"
     ]
    }
   ],
   "source": [
    "from pyspark.find_spark_home import _find_spark_home\n",
    "from pyspark.sql import SparkSession\n",
    "from pyspark import SparkConf, StorageLevel\n",
    "import pyspark.sql.functions as F\n",
    "import os\n",
    "\n",
    "from dotenv import load_dotenv\n",
    "load_dotenv()\n",
    "\n",
    "print(_find_spark_home())"
   ]
  },
  {
   "cell_type": "code",
   "execution_count": 2,
   "metadata": {},
   "outputs": [],
   "source": [
    "python_path = os.environ.get('PYTHON_PATH')\n",
    "app_name_nov = os.environ.get('APP_NAME_NOV')\n",
    "hadoop_path_nov = os.environ.get('HADOOP_NOV_DATASET_PATH')"
   ]
  },
  {
   "cell_type": "code",
   "execution_count": 3,
   "metadata": {},
   "outputs": [
    {
     "name": "stdout",
     "output_type": "stream",
     "text": [
      "('spark.dynamicAllocation.minExecutors', '1')\n",
      "('spark.shuffle.service.enabled', 'true')\n",
      "('spark.app.startTime', '1703595116539')\n",
      "('spark.driver.memory', '4g')\n",
      "('spark.app.name', 'eCommerce')\n",
      "('spark.executor.memory', '4g')\n",
      "('spark.dynamicAllocation.maxExecutors', '10')\n",
      "('spark.executor.id', 'driver')\n",
      "('spark.driver.port', '55713')\n",
      "('spark.app.submitTime', '1703595116200')\n",
      "('spark.driver.extraJavaOptions', '-Djava.net.preferIPv6Addresses=false -XX:+IgnoreUnrecognizedVMOptions --add-opens=java.base/java.lang=ALL-UNNAMED --add-opens=java.base/java.lang.invoke=ALL-UNNAMED --add-opens=java.base/java.lang.reflect=ALL-UNNAMED --add-opens=java.base/java.io=ALL-UNNAMED --add-opens=java.base/java.net=ALL-UNNAMED --add-opens=java.base/java.nio=ALL-UNNAMED --add-opens=java.base/java.util=ALL-UNNAMED --add-opens=java.base/java.util.concurrent=ALL-UNNAMED --add-opens=java.base/java.util.concurrent.atomic=ALL-UNNAMED --add-opens=java.base/sun.nio.ch=ALL-UNNAMED --add-opens=java.base/sun.nio.cs=ALL-UNNAMED --add-opens=java.base/sun.security.action=ALL-UNNAMED --add-opens=java.base/sun.util.calendar=ALL-UNNAMED --add-opens=java.security.jgss/sun.security.krb5=ALL-UNNAMED -Djdk.reflect.useDirectMethodHandle=false')\n",
      "('spark.network.timeout', '800s')\n",
      "('spark.pyspark.driver.python', 'C:\\\\\\\\Users\\\\yan4etooo\\\\\\\\anaconda3\\\\\\\\envs\\\\\\\\bigdata\\\\\\\\python.exe')\n",
      "('spark.rdd.compress', 'True')\n",
      "('spark-local-dir', 'C:\\\\spark-temp')\n",
      "('spark.driver.host', 'DESKTOP-A3VUQQK')\n",
      "('spark.pyspark.python', 'C:\\\\\\\\Users\\\\yan4etooo\\\\\\\\anaconda3\\\\\\\\envs\\\\\\\\bigdata\\\\\\\\python.exe')\n",
      "('spark.serializer.objectStreamReset', '100')\n",
      "('spark.driver.maxResultSize', '2g')\n",
      "('spark.master', 'local[*]')\n",
      "('spark.submit.pyFiles', '')\n",
      "('spark.dynamicAllocation.executorIdleTimeout', '60s')\n",
      "('spark.submit.deployMode', 'client')\n",
      "('spark.dynamicAllocation.enabled', 'true')\n",
      "('spark.ui.showConsoleProgress', 'true')\n",
      "('spark.app.id', 'local-1703595119167')\n",
      "('spark.executor.extraJavaOptions', '-Djava.net.preferIPv6Addresses=false -XX:+IgnoreUnrecognizedVMOptions --add-opens=java.base/java.lang=ALL-UNNAMED --add-opens=java.base/java.lang.invoke=ALL-UNNAMED --add-opens=java.base/java.lang.reflect=ALL-UNNAMED --add-opens=java.base/java.io=ALL-UNNAMED --add-opens=java.base/java.net=ALL-UNNAMED --add-opens=java.base/java.nio=ALL-UNNAMED --add-opens=java.base/java.util=ALL-UNNAMED --add-opens=java.base/java.util.concurrent=ALL-UNNAMED --add-opens=java.base/java.util.concurrent.atomic=ALL-UNNAMED --add-opens=java.base/sun.nio.ch=ALL-UNNAMED --add-opens=java.base/sun.nio.cs=ALL-UNNAMED --add-opens=java.base/sun.security.action=ALL-UNNAMED --add-opens=java.base/sun.util.calendar=ALL-UNNAMED --add-opens=java.security.jgss/sun.security.krb5=ALL-UNNAMED -Djdk.reflect.useDirectMethodHandle=false')\n"
     ]
    }
   ],
   "source": [
    "conf = SparkConf()\\\n",
    "    .setMaster('local[*]')\\\n",
    "    .set('spark-local-dir', \"C:\\\\spark-temp\")\\\n",
    "    .set('spark.driver.memory', '4g')\\\n",
    "    .set('spark.executor.memory', '4g')\\\n",
    "    .set('spark.driver.maxResultSize', '2g')\\\n",
    "    .set('spark.pyspark.python', python_path)\\\n",
    "    .set('spark.pyspark.driver.python', python_path)\\\n",
    "    .set(\"spark.network.timeout\",\"800s\")\\\n",
    "    .set(\"spark.dynamicAllocation.enabled\", \"true\")\\\n",
    "    .set(\"spark.shuffle.service.enabled\", \"true\")\\\n",
    "    .set(\"spark.dynamicAllocation.minExecutors\", \"1\")\\\n",
    "    .set(\"spark.dynamicAllocation.maxExecutors\", \"10\")\\\n",
    "    .set(\"spark.dynamicAllocation.executorIdleTimeout\", \"60s\")\\\n",
    "\n",
    "spark = SparkSession.builder.appName(app_name_nov).config(conf=conf).getOrCreate()\n",
    "sc = spark.sparkContext\n",
    "\n",
    "for item in sc.getConf().getAll(): print(item)"
   ]
  },
  {
   "cell_type": "code",
   "execution_count": 4,
   "metadata": {},
   "outputs": [
    {
     "name": "stdout",
     "output_type": "stream",
     "text": [
      "+------------+----------+----------+----------+-------+---------+-----------+--------------------+---+\n",
      "|          id|event_type|product_id|     brand|  price|  user_id|   category|             product|day|\n",
      "+------------+----------+----------+----------+-------+---------+-----------+--------------------+---+\n",
      "|403727064801|      view|   1004239|     apple|1413.16|554666475|electronics|          smartphone| 18|\n",
      "| 42950433984|      view|   1004250|     apple| 741.04|527029321|electronics|          smartphone|  4|\n",
      "| 34360364567|      view|   1004886|      oppo| 128.67|543083998|electronics|          smartphone|  4|\n",
      "|360777911454|      view|   1480156|       neo| 666.66|519293476|  computers|             desktop| 17|\n",
      "| 85900085278|      view|   6400162|     intel| 215.58|533512255|  computers|      components.cpu|  7|\n",
      "|180389410990|      view|   1201284|    lenovo| 154.19|570911983|electronics|              tablet| 13|\n",
      "| 17180281985|      view|   3900339|      aqua|  30.86|517565940| appliances|environment.water...|  2|\n",
      "|188978809949|      view|   1005233|    xiaomi| 150.58|571038722|electronics|          smartphone| 13|\n",
      "|      806295|      view|   1004886|      oppo| 128.68|525112784|electronics|          smartphone|  1|\n",
      "|171799174955|      view|   5000184|    janome| 102.11|518743659| appliances|      sewing_machine| 12|\n",
      "|352187793097|      view|   5700838|      sony| 128.68|557676120|       auto|  accessories.player| 17|\n",
      "|103079725363|      view|   6600160|      geil|  42.35|549006713|  computers|   components.memory|  8|\n",
      "|249108860698|      view|   1005280|    huawei| 771.94|530407949|electronics|          smartphone| 15|\n",
      "| 60129999180|      view|   5200128|pocketbook| 254.57|554841741|  computers|              ebooks|  5|\n",
      "|154619617058|      view|   1801555|        lg| 460.84|534110795|electronics|            video.tv| 11|\n",
      "| 25769983763|      view|   1801854|   samsung|1001.05|512932626|electronics|            video.tv|  3|\n",
      "|386547849509|      cart|  21404577|     casio|  33.18|552176832|electronics|              clocks| 18|\n",
      "|197569076943|      view|   4600466|     bosch| 465.51|513301836| appliances|  kitchen.dishwasher| 14|\n",
      "|352187492468|      view|  28717145|    fassen|  44.79|571686198|    apparel|          shoes.keds| 17|\n",
      "|438087547786|      view|   5000691|    chayka|  92.64|517538958| appliances|      sewing_machine| 21|\n",
      "+------------+----------+----------+----------+-------+---------+-----------+--------------------+---+\n",
      "only showing top 20 rows\n",
      "\n"
     ]
    }
   ],
   "source": [
    "df = spark.read.csv(hadoop_path_nov+'/selected_Data/', header = True, inferSchema = True)\n",
    "df.show()"
   ]
  },
  {
   "cell_type": "markdown",
   "metadata": {},
   "source": [
    "### Question:\n",
    "How many times did the customer view the product before purchasing it?"
   ]
  },
  {
   "cell_type": "code",
   "execution_count": 5,
   "metadata": {},
   "outputs": [
    {
     "name": "stdout",
     "output_type": "stream",
     "text": [
      "+---------+----------+--------------------+-----------+--------+------+---------------------+\n",
      "|  user_id|product_id|             product|   category|   brand| price|views_before_purchase|\n",
      "+---------+----------+--------------------+-----------+--------+------+---------------------+\n",
      "|307138432|   1004904|          smartphone|electronics|  huawei|106.57|                    1|\n",
      "|315835135|  17800444|             desktop|  computers| dxracer|334.37|                    4|\n",
      "|369801696|   1005115|          smartphone|electronics|   apple|914.43|                    1|\n",
      "|404851685|   5800605|     audio.subwoofer|electronics|   focal|  48.5|                    2|\n",
      "|439209037|   7003777|            carriage|       kids|    anex|790.24|                    7|\n",
      "|442687924|   1005099|          smartphone|electronics| samsung|136.66|                    1|\n",
      "|445339240|   6701017|components.videoc...|  computers|gigabyte|277.74|                    3|\n",
      "|456056600|   1005121|          smartphone|electronics|   apple|964.19|                   11|\n",
      "|464610644|   1004767|          smartphone|electronics| samsung|259.98|                    2|\n",
      "|466100638|   1004877|          smartphone|electronics|  xiaomi| 82.08|                    1|\n",
      "|466936854|   8801050|           telephone|electronics| philips| 48.88|                    1|\n",
      "|470238953|   1005099|          smartphone|electronics| samsung|134.59|                    1|\n",
      "|471563068|   1005160|          smartphone|electronics|  xiaomi|199.66|                    1|\n",
      "|474035876|   1004838|          smartphone|electronics|    oppo|154.41|                    6|\n",
      "|474593321|  17800204|             desktop|  computers|    zeta| 33.44|                    1|\n",
      "|474895559|   1002633|          smartphone|electronics|   apple|385.83|                    1|\n",
      "|477809563|   3900339|environment.water...| appliances|    aqua| 30.86|                   16|\n",
      "|478741761|   1005203|          smartphone|electronics|  xiaomi|108.63|                    1|\n",
      "|480339528|   1801805|            video.tv|electronics|   artel| 242.4|                    3|\n",
      "|483226510|   2701673|kitchen.refrigera...| appliances| indesit|292.28|                    6|\n",
      "+---------+----------+--------------------+-----------+--------+------+---------------------+\n",
      "only showing top 20 rows\n",
      "\n"
     ]
    }
   ],
   "source": [
    "# Apply filter early and select only necessary columns\n",
    "views_df = df.filter(df.event_type == 'view').select('user_id', 'product_id', 'day').withColumnRenamed('day', 'day_view')\n",
    "purchases_df = df.filter(df.event_type == 'purchase').select('user_id', 'product_id', 'day', 'product', 'category', 'brand', 'price').withColumnRenamed('day', 'day_purchase')\n",
    "\n",
    "# Join on user_id and product_id (using regular join here)\n",
    "joined_df = views_df.join(purchases_df, ['user_id', 'product_id'], 'inner')\n",
    "\n",
    "# Cache joined_df if it will be used multiple times\n",
    "# joined_df.cache()\n",
    "\n",
    "# Ensure views are before purchase and filter\n",
    "valid_views_df = joined_df.filter(joined_df.day_view <= joined_df.day_purchase)\n",
    "\n",
    "# Group and aggregate\n",
    "final_df = valid_views_df.groupBy('user_id', 'product_id', 'product', 'category', 'brand', 'price') \\\n",
    "                         .agg(F.count('day_view').alias('views_before_purchase'))\n",
    "\n",
    "# Show the final DataFrame\n",
    "final_df.show()"
   ]
  },
  {
   "cell_type": "code",
   "execution_count": 6,
   "metadata": {},
   "outputs": [
    {
     "name": "stdout",
     "output_type": "stream",
     "text": [
      "+---------+----------+--------------------+-----------+-------+-------+---------------------+\n",
      "|  user_id|product_id|             product|   category|  brand|  price|views_before_purchase|\n",
      "+---------+----------+--------------------+-----------+-------+-------+---------------------+\n",
      "|518514099|   1005116|          smartphone|electronics|  apple|1013.85|                13031|\n",
      "|549385752|   4804056|     audio.headphone|electronics|  apple| 167.06|                11415|\n",
      "|566195962|   1801723|            video.tv|electronics|    tcl| 149.29|                 9545|\n",
      "|543128872|   4804056|     audio.headphone|electronics|  apple| 161.63|                 8004|\n",
      "|564068124|   1004833|          smartphone|electronics|samsung| 170.05|                 5229|\n",
      "|541385001|   1005113|          smartphone|electronics|  apple|1052.28|                 4808|\n",
      "|543128872|   4804056|     audio.headphone|electronics|  apple|  162.6|                 4012|\n",
      "|543128872|   4804056|     audio.headphone|electronics|  apple| 161.73|                 3968|\n",
      "|518514099|   1005116|          smartphone|electronics|  apple|1013.67|                 3925|\n",
      "|518514099|   1005116|          smartphone|electronics|  apple|1013.64|                 3925|\n",
      "|512386086|   4201541|environment.air_c...| appliances|  artel| 898.35|                 3443|\n",
      "|521230795|   1005115|          smartphone|electronics|  apple| 916.37|                 3002|\n",
      "|564068124|   1004767|          smartphone|electronics|samsung| 240.38|                 2900|\n",
      "|564068124|   1004767|          smartphone|electronics|samsung| 241.97|                 2848|\n",
      "|564068124|   1004833|          smartphone|electronics|samsung| 170.11|                 2765|\n",
      "|514416740|   1701356| peripherals.monitor|  computers|   asus| 449.15|                 2666|\n",
      "|564068124|   1004833|          smartphone|electronics|samsung|  170.3|                 2511|\n",
      "|564068124|   1004833|          smartphone|electronics|samsung| 170.07|                 2486|\n",
      "|547227816|   1005130|          smartphone|electronics|  apple|1585.32|                 2304|\n",
      "|535327520|   1004426|          smartphone|electronics|samsung| 190.46|                 2243|\n",
      "+---------+----------+--------------------+-----------+-------+-------+---------------------+\n",
      "only showing top 20 rows\n",
      "\n"
     ]
    }
   ],
   "source": [
    "# Order final_df by views_before_purchase in descending order\n",
    "sorted_final_df = final_df.orderBy(F.desc('views_before_purchase'))\n",
    "\n",
    "# Show the sorted DataFrame\n",
    "sorted_final_df.show()"
   ]
  },
  {
   "cell_type": "code",
   "execution_count": 7,
   "metadata": {},
   "outputs": [
    {
     "data": {
      "image/png": "[encoded data removed]",
      "text/plain": [
       "<Figure size 1000x600 with 1 Axes>"
      ]
     },
     "metadata": {},
     "output_type": "display_data"
    }
   ],
   "source": [
    "import matplotlib.pyplot as plt\n",
    "\n",
    "# Assuming final_df is your Spark DataFrame with the 'views_before_purchase' column\n",
    "\n",
    "# Convert the specific column to Pandas for visualization\n",
    "views_before_purchase_pd = final_df.select('views_before_purchase').toPandas()\n",
    "\n",
    "# Create a histogram for the views\n",
    "plt.figure(figsize=(10, 6))\n",
    "plt.hist(views_before_purchase_pd['views_before_purchase'], bins=30, alpha=0.7, color='blue', edgecolor='black')\n",
    "\n",
    "title = \"Histogram of Views Before Purchase\"\n",
    "plt.title(title)\n",
    "plt.xlabel('Views Before Purchase')\n",
    "plt.ylabel('Frequency')\n",
    "\n",
    "plt.show()"
   ]
  }
 ],
 "metadata": {
  "kernelspec": {
   "display_name": "Bigdata",
   "language": "python",
   "name": "python3"
  },
  "language_info": {
   "codemirror_mode": {
    "name": "ipython",
    "version": 3
   },
   "file_extension": ".py",
   "mimetype": "text/x-python",
   "name": "python",
   "nbconvert_exporter": "python",
   "pygments_lexer": "ipython3",
   "version": "3.11.5"
  }
 },
 "nbformat": 4,
 "nbformat_minor": 2
}
