{
 "cells": [
  {
   "cell_type": "code",
   "execution_count": 1,
   "metadata": {},
   "outputs": [
    {
     "name": "stdout",
     "output_type": "stream",
     "text": [
      "C:\\Users\\jasmi\\.conda\\envs\\bigData\\Lib\\site-packages\\pyspark\n"
     ]
    }
   ],
   "source": [
    "from pyspark.find_spark_home import _find_spark_home\n",
    "from pyspark.sql import SparkSession\n",
    "from pyspark import SparkConf, StorageLevel\n",
    "import pyspark.sql.functions as F\n",
    "import os\n",
    "\n",
    "from dotenv import load_dotenv\n",
    "load_dotenv()\n",
    "\n",
    "print(_find_spark_home())"
   ]
  },
  {
   "cell_type": "code",
   "execution_count": 2,
   "metadata": {},
   "outputs": [],
   "source": [
    "python_path = os.environ.get('PYTHON_PATH')\n",
    "app_name_nov = os.environ.get('APP_NAME_NOV')\n",
    "hadoop_path_nov = os.environ.get('HADOOP_NOV_DATASET_PATH')"
   ]
  },
  {
   "cell_type": "code",
   "execution_count": 3,
   "metadata": {},
   "outputs": [
    {
     "name": "stdout",
     "output_type": "stream",
     "text": [
      "('spark.dynamicAllocation.minExecutors', '1')\n",
      "('spark.shuffle.service.enabled', 'true')\n",
      "('spark.driver.memory', '4g')\n",
      "('spark.executor.memory', '4g')\n",
      "('spark.driver.host', '194.47.40.208')\n",
      "('spark.app.submitTime', '1702904271296')\n",
      "('spark.dynamicAllocation.maxExecutors', '10')\n",
      "('spark.pyspark.python', 'C:/Users/jasmi/.conda/envs/bigData/python.exe')\n",
      "('spark.executor.id', 'driver')\n",
      "('spark.driver.port', '62597')\n",
      "('spark.app.id', 'local-1702904273499')\n",
      "('spark.driver.extraJavaOptions', '-Djava.net.preferIPv6Addresses=false -XX:+IgnoreUnrecognizedVMOptions --add-opens=java.base/java.lang=ALL-UNNAMED --add-opens=java.base/java.lang.invoke=ALL-UNNAMED --add-opens=java.base/java.lang.reflect=ALL-UNNAMED --add-opens=java.base/java.io=ALL-UNNAMED --add-opens=java.base/java.net=ALL-UNNAMED --add-opens=java.base/java.nio=ALL-UNNAMED --add-opens=java.base/java.util=ALL-UNNAMED --add-opens=java.base/java.util.concurrent=ALL-UNNAMED --add-opens=java.base/java.util.concurrent.atomic=ALL-UNNAMED --add-opens=java.base/sun.nio.ch=ALL-UNNAMED --add-opens=java.base/sun.nio.cs=ALL-UNNAMED --add-opens=java.base/sun.security.action=ALL-UNNAMED --add-opens=java.base/sun.util.calendar=ALL-UNNAMED --add-opens=java.security.jgss/sun.security.krb5=ALL-UNNAMED -Djdk.reflect.useDirectMethodHandle=false')\n",
      "('spark.network.timeout', '800s')\n",
      "('spark.rdd.compress', 'True')\n",
      "('spark-local-dir', 'C:\\\\spark-temp')\n",
      "('spark.serializer.objectStreamReset', '100')\n",
      "('spark.driver.maxResultSize', '2g')\n",
      "('spark.master', 'local[*]')\n",
      "('spark.submit.pyFiles', '')\n",
      "('spark.dynamicAllocation.executorIdleTimeout', '60s')\n",
      "('spark.submit.deployMode', 'client')\n",
      "('spark.dynamicAllocation.enabled', 'true')\n",
      "('spark.pyspark.driver.python', 'C:/Users/jasmi/.conda/envs/bigData/python.exe')\n",
      "('spark.app.startTime', '1702904271547')\n",
      "('spark.ui.showConsoleProgress', 'true')\n",
      "('spark.executor.extraJavaOptions', '-Djava.net.preferIPv6Addresses=false -XX:+IgnoreUnrecognizedVMOptions --add-opens=java.base/java.lang=ALL-UNNAMED --add-opens=java.base/java.lang.invoke=ALL-UNNAMED --add-opens=java.base/java.lang.reflect=ALL-UNNAMED --add-opens=java.base/java.io=ALL-UNNAMED --add-opens=java.base/java.net=ALL-UNNAMED --add-opens=java.base/java.nio=ALL-UNNAMED --add-opens=java.base/java.util=ALL-UNNAMED --add-opens=java.base/java.util.concurrent=ALL-UNNAMED --add-opens=java.base/java.util.concurrent.atomic=ALL-UNNAMED --add-opens=java.base/sun.nio.ch=ALL-UNNAMED --add-opens=java.base/sun.nio.cs=ALL-UNNAMED --add-opens=java.base/sun.security.action=ALL-UNNAMED --add-opens=java.base/sun.util.calendar=ALL-UNNAMED --add-opens=java.security.jgss/sun.security.krb5=ALL-UNNAMED -Djdk.reflect.useDirectMethodHandle=false')\n",
      "('spark.app.name', 'november_data')\n"
     ]
    }
   ],
   "source": [
    "conf = SparkConf()\\\n",
    "    .setMaster('local[*]')\\\n",
    "    .set('spark-local-dir', \"C:\\\\spark-temp\")\\\n",
    "    .set('spark.driver.memory', '4g')\\\n",
    "    .set('spark.executor.memory', '4g')\\\n",
    "    .set('spark.driver.maxResultSize', '2g')\\\n",
    "    .set('spark.pyspark.python', python_path)\\\n",
    "    .set('spark.pyspark.driver.python', python_path)\\\n",
    "    .set(\"spark.network.timeout\",\"800s\")\\\n",
    "    .set(\"spark.dynamicAllocation.enabled\", \"true\")\\\n",
    "    .set(\"spark.shuffle.service.enabled\", \"true\")\\\n",
    "    .set(\"spark.dynamicAllocation.minExecutors\", \"1\")\\\n",
    "    .set(\"spark.dynamicAllocation.maxExecutors\", \"10\")\\\n",
    "    .set(\"spark.dynamicAllocation.executorIdleTimeout\", \"60s\")\\\n",
    "\n",
    "spark = SparkSession.builder.appName(app_name_nov).config(conf=conf).getOrCreate()\n",
    "sc = spark.sparkContext\n",
    "\n",
    "for item in sc.getConf().getAll(): print(item)"
   ]
  },
  {
   "cell_type": "code",
   "execution_count": 4,
   "metadata": {},
   "outputs": [
    {
     "name": "stdout",
     "output_type": "stream",
     "text": [
      "+------+-------------------+----------+--------------------+--------+------+---------+\n",
      "|    id|         event_time|event_type|       category_code|   brand| price|  user_id|\n",
      "+------+-------------------+----------+--------------------+--------+------+---------+\n",
      "|137094|2019-11-01 05:30:58|      view|  electronics.clocks|   apple| 298.6|543786283|\n",
      "|663868|2019-11-01 12:28:49|      view|appliances.enviro...| philips|148.09|546957422|\n",
      "|652591|2019-11-01 12:19:45|      view|electronics.smart...| oneplus|411.28|557211525|\n",
      "|634419|2019-11-01 12:04:11|      view|construction.tool...|   bosch| 96.76|536037929|\n",
      "|694541|2019-11-01 12:54:49|      view|electronics.smart...| samsung|717.16|512794151|\n",
      "|125420|2019-11-01 05:19:26|      view|electronics.smart...| samsung|170.14|518490523|\n",
      "|363288|2019-11-01 08:35:25|      view|appliances.sewing...|  leader|107.82|538064480|\n",
      "|341380|2019-11-01 08:18:32|      view|electronics.audio...|     jbl| 33.21|520578734|\n",
      "|922605|2019-11-01 15:44:29|      view|construction.tool...|  p.i.t.|114.36|566485862|\n",
      "|799471|2019-11-01 14:19:55|      view|electronics.audio...|  xiaomi| 22.79|517970582|\n",
      "|366865|2019-11-01 08:37:57|      view|electronics.smart...|    oppo|231.41|519091799|\n",
      "| 75656|2019-11-01 04:24:26|      view|appliances.kitche...|elenberg|231.64|519629013|\n",
      "|261867|2019-11-01 07:15:53|      view|furniture.living_...|     bts| 205.9|555531007|\n",
      "|812651|2019-11-01 14:29:47|      view|appliances.kitche...|      lg|463.07|515444971|\n",
      "|157671|2019-11-01 05:50:05|      view|electronics.smart...|    oppo|178.87|563723559|\n",
      "|752528|2019-11-01 13:43:05|      view|appliances.kitche...| indesit|254.32|533712083|\n",
      "|919300|2019-11-01 15:42:20|      view|         kids.skates| longway|111.97|527951683|\n",
      "|502705|2019-11-01 10:20:27|      view|   computers.desktop|  pulser|779.92|515260795|\n",
      "|301098|2019-11-01 07:46:44|  purchase|electronics.audio...|  yamaha|236.27|550620887|\n",
      "|427726|2019-11-01 09:23:05|      view|electronics.smart...| samsung|242.48|512907411|\n",
      "+------+-------------------+----------+--------------------+--------+------+---------+\n",
      "only showing top 20 rows\n",
      "\n"
     ]
    }
   ],
   "source": [
    "df = spark.read.csv(hadoop_path_nov+'/selected_Data/', header = True, inferSchema = True)\n",
    "df.show()"
   ]
  },
  {
   "cell_type": "code",
   "execution_count": null,
   "metadata": {},
   "outputs": [],
   "source": []
  }
 ],
 "metadata": {
  "kernelspec": {
   "display_name": "Bigdata",
   "language": "python",
   "name": "python3"
  },
  "language_info": {
   "codemirror_mode": {
    "name": "ipython",
    "version": 3
   },
   "file_extension": ".py",
   "mimetype": "text/x-python",
   "name": "python",
   "nbconvert_exporter": "python",
   "pygments_lexer": "ipython3",
   "version": "3.10.13"
  }
 },
 "nbformat": 4,
 "nbformat_minor": 2
}
