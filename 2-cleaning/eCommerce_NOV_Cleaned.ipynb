{
 "cells": [
  {
   "cell_type": "code",
   "execution_count": 1,
   "metadata": {},
   "outputs": [
    {
     "name": "stdout",
     "output_type": "stream",
     "text": [
      "C:\\Users\\liisu\\anaconda3\\envs\\bigData\\Lib\\site-packages\\pyspark\n"
     ]
    }
   ],
   "source": [
    "from pyspark.find_spark_home import _find_spark_home\n",
    "from pyspark.sql import SparkSession\n",
    "from pyspark import SparkConf, StorageLevel\n",
    "from pyspark.sql.functions import col, split, expr\n",
    "import pyspark.sql.functions as F\n",
    "from pyspark.sql.types import IntegerType\n",
    "import os\n",
    "\n",
    "from dotenv import load_dotenv\n",
    "load_dotenv()\n",
    "\n",
    "print(_find_spark_home())"
   ]
  },
  {
   "cell_type": "code",
   "execution_count": 2,
   "metadata": {},
   "outputs": [],
   "source": [
    "python_path = os.environ.get('PYTHON_PATH')\n",
    "app_name_nov = os.environ.get('APP_NAME_NOV')\n",
    "hadoop_path_nov = os.environ.get('HADOOP_NOV_DATASET_PATH')"
   ]
  },
  {
   "cell_type": "code",
   "execution_count": 3,
   "metadata": {},
   "outputs": [
    {
     "name": "stdout",
     "output_type": "stream",
     "text": [
      "('spark.driver.host', 'host.docker.internal')\n",
      "('spark.dynamicAllocation.minExecutors', '1')\n",
      "('spark.app.id', 'local-1703870983092')\n",
      "('spark.shuffle.service.enabled', 'true')\n",
      "('spark.driver.memory', '4g')\n",
      "('spark.executor.memory', '4g')\n",
      "('spark.dynamicAllocation.maxExecutors', '10')\n",
      "('spark.executor.id', 'driver')\n",
      "('spark.pyspark.driver.python', 'C:/Users/liisu/anaconda3/envs/bigData/python.exe')\n",
      "('spark.app.submitTime', '1703870980181')\n",
      "('spark.driver.extraJavaOptions', '-Djava.net.preferIPv6Addresses=false -XX:+IgnoreUnrecognizedVMOptions --add-opens=java.base/java.lang=ALL-UNNAMED --add-opens=java.base/java.lang.invoke=ALL-UNNAMED --add-opens=java.base/java.lang.reflect=ALL-UNNAMED --add-opens=java.base/java.io=ALL-UNNAMED --add-opens=java.base/java.net=ALL-UNNAMED --add-opens=java.base/java.nio=ALL-UNNAMED --add-opens=java.base/java.util=ALL-UNNAMED --add-opens=java.base/java.util.concurrent=ALL-UNNAMED --add-opens=java.base/java.util.concurrent.atomic=ALL-UNNAMED --add-opens=java.base/sun.nio.ch=ALL-UNNAMED --add-opens=java.base/sun.nio.cs=ALL-UNNAMED --add-opens=java.base/sun.security.action=ALL-UNNAMED --add-opens=java.base/sun.util.calendar=ALL-UNNAMED --add-opens=java.security.jgss/sun.security.krb5=ALL-UNNAMED -Djdk.reflect.useDirectMethodHandle=false')\n",
      "('spark.network.timeout', '800s')\n",
      "('spark.rdd.compress', 'True')\n",
      "('spark-local-dir', 'C:\\\\spark-temp')\n",
      "('spark.serializer.objectStreamReset', '100')\n",
      "('spark.driver.maxResultSize', '2g')\n",
      "('spark.app.startTime', '1703870980465')\n",
      "('spark.submit.pyFiles', '')\n",
      "('spark.dynamicAllocation.executorIdleTimeout', '60s')\n",
      "('spark.master', 'local[*]')\n",
      "('spark.submit.deployMode', 'client')\n",
      "('spark.pyspark.python', 'C:/Users/liisu/anaconda3/envs/bigData/python.exe')\n",
      "('spark.dynamicAllocation.enabled', 'true')\n",
      "('spark.driver.port', '49275')\n",
      "('spark.ui.showConsoleProgress', 'true')\n",
      "('spark.executor.extraJavaOptions', '-Djava.net.preferIPv6Addresses=false -XX:+IgnoreUnrecognizedVMOptions --add-opens=java.base/java.lang=ALL-UNNAMED --add-opens=java.base/java.lang.invoke=ALL-UNNAMED --add-opens=java.base/java.lang.reflect=ALL-UNNAMED --add-opens=java.base/java.io=ALL-UNNAMED --add-opens=java.base/java.net=ALL-UNNAMED --add-opens=java.base/java.nio=ALL-UNNAMED --add-opens=java.base/java.util=ALL-UNNAMED --add-opens=java.base/java.util.concurrent=ALL-UNNAMED --add-opens=java.base/java.util.concurrent.atomic=ALL-UNNAMED --add-opens=java.base/sun.nio.ch=ALL-UNNAMED --add-opens=java.base/sun.nio.cs=ALL-UNNAMED --add-opens=java.base/sun.security.action=ALL-UNNAMED --add-opens=java.base/sun.util.calendar=ALL-UNNAMED --add-opens=java.security.jgss/sun.security.krb5=ALL-UNNAMED -Djdk.reflect.useDirectMethodHandle=false')\n",
      "('spark.app.name', 'november_data')\n"
     ]
    }
   ],
   "source": [
    "conf = SparkConf()\\\n",
    "    .setMaster('local[*]')\\\n",
    "    .set('spark-local-dir', \"C:\\\\spark-temp\")\\\n",
    "    .set('spark.driver.memory', '4g')\\\n",
    "    .set('spark.executor.memory', '4g')\\\n",
    "    .set('spark.driver.maxResultSize', '2g')\\\n",
    "    .set('spark.pyspark.python', python_path)\\\n",
    "    .set('spark.pyspark.driver.python', python_path)\\\n",
    "    .set(\"spark.network.timeout\",\"800s\")\\\n",
    "    .set(\"spark.dynamicAllocation.enabled\", \"true\")\\\n",
    "    .set(\"spark.shuffle.service.enabled\", \"true\")\\\n",
    "    .set(\"spark.dynamicAllocation.minExecutors\", \"1\")\\\n",
    "    .set(\"spark.dynamicAllocation.maxExecutors\", \"10\")\\\n",
    "    .set(\"spark.dynamicAllocation.executorIdleTimeout\", \"60s\")\\\n",
    "\n",
    "spark = SparkSession.builder.appName(app_name_nov).config(conf=conf).getOrCreate()\n",
    "sc = spark.sparkContext\n",
    "\n",
    "for item in sc.getConf().getAll(): print(item)"
   ]
  },
  {
   "cell_type": "code",
   "execution_count": 4,
   "metadata": {},
   "outputs": [
    {
     "name": "stdout",
     "output_type": "stream",
     "text": [
      "+-------------------+----------+----------+-------------------+--------------------+--------+------+---------+--------------------+\n",
      "|         event_time|event_type|product_id|        category_id|       category_code|   brand| price|  user_id|        user_session|\n",
      "+-------------------+----------+----------+-------------------+--------------------+--------+------+---------+--------------------+\n",
      "|2019-11-01 01:00:00|      view|   1003461|2053013555631882655|electronics.smart...|  xiaomi|489.07|520088904|4d3b30da-a5e4-49d...|\n",
      "|2019-11-01 01:00:00|      view|   5000088|2053013566100866035|appliances.sewing...|  janome|293.65|530496790|8e5f4f83-366c-4f7...|\n",
      "|2019-11-01 01:00:01|      view|  17302664|2053013553853497655|                null|   creed| 28.31|561587266|755422e7-9040-477...|\n",
      "|2019-11-01 01:00:01|      view|   3601530|2053013563810775923|appliances.kitche...|      lg|712.87|518085591|3bfb58cd-7892-48c...|\n",
      "|2019-11-01 01:00:01|      view|   1004775|2053013555631882655|electronics.smart...|  xiaomi|183.27|558856683|313628f1-68b8-460...|\n",
      "|2019-11-01 01:00:01|      view|   1306894|2053013558920217191|  computers.notebook|      hp|360.09|520772685|816a59f3-f5ae-4cc...|\n",
      "|2019-11-01 01:00:01|      view|   1306421|2053013558920217191|  computers.notebook|      hp|514.56|514028527|df8184cc-3694-454...|\n",
      "|2019-11-01 01:00:02|      view|  15900065|2053013558190408249|                null| rondell| 30.86|518574284|5e6ef132-4d7c-473...|\n",
      "|2019-11-01 01:00:02|      view|  12708937|2053013553559896355|                null|michelin| 72.72|532364121|0a899268-31eb-46d...|\n",
      "|2019-11-01 01:00:02|      view|   1004258|2053013555631882655|electronics.smart...|   apple|732.07|532647354|d2d3d2c6-631d-489...|\n",
      "|2019-11-01 01:00:03|      view|  17200570|2053013559792632471|furniture.living_...|    null|437.33|518780843|aa806835-b14c-45a...|\n",
      "|2019-11-01 01:00:03|      view|   2701517|2053013563911439225|appliances.kitche...|    null|155.11|518427361|c89b0d96-247f-404...|\n",
      "|2019-11-01 01:00:03|      view|  16700260|2053013559901684381|furniture.kitchen...|    null| 31.64|566255262|173d7b72-1db7-463...|\n",
      "|2019-11-01 01:00:04|      view|  34600011|2060981320581906480|                null|    null| 20.54|512416379|4dfe2c67-e537-4dc...|\n",
      "|2019-11-01 01:00:05|      view|   4600658|2053013563944993659|appliances.kitche...| samsung|411.83|526595547|aab33a9a-29c3-4d5...|\n",
      "|2019-11-01 01:00:06|      view|  24900193|2053013562183385881|                null|    null|  1.09|512651494|f603c815-f51a-46f...|\n",
      "|2019-11-01 01:00:07|      view|  27400066|2053013563391345499|                null|    null|  8.55|551061950|3f6112f1-5695-4e8...|\n",
      "|2019-11-01 01:00:07|      view|   5100503|2053013553375346967|                null|  xiaomi| 22.68|520037415|f54fa96a-f3f2-43a...|\n",
      "|2019-11-01 01:00:07|      view|   1004566|2053013555631882655|electronics.smart...|  huawei|164.84|566265908|52c2c76c-b79e-479...|\n",
      "|2019-11-01 01:00:08|      view|   1307115|2053013558920217191|  computers.notebook|      hp|411.59|514028527|df8184cc-3694-454...|\n",
      "+-------------------+----------+----------+-------------------+--------------------+--------+------+---------+--------------------+\n",
      "only showing top 20 rows\n",
      "\n"
     ]
    }
   ],
   "source": [
    "df = spark.read.csv(hadoop_path_nov, header = True, inferSchema = True)\n",
    "df.show()"
   ]
  },
  {
   "cell_type": "code",
   "execution_count": 5,
   "metadata": {},
   "outputs": [
    {
     "name": "stdout",
     "output_type": "stream",
     "text": [
      "+---+-------------------+----------+----------+-------------------+--------------------+--------+------+---------+--------------------+\n",
      "| id|         event_time|event_type|product_id|        category_id|       category_code|   brand| price|  user_id|        user_session|\n",
      "+---+-------------------+----------+----------+-------------------+--------------------+--------+------+---------+--------------------+\n",
      "|  0|2019-11-01 01:00:00|      view|   1003461|2053013555631882655|electronics.smart...|  xiaomi|489.07|520088904|4d3b30da-a5e4-49d...|\n",
      "|  1|2019-11-01 01:00:00|      view|   5000088|2053013566100866035|appliances.sewing...|  janome|293.65|530496790|8e5f4f83-366c-4f7...|\n",
      "|  2|2019-11-01 01:00:01|      view|  17302664|2053013553853497655|                null|   creed| 28.31|561587266|755422e7-9040-477...|\n",
      "|  3|2019-11-01 01:00:01|      view|   3601530|2053013563810775923|appliances.kitche...|      lg|712.87|518085591|3bfb58cd-7892-48c...|\n",
      "|  4|2019-11-01 01:00:01|      view|   1004775|2053013555631882655|electronics.smart...|  xiaomi|183.27|558856683|313628f1-68b8-460...|\n",
      "|  5|2019-11-01 01:00:01|      view|   1306894|2053013558920217191|  computers.notebook|      hp|360.09|520772685|816a59f3-f5ae-4cc...|\n",
      "|  6|2019-11-01 01:00:01|      view|   1306421|2053013558920217191|  computers.notebook|      hp|514.56|514028527|df8184cc-3694-454...|\n",
      "|  7|2019-11-01 01:00:02|      view|  15900065|2053013558190408249|                null| rondell| 30.86|518574284|5e6ef132-4d7c-473...|\n",
      "|  8|2019-11-01 01:00:02|      view|  12708937|2053013553559896355|                null|michelin| 72.72|532364121|0a899268-31eb-46d...|\n",
      "|  9|2019-11-01 01:00:02|      view|   1004258|2053013555631882655|electronics.smart...|   apple|732.07|532647354|d2d3d2c6-631d-489...|\n",
      "| 10|2019-11-01 01:00:03|      view|  17200570|2053013559792632471|furniture.living_...|    null|437.33|518780843|aa806835-b14c-45a...|\n",
      "| 11|2019-11-01 01:00:03|      view|   2701517|2053013563911439225|appliances.kitche...|    null|155.11|518427361|c89b0d96-247f-404...|\n",
      "| 12|2019-11-01 01:00:03|      view|  16700260|2053013559901684381|furniture.kitchen...|    null| 31.64|566255262|173d7b72-1db7-463...|\n",
      "| 13|2019-11-01 01:00:04|      view|  34600011|2060981320581906480|                null|    null| 20.54|512416379|4dfe2c67-e537-4dc...|\n",
      "| 14|2019-11-01 01:00:05|      view|   4600658|2053013563944993659|appliances.kitche...| samsung|411.83|526595547|aab33a9a-29c3-4d5...|\n",
      "| 15|2019-11-01 01:00:06|      view|  24900193|2053013562183385881|                null|    null|  1.09|512651494|f603c815-f51a-46f...|\n",
      "| 16|2019-11-01 01:00:07|      view|  27400066|2053013563391345499|                null|    null|  8.55|551061950|3f6112f1-5695-4e8...|\n",
      "| 17|2019-11-01 01:00:07|      view|   5100503|2053013553375346967|                null|  xiaomi| 22.68|520037415|f54fa96a-f3f2-43a...|\n",
      "| 18|2019-11-01 01:00:07|      view|   1004566|2053013555631882655|electronics.smart...|  huawei|164.84|566265908|52c2c76c-b79e-479...|\n",
      "| 19|2019-11-01 01:00:08|      view|   1307115|2053013558920217191|  computers.notebook|      hp|411.59|514028527|df8184cc-3694-454...|\n",
      "+---+-------------------+----------+----------+-------------------+--------------------+--------+------+---------+--------------------+\n",
      "only showing top 20 rows\n",
      "\n"
     ]
    }
   ],
   "source": [
    "df_index = df.select('*').withColumn('id', F.monotonically_increasing_id())\n",
    "column_names = ['id'] + [col for col in df.columns]\n",
    "\n",
    "df_index_first = df_index.select(column_names)\n",
    "df_index_first.show()"
   ]
  },
  {
   "cell_type": "code",
   "execution_count": 6,
   "metadata": {},
   "outputs": [
    {
     "name": "stdout",
     "output_type": "stream",
     "text": [
      "+---+-------------------+----------+----------+--------------------+--------+------+---------+\n",
      "| id|         event_time|event_type|product_id|       category_code|   brand| price|  user_id|\n",
      "+---+-------------------+----------+----------+--------------------+--------+------+---------+\n",
      "|  0|2019-11-01 01:00:00|      view|   1003461|electronics.smart...|  xiaomi|489.07|520088904|\n",
      "|  1|2019-11-01 01:00:00|      view|   5000088|appliances.sewing...|  janome|293.65|530496790|\n",
      "|  2|2019-11-01 01:00:01|      view|  17302664|                null|   creed| 28.31|561587266|\n",
      "|  3|2019-11-01 01:00:01|      view|   3601530|appliances.kitche...|      lg|712.87|518085591|\n",
      "|  4|2019-11-01 01:00:01|      view|   1004775|electronics.smart...|  xiaomi|183.27|558856683|\n",
      "|  5|2019-11-01 01:00:01|      view|   1306894|  computers.notebook|      hp|360.09|520772685|\n",
      "|  6|2019-11-01 01:00:01|      view|   1306421|  computers.notebook|      hp|514.56|514028527|\n",
      "|  7|2019-11-01 01:00:02|      view|  15900065|                null| rondell| 30.86|518574284|\n",
      "|  8|2019-11-01 01:00:02|      view|  12708937|                null|michelin| 72.72|532364121|\n",
      "|  9|2019-11-01 01:00:02|      view|   1004258|electronics.smart...|   apple|732.07|532647354|\n",
      "| 10|2019-11-01 01:00:03|      view|  17200570|furniture.living_...|    null|437.33|518780843|\n",
      "| 11|2019-11-01 01:00:03|      view|   2701517|appliances.kitche...|    null|155.11|518427361|\n",
      "| 12|2019-11-01 01:00:03|      view|  16700260|furniture.kitchen...|    null| 31.64|566255262|\n",
      "| 13|2019-11-01 01:00:04|      view|  34600011|                null|    null| 20.54|512416379|\n",
      "| 14|2019-11-01 01:00:05|      view|   4600658|appliances.kitche...| samsung|411.83|526595547|\n",
      "| 15|2019-11-01 01:00:06|      view|  24900193|                null|    null|  1.09|512651494|\n",
      "| 16|2019-11-01 01:00:07|      view|  27400066|                null|    null|  8.55|551061950|\n",
      "| 17|2019-11-01 01:00:07|      view|   5100503|                null|  xiaomi| 22.68|520037415|\n",
      "| 18|2019-11-01 01:00:07|      view|   1004566|electronics.smart...|  huawei|164.84|566265908|\n",
      "| 19|2019-11-01 01:00:08|      view|   1307115|  computers.notebook|      hp|411.59|514028527|\n",
      "+---+-------------------+----------+----------+--------------------+--------+------+---------+\n",
      "only showing top 20 rows\n",
      "\n"
     ]
    }
   ],
   "source": [
    "df_new = df_index_first.drop('user_session', 'category_id')\n",
    "df_new.show()"
   ]
  },
  {
   "cell_type": "code",
   "execution_count": 7,
   "metadata": {},
   "outputs": [
    {
     "name": "stdout",
     "output_type": "stream",
     "text": [
      "+---+-------------------+----------+----------+--------------------------------+--------+------+---------+-----------+---------------------+\n",
      "|id |event_time         |event_type|product_id|category_code                   |brand   |price |user_id  |category   |product              |\n",
      "+---+-------------------+----------+----------+--------------------------------+--------+------+---------+-----------+---------------------+\n",
      "|0  |2019-11-01 01:00:00|view      |1003461   |electronics.smartphone          |xiaomi  |489.07|520088904|electronics|smartphone           |\n",
      "|1  |2019-11-01 01:00:00|view      |5000088   |appliances.sewing_machine       |janome  |293.65|530496790|appliances |sewing_machine       |\n",
      "|2  |2019-11-01 01:00:01|view      |17302664  |null                            |creed   |28.31 |561587266|null       |null                 |\n",
      "|3  |2019-11-01 01:00:01|view      |3601530   |appliances.kitchen.washer       |lg      |712.87|518085591|appliances |kitchen.washer       |\n",
      "|4  |2019-11-01 01:00:01|view      |1004775   |electronics.smartphone          |xiaomi  |183.27|558856683|electronics|smartphone           |\n",
      "|5  |2019-11-01 01:00:01|view      |1306894   |computers.notebook              |hp      |360.09|520772685|computers  |notebook             |\n",
      "|6  |2019-11-01 01:00:01|view      |1306421   |computers.notebook              |hp      |514.56|514028527|computers  |notebook             |\n",
      "|7  |2019-11-01 01:00:02|view      |15900065  |null                            |rondell |30.86 |518574284|null       |null                 |\n",
      "|8  |2019-11-01 01:00:02|view      |12708937  |null                            |michelin|72.72 |532364121|null       |null                 |\n",
      "|9  |2019-11-01 01:00:02|view      |1004258   |electronics.smartphone          |apple   |732.07|532647354|electronics|smartphone           |\n",
      "|10 |2019-11-01 01:00:03|view      |17200570  |furniture.living_room.sofa      |null    |437.33|518780843|furniture  |living_room.sofa     |\n",
      "|11 |2019-11-01 01:00:03|view      |2701517   |appliances.kitchen.refrigerators|null    |155.11|518427361|appliances |kitchen.refrigerators|\n",
      "|12 |2019-11-01 01:00:03|view      |16700260  |furniture.kitchen.chair         |null    |31.64 |566255262|furniture  |kitchen.chair        |\n",
      "|13 |2019-11-01 01:00:04|view      |34600011  |null                            |null    |20.54 |512416379|null       |null                 |\n",
      "|14 |2019-11-01 01:00:05|view      |4600658   |appliances.kitchen.dishwasher   |samsung |411.83|526595547|appliances |kitchen.dishwasher   |\n",
      "|15 |2019-11-01 01:00:06|view      |24900193  |null                            |null    |1.09  |512651494|null       |null                 |\n",
      "|16 |2019-11-01 01:00:07|view      |27400066  |null                            |null    |8.55  |551061950|null       |null                 |\n",
      "|17 |2019-11-01 01:00:07|view      |5100503   |null                            |xiaomi  |22.68 |520037415|null       |null                 |\n",
      "|18 |2019-11-01 01:00:07|view      |1004566   |electronics.smartphone          |huawei  |164.84|566265908|electronics|smartphone           |\n",
      "|19 |2019-11-01 01:00:08|view      |1307115   |computers.notebook              |hp      |411.59|514028527|computers  |notebook             |\n",
      "+---+-------------------+----------+----------+--------------------------------+--------+------+---------+-----------+---------------------+\n",
      "only showing top 20 rows\n",
      "\n"
     ]
    }
   ],
   "source": [
    "df_new = df_new.withColumn(\"split_code\", split(col(\"category_code\"), \"\\.\"))\n",
    "\n",
    "df_new = df_new.withColumn(\"category\", col(\"split_code\")[0])\n",
    "\n",
    "df_new = df_new.withColumn(\"product\", expr(\"substring(category_code, length(category) + 2)\"))\n",
    "\n",
    "df_new =df_new.drop(\"split_code\")\n",
    "\n",
    "df_new.show(truncate=False)"
   ]
  },
  {
   "cell_type": "code",
   "execution_count": 8,
   "metadata": {},
   "outputs": [
    {
     "name": "stdout",
     "output_type": "stream",
     "text": [
      "+---+-------------------+----------+----------+--------+------+---------+-----------+---------------------+\n",
      "|id |event_time         |event_type|product_id|brand   |price |user_id  |category   |product              |\n",
      "+---+-------------------+----------+----------+--------+------+---------+-----------+---------------------+\n",
      "|0  |2019-11-01 01:00:00|view      |1003461   |xiaomi  |489.07|520088904|electronics|smartphone           |\n",
      "|1  |2019-11-01 01:00:00|view      |5000088   |janome  |293.65|530496790|appliances |sewing_machine       |\n",
      "|2  |2019-11-01 01:00:01|view      |17302664  |creed   |28.31 |561587266|null       |null                 |\n",
      "|3  |2019-11-01 01:00:01|view      |3601530   |lg      |712.87|518085591|appliances |kitchen.washer       |\n",
      "|4  |2019-11-01 01:00:01|view      |1004775   |xiaomi  |183.27|558856683|electronics|smartphone           |\n",
      "|5  |2019-11-01 01:00:01|view      |1306894   |hp      |360.09|520772685|computers  |notebook             |\n",
      "|6  |2019-11-01 01:00:01|view      |1306421   |hp      |514.56|514028527|computers  |notebook             |\n",
      "|7  |2019-11-01 01:00:02|view      |15900065  |rondell |30.86 |518574284|null       |null                 |\n",
      "|8  |2019-11-01 01:00:02|view      |12708937  |michelin|72.72 |532364121|null       |null                 |\n",
      "|9  |2019-11-01 01:00:02|view      |1004258   |apple   |732.07|532647354|electronics|smartphone           |\n",
      "|10 |2019-11-01 01:00:03|view      |17200570  |null    |437.33|518780843|furniture  |living_room.sofa     |\n",
      "|11 |2019-11-01 01:00:03|view      |2701517   |null    |155.11|518427361|appliances |kitchen.refrigerators|\n",
      "|12 |2019-11-01 01:00:03|view      |16700260  |null    |31.64 |566255262|furniture  |kitchen.chair        |\n",
      "|13 |2019-11-01 01:00:04|view      |34600011  |null    |20.54 |512416379|null       |null                 |\n",
      "|14 |2019-11-01 01:00:05|view      |4600658   |samsung |411.83|526595547|appliances |kitchen.dishwasher   |\n",
      "|15 |2019-11-01 01:00:06|view      |24900193  |null    |1.09  |512651494|null       |null                 |\n",
      "|16 |2019-11-01 01:00:07|view      |27400066  |null    |8.55  |551061950|null       |null                 |\n",
      "|17 |2019-11-01 01:00:07|view      |5100503   |xiaomi  |22.68 |520037415|null       |null                 |\n",
      "|18 |2019-11-01 01:00:07|view      |1004566   |huawei  |164.84|566265908|electronics|smartphone           |\n",
      "|19 |2019-11-01 01:00:08|view      |1307115   |hp      |411.59|514028527|computers  |notebook             |\n",
      "+---+-------------------+----------+----------+--------+------+---------+-----------+---------------------+\n",
      "only showing top 20 rows\n",
      "\n"
     ]
    }
   ],
   "source": [
    "df_new =df_new.drop(\"category_code\")\n",
    "df_new.show(truncate=False)"
   ]
  },
  {
   "cell_type": "code",
   "execution_count": 9,
   "metadata": {},
   "outputs": [
    {
     "name": "stdout",
     "output_type": "stream",
     "text": [
      "+---+----------+----------+--------+------+---------+-----------+--------------------+----------+---+\n",
      "| id|event_type|product_id|   brand| price|  user_id|   category|             product|      date|day|\n",
      "+---+----------+----------+--------+------+---------+-----------+--------------------+----------+---+\n",
      "|  0|      view|   1003461|  xiaomi|489.07|520088904|electronics|          smartphone|2019-11-01|  1|\n",
      "|  1|      view|   5000088|  janome|293.65|530496790| appliances|      sewing_machine|2019-11-01|  1|\n",
      "|  2|      view|  17302664|   creed| 28.31|561587266|       null|                null|2019-11-01|  1|\n",
      "|  3|      view|   3601530|      lg|712.87|518085591| appliances|      kitchen.washer|2019-11-01|  1|\n",
      "|  4|      view|   1004775|  xiaomi|183.27|558856683|electronics|          smartphone|2019-11-01|  1|\n",
      "|  5|      view|   1306894|      hp|360.09|520772685|  computers|            notebook|2019-11-01|  1|\n",
      "|  6|      view|   1306421|      hp|514.56|514028527|  computers|            notebook|2019-11-01|  1|\n",
      "|  7|      view|  15900065| rondell| 30.86|518574284|       null|                null|2019-11-01|  1|\n",
      "|  8|      view|  12708937|michelin| 72.72|532364121|       null|                null|2019-11-01|  1|\n",
      "|  9|      view|   1004258|   apple|732.07|532647354|electronics|          smartphone|2019-11-01|  1|\n",
      "| 10|      view|  17200570|    null|437.33|518780843|  furniture|    living_room.sofa|2019-11-01|  1|\n",
      "| 11|      view|   2701517|    null|155.11|518427361| appliances|kitchen.refrigera...|2019-11-01|  1|\n",
      "| 12|      view|  16700260|    null| 31.64|566255262|  furniture|       kitchen.chair|2019-11-01|  1|\n",
      "| 13|      view|  34600011|    null| 20.54|512416379|       null|                null|2019-11-01|  1|\n",
      "| 14|      view|   4600658| samsung|411.83|526595547| appliances|  kitchen.dishwasher|2019-11-01|  1|\n",
      "| 15|      view|  24900193|    null|  1.09|512651494|       null|                null|2019-11-01|  1|\n",
      "| 16|      view|  27400066|    null|  8.55|551061950|       null|                null|2019-11-01|  1|\n",
      "| 17|      view|   5100503|  xiaomi| 22.68|520037415|       null|                null|2019-11-01|  1|\n",
      "| 18|      view|   1004566|  huawei|164.84|566265908|electronics|          smartphone|2019-11-01|  1|\n",
      "| 19|      view|   1307115|      hp|411.59|514028527|  computers|            notebook|2019-11-01|  1|\n",
      "+---+----------+----------+--------+------+---------+-----------+--------------------+----------+---+\n",
      "only showing top 20 rows\n",
      "\n"
     ]
    }
   ],
   "source": [
    "df_new = df_new.withColumn(\"date\", split(col(\"event_time\"), \" \")[0])\n",
    "df_new = df_new.withColumn(\"day\", split(col(\"date\"), \"-\")[2].cast(IntegerType()))\n",
    "df_new = df_new.drop(\"event_time\")\n",
    "\n",
    "df_new.show()"
   ]
  },
  {
   "cell_type": "code",
   "execution_count": 10,
   "metadata": {},
   "outputs": [
    {
     "name": "stdout",
     "output_type": "stream",
     "text": [
      "+---+----------+----------+--------+------+---------+-----------+--------------------+---+\n",
      "| id|event_type|product_id|   brand| price|  user_id|   category|             product|day|\n",
      "+---+----------+----------+--------+------+---------+-----------+--------------------+---+\n",
      "|  0|      view|   1003461|  xiaomi|489.07|520088904|electronics|          smartphone|  1|\n",
      "|  1|      view|   5000088|  janome|293.65|530496790| appliances|      sewing_machine|  1|\n",
      "|  2|      view|  17302664|   creed| 28.31|561587266|       null|                null|  1|\n",
      "|  3|      view|   3601530|      lg|712.87|518085591| appliances|      kitchen.washer|  1|\n",
      "|  4|      view|   1004775|  xiaomi|183.27|558856683|electronics|          smartphone|  1|\n",
      "|  5|      view|   1306894|      hp|360.09|520772685|  computers|            notebook|  1|\n",
      "|  6|      view|   1306421|      hp|514.56|514028527|  computers|            notebook|  1|\n",
      "|  7|      view|  15900065| rondell| 30.86|518574284|       null|                null|  1|\n",
      "|  8|      view|  12708937|michelin| 72.72|532364121|       null|                null|  1|\n",
      "|  9|      view|   1004258|   apple|732.07|532647354|electronics|          smartphone|  1|\n",
      "| 10|      view|  17200570|    null|437.33|518780843|  furniture|    living_room.sofa|  1|\n",
      "| 11|      view|   2701517|    null|155.11|518427361| appliances|kitchen.refrigera...|  1|\n",
      "| 12|      view|  16700260|    null| 31.64|566255262|  furniture|       kitchen.chair|  1|\n",
      "| 13|      view|  34600011|    null| 20.54|512416379|       null|                null|  1|\n",
      "| 14|      view|   4600658| samsung|411.83|526595547| appliances|  kitchen.dishwasher|  1|\n",
      "| 15|      view|  24900193|    null|  1.09|512651494|       null|                null|  1|\n",
      "| 16|      view|  27400066|    null|  8.55|551061950|       null|                null|  1|\n",
      "| 17|      view|   5100503|  xiaomi| 22.68|520037415|       null|                null|  1|\n",
      "| 18|      view|   1004566|  huawei|164.84|566265908|electronics|          smartphone|  1|\n",
      "| 19|      view|   1307115|      hp|411.59|514028527|  computers|            notebook|  1|\n",
      "+---+----------+----------+--------+------+---------+-----------+--------------------+---+\n",
      "only showing top 20 rows\n",
      "\n"
     ]
    }
   ],
   "source": [
    "df_new = df_new.drop(\"date\")\n",
    "df_new.show()"
   ]
  },
  {
   "cell_type": "code",
   "execution_count": 11,
   "metadata": {},
   "outputs": [],
   "source": [
    "df_new = df_new.dropDuplicates()"
   ]
  },
  {
   "cell_type": "code",
   "execution_count": 12,
   "metadata": {},
   "outputs": [
    {
     "name": "stdout",
     "output_type": "stream",
     "text": [
      "+----+----------+----------+--------+-------+---------+-----------+--------------------+---+\n",
      "|  id|event_type|product_id|   brand|  price|  user_id|   category|             product|day|\n",
      "+----+----------+----------+--------+-------+---------+-----------+--------------------+---+\n",
      "|  29|      view|   1307340|    asus| 360.34|520772685|  computers|            notebook|  1|\n",
      "| 878|      view|   3100640| redmond|  51.22|522761204| appliances|     kitchen.blender|  1|\n",
      "|1401|      view|   1004158| samsung| 733.61|560865203|electronics|          smartphone|  1|\n",
      "|1505|      view|   1201362|    acer|  178.9|513468656|electronics|              tablet|  1|\n",
      "|2051|      view|   1004777|  xiaomi| 135.01|566282204|electronics|          smartphone|  1|\n",
      "|4046|      view|   1004386|    oppo| 776.08|512521821|electronics|          smartphone|  1|\n",
      "|4971|      view|  45500010|deepcool|  17.99|513569912|  computers|            notebook|  1|\n",
      "|5170|      view|   1480163|    acer| 617.75|566284428|  computers|             desktop|  1|\n",
      "|5245|      view|   1004788|  xiaomi| 138.71|518679035|electronics|          smartphone|  1|\n",
      "|5424|      view|   1307510|    dell|1911.25|513569912|  computers|            notebook|  1|\n",
      "|6919|      view|   4804055|   apple| 188.94|538178630|electronics|     audio.headphone|  1|\n",
      "|6998|      view|   4804056|   apple| 160.57|566285493|electronics|     audio.headphone|  1|\n",
      "|7491|      view|  25900023| almacom|  63.39|557673447|  computers|   components.cooler|  1|\n",
      "|7506|      view|   6400294|   intel| 459.47|556551950|  computers|      components.cpu|  1|\n",
      "|7887|      view|   3701212| philips| 386.11|529739082| appliances|  environment.vacuum|  1|\n",
      "|8180|      view|   1003533| samsung| 301.08|514378971|electronics|          smartphone|  1|\n",
      "|8314|      view|   6400310|   intel|  712.3|566285916|  computers|      components.cpu|  1|\n",
      "|8743|      view|   1005160|  xiaomi| 212.08|513311482|electronics|          smartphone|  1|\n",
      "|9381|      view|   6500634|    asus|  55.99|566286634|  computers|components.mother...|  1|\n",
      "|9453|      view|   1004434| samsung| 313.78|521109179|electronics|          smartphone|  1|\n",
      "+----+----------+----------+--------+-------+---------+-----------+--------------------+---+\n",
      "only showing top 20 rows\n",
      "\n"
     ]
    }
   ],
   "source": [
    "df_new = df_new.dropna()\n",
    "df_new.show()"
   ]
  },
  {
   "cell_type": "code",
   "execution_count": 13,
   "metadata": {},
   "outputs": [
    {
     "name": "stdout",
     "output_type": "stream",
     "text": [
      "Null values present in:\n",
      "category: 0\n",
      "product: 0\n",
      "day: 0\n",
      "brand: 0\n"
     ]
    }
   ],
   "source": [
    "print(\"Null values present in:\")\n",
    "for c in [\"category\",\"product\",\"day\", \"brand\"]:\n",
    "    print(c +':', df_new.where(F.col(c).isNull()).count())"
   ]
  },
  {
   "cell_type": "code",
   "execution_count": 14,
   "metadata": {},
   "outputs": [
    {
     "name": "stdout",
     "output_type": "stream",
     "text": [
      "Total number of rows: 42,089,570\n"
     ]
    }
   ],
   "source": [
    "count = df_new.count()\n",
    "print(f\"Total number of rows: {count:,d}\")"
   ]
  },
  {
   "cell_type": "code",
   "execution_count": 15,
   "metadata": {},
   "outputs": [
    {
     "name": "stdout",
     "output_type": "stream",
     "text": [
      "+-------+--------------------+----------+--------------------+--------+------------------+--------------------+-----------+-----------------+------------------+\n",
      "|summary|                  id|event_type|          product_id|   brand|             price|             user_id|   category|          product|               day|\n",
      "+-------+--------------------+----------+--------------------+--------+------------------+--------------------+-----------+-----------------+------------------+\n",
      "|  count|            42089570|  42089570|            42089570|42089570|          42089570|            42089570|   42089570|         42089570|          42089570|\n",
      "|   mean|2.843057495002189...|      null|   7069141.265143645|Infinity|360.21407357502267| 5.389993519299238E8|       null|             null|15.558973042490098|\n",
      "| stddev|1.660905644135284...|      null|1.4095484819486292E7|     NaN| 383.3233963131343|2.2914563921821624E7|       null|             null|7.4815895100845555|\n",
      "|    min|                   0|      cart|             1000365| a-elita|              0.77|            29515875|accessories|accessories.alarm|                 1|\n",
      "|    max|        575525723824|      view|           100028398|   zwerg|           2574.07|           579969851| stationery|           wallet|                30|\n",
      "+-------+--------------------+----------+--------------------+--------+------------------+--------------------+-----------+-----------------+------------------+\n",
      "\n"
     ]
    }
   ],
   "source": [
    "df_new.describe().show()"
   ]
  },
  {
   "cell_type": "code",
   "execution_count": 16,
   "metadata": {},
   "outputs": [],
   "source": [
    "save_path = hadoop_path_nov + '/selected_Data/' \n",
    "\n",
    "df_new.repartition(8).write.mode('overwrite').option('header','true').csv(save_path)\n",
    "spark.stop()"
   ]
  }
 ],
 "metadata": {
  "kernelspec": {
   "display_name": "Bigdata",
   "language": "python",
   "name": "python3"
  },
  "language_info": {
   "codemirror_mode": {
    "name": "ipython",
    "version": 3
   },
   "file_extension": ".py",
   "mimetype": "text/x-python",
   "name": "python",
   "nbconvert_exporter": "python",
   "pygments_lexer": "ipython3",
   "version": "3.11.5"
  }
 },
 "nbformat": 4,
 "nbformat_minor": 2
}
